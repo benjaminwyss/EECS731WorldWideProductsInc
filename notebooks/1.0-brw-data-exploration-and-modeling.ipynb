{
 "cells": [
  {
   "cell_type": "markdown",
   "metadata": {},
   "source": [
    "# World Wide Products Inc.\n",
    "\n",
    "a project for EECS 731 by Benjamin Wyss\n",
    "\n",
    "Examining historical product demand data to build time series forecasting models which predict the future demand for products\n",
    "\n",
    "###### python imports"
   ]
  },
  {
   "cell_type": "code",
   "execution_count": 558,
   "metadata": {},
   "outputs": [],
   "source": [
    "import numpy as np\n",
    "import pandas as pd\n",
    "import sklearn as skl\n",
    "import matplotlib.pyplot as plt\n",
    "plt.close('all')\n",
    "import warnings\n",
    "warnings.filterwarnings('ignore')\n",
    "from sklearn.model_selection import TimeSeriesSplit\n",
    "from sklearn.metrics import r2_score\n",
    "from sklearn.linear_model import LinearRegression\n",
    "from sklearn.ensemble import GradientBoostingRegressor\n",
    "from sklearn.ensemble import RandomForestRegressor\n",
    "from sklearn.neural_network import MLPRegressor"
   ]
  },
  {
   "cell_type": "markdown",
   "metadata": {},
   "source": [
    "### Reading Data Sets From CSV"
   ]
  },
  {
   "cell_type": "markdown",
   "metadata": {},
   "source": [
    "Historical Product Demand\n",
    "\n",
    "Taken from: https://www.kaggle.com/felixzhao/productdemandforecasting on 10/6/20"
   ]
  },
  {
   "cell_type": "markdown",
   "metadata": {},
   "source": [
    "###### Historical Product Demand Data Set"
   ]
  },
  {
   "cell_type": "code",
   "execution_count": 440,
   "metadata": {},
   "outputs": [],
   "source": [
    "df = pd.read_csv('../data/raw/Historical Product Demand.csv')"
   ]
  },
  {
   "cell_type": "code",
   "execution_count": 441,
   "metadata": {},
   "outputs": [
    {
     "data": {
      "text/html": [
       "<div>\n",
       "<style scoped>\n",
       "    .dataframe tbody tr th:only-of-type {\n",
       "        vertical-align: middle;\n",
       "    }\n",
       "\n",
       "    .dataframe tbody tr th {\n",
       "        vertical-align: top;\n",
       "    }\n",
       "\n",
       "    .dataframe thead th {\n",
       "        text-align: right;\n",
       "    }\n",
       "</style>\n",
       "<table border=\"1\" class=\"dataframe\">\n",
       "  <thead>\n",
       "    <tr style=\"text-align: right;\">\n",
       "      <th></th>\n",
       "      <th>Product_Code</th>\n",
       "      <th>Warehouse</th>\n",
       "      <th>Product_Category</th>\n",
       "      <th>Date</th>\n",
       "      <th>Order_Demand</th>\n",
       "    </tr>\n",
       "  </thead>\n",
       "  <tbody>\n",
       "    <tr>\n",
       "      <th>0</th>\n",
       "      <td>Product_0993</td>\n",
       "      <td>Whse_J</td>\n",
       "      <td>Category_028</td>\n",
       "      <td>2012/7/27</td>\n",
       "      <td>100</td>\n",
       "    </tr>\n",
       "    <tr>\n",
       "      <th>1</th>\n",
       "      <td>Product_0979</td>\n",
       "      <td>Whse_J</td>\n",
       "      <td>Category_028</td>\n",
       "      <td>2012/1/19</td>\n",
       "      <td>500</td>\n",
       "    </tr>\n",
       "    <tr>\n",
       "      <th>2</th>\n",
       "      <td>Product_0979</td>\n",
       "      <td>Whse_J</td>\n",
       "      <td>Category_028</td>\n",
       "      <td>2012/2/3</td>\n",
       "      <td>500</td>\n",
       "    </tr>\n",
       "    <tr>\n",
       "      <th>3</th>\n",
       "      <td>Product_0979</td>\n",
       "      <td>Whse_J</td>\n",
       "      <td>Category_028</td>\n",
       "      <td>2012/2/9</td>\n",
       "      <td>500</td>\n",
       "    </tr>\n",
       "    <tr>\n",
       "      <th>4</th>\n",
       "      <td>Product_0979</td>\n",
       "      <td>Whse_J</td>\n",
       "      <td>Category_028</td>\n",
       "      <td>2012/3/2</td>\n",
       "      <td>500</td>\n",
       "    </tr>\n",
       "    <tr>\n",
       "      <th>...</th>\n",
       "      <td>...</td>\n",
       "      <td>...</td>\n",
       "      <td>...</td>\n",
       "      <td>...</td>\n",
       "      <td>...</td>\n",
       "    </tr>\n",
       "    <tr>\n",
       "      <th>1048570</th>\n",
       "      <td>Product_1791</td>\n",
       "      <td>Whse_J</td>\n",
       "      <td>Category_006</td>\n",
       "      <td>2016/4/27</td>\n",
       "      <td>1000</td>\n",
       "    </tr>\n",
       "    <tr>\n",
       "      <th>1048571</th>\n",
       "      <td>Product_1974</td>\n",
       "      <td>Whse_J</td>\n",
       "      <td>Category_006</td>\n",
       "      <td>2016/4/27</td>\n",
       "      <td>1</td>\n",
       "    </tr>\n",
       "    <tr>\n",
       "      <th>1048572</th>\n",
       "      <td>Product_1787</td>\n",
       "      <td>Whse_J</td>\n",
       "      <td>Category_006</td>\n",
       "      <td>2016/4/28</td>\n",
       "      <td>2500</td>\n",
       "    </tr>\n",
       "    <tr>\n",
       "      <th>1048573</th>\n",
       "      <td>Product_0901</td>\n",
       "      <td>Whse_J</td>\n",
       "      <td>Category_023</td>\n",
       "      <td>2016/10/7</td>\n",
       "      <td>50</td>\n",
       "    </tr>\n",
       "    <tr>\n",
       "      <th>1048574</th>\n",
       "      <td>Product_0704</td>\n",
       "      <td>Whse_J</td>\n",
       "      <td>Category_001</td>\n",
       "      <td>2016/6/27</td>\n",
       "      <td>4</td>\n",
       "    </tr>\n",
       "  </tbody>\n",
       "</table>\n",
       "<p>1048575 rows × 5 columns</p>\n",
       "</div>"
      ],
      "text/plain": [
       "         Product_Code Warehouse Product_Category       Date Order_Demand\n",
       "0        Product_0993    Whse_J     Category_028  2012/7/27         100 \n",
       "1        Product_0979    Whse_J     Category_028  2012/1/19         500 \n",
       "2        Product_0979    Whse_J     Category_028   2012/2/3         500 \n",
       "3        Product_0979    Whse_J     Category_028   2012/2/9         500 \n",
       "4        Product_0979    Whse_J     Category_028   2012/3/2         500 \n",
       "...               ...       ...              ...        ...          ...\n",
       "1048570  Product_1791    Whse_J     Category_006  2016/4/27        1000 \n",
       "1048571  Product_1974    Whse_J     Category_006  2016/4/27           1 \n",
       "1048572  Product_1787    Whse_J     Category_006  2016/4/28        2500 \n",
       "1048573  Product_0901    Whse_J     Category_023  2016/10/7          50 \n",
       "1048574  Product_0704    Whse_J     Category_001  2016/6/27           4 \n",
       "\n",
       "[1048575 rows x 5 columns]"
      ]
     },
     "execution_count": 441,
     "metadata": {},
     "output_type": "execute_result"
    }
   ],
   "source": [
    "df"
   ]
  },
  {
   "cell_type": "markdown",
   "metadata": {},
   "source": [
    "## The Big Ideas\n",
    "\n",
    "Feature engineering and transformation can add value to this data set for building time series forecasting models in the following ways:\n",
    "\n",
    "(1): By splitting the Date column into multiple columns for day of week, day of month, day of year, week, month, and year, time interval granularity can be adjusted to yield the best results.\n",
    "\n",
    "(2): By one-hot encoding the Warehouse column, time series forecasting models can reason about the demand for a product at different warehouses, which should improve the model's results if different warehouses have different magnitudes of demand.\n",
    "\n",
    "(3): By selecting only the most promising and demand-correlated attributes as input features, time series forecasting models can achieve better results which are not tainted by detrimental input features.\n",
    "\n",
    "(4): By separating the data set into multiple data sets which correspond to a single product, separate time series forecasting models can be built for each product so that each model achieves the best possible results.\n",
    "\n",
    "## Exploratory Data Analysis\n",
    "\n",
    "### Cleaning the Data Set\n",
    "\n",
    "The Product_Category column is removed since I will be building time series forecasting models on a per-product basis. Since an individual product's category should not change throughout time, this column does not add any value to a time series forecasting model."
   ]
  },
  {
   "cell_type": "code",
   "execution_count": 442,
   "metadata": {},
   "outputs": [],
   "source": [
    "df = df[['Product_Code', 'Warehouse', 'Date', 'Order_Demand']]"
   ]
  },
  {
   "cell_type": "code",
   "execution_count": 443,
   "metadata": {
    "scrolled": false
   },
   "outputs": [
    {
     "data": {
      "text/html": [
       "<div>\n",
       "<style scoped>\n",
       "    .dataframe tbody tr th:only-of-type {\n",
       "        vertical-align: middle;\n",
       "    }\n",
       "\n",
       "    .dataframe tbody tr th {\n",
       "        vertical-align: top;\n",
       "    }\n",
       "\n",
       "    .dataframe thead th {\n",
       "        text-align: right;\n",
       "    }\n",
       "</style>\n",
       "<table border=\"1\" class=\"dataframe\">\n",
       "  <thead>\n",
       "    <tr style=\"text-align: right;\">\n",
       "      <th></th>\n",
       "      <th>Product_Code</th>\n",
       "      <th>Warehouse</th>\n",
       "      <th>Date</th>\n",
       "      <th>Order_Demand</th>\n",
       "    </tr>\n",
       "  </thead>\n",
       "  <tbody>\n",
       "    <tr>\n",
       "      <th>0</th>\n",
       "      <td>Product_0993</td>\n",
       "      <td>Whse_J</td>\n",
       "      <td>2012/7/27</td>\n",
       "      <td>100</td>\n",
       "    </tr>\n",
       "    <tr>\n",
       "      <th>1</th>\n",
       "      <td>Product_0979</td>\n",
       "      <td>Whse_J</td>\n",
       "      <td>2012/1/19</td>\n",
       "      <td>500</td>\n",
       "    </tr>\n",
       "    <tr>\n",
       "      <th>2</th>\n",
       "      <td>Product_0979</td>\n",
       "      <td>Whse_J</td>\n",
       "      <td>2012/2/3</td>\n",
       "      <td>500</td>\n",
       "    </tr>\n",
       "    <tr>\n",
       "      <th>3</th>\n",
       "      <td>Product_0979</td>\n",
       "      <td>Whse_J</td>\n",
       "      <td>2012/2/9</td>\n",
       "      <td>500</td>\n",
       "    </tr>\n",
       "    <tr>\n",
       "      <th>4</th>\n",
       "      <td>Product_0979</td>\n",
       "      <td>Whse_J</td>\n",
       "      <td>2012/3/2</td>\n",
       "      <td>500</td>\n",
       "    </tr>\n",
       "    <tr>\n",
       "      <th>...</th>\n",
       "      <td>...</td>\n",
       "      <td>...</td>\n",
       "      <td>...</td>\n",
       "      <td>...</td>\n",
       "    </tr>\n",
       "    <tr>\n",
       "      <th>1048570</th>\n",
       "      <td>Product_1791</td>\n",
       "      <td>Whse_J</td>\n",
       "      <td>2016/4/27</td>\n",
       "      <td>1000</td>\n",
       "    </tr>\n",
       "    <tr>\n",
       "      <th>1048571</th>\n",
       "      <td>Product_1974</td>\n",
       "      <td>Whse_J</td>\n",
       "      <td>2016/4/27</td>\n",
       "      <td>1</td>\n",
       "    </tr>\n",
       "    <tr>\n",
       "      <th>1048572</th>\n",
       "      <td>Product_1787</td>\n",
       "      <td>Whse_J</td>\n",
       "      <td>2016/4/28</td>\n",
       "      <td>2500</td>\n",
       "    </tr>\n",
       "    <tr>\n",
       "      <th>1048573</th>\n",
       "      <td>Product_0901</td>\n",
       "      <td>Whse_J</td>\n",
       "      <td>2016/10/7</td>\n",
       "      <td>50</td>\n",
       "    </tr>\n",
       "    <tr>\n",
       "      <th>1048574</th>\n",
       "      <td>Product_0704</td>\n",
       "      <td>Whse_J</td>\n",
       "      <td>2016/6/27</td>\n",
       "      <td>4</td>\n",
       "    </tr>\n",
       "  </tbody>\n",
       "</table>\n",
       "<p>1048575 rows × 4 columns</p>\n",
       "</div>"
      ],
      "text/plain": [
       "         Product_Code Warehouse       Date Order_Demand\n",
       "0        Product_0993    Whse_J  2012/7/27         100 \n",
       "1        Product_0979    Whse_J  2012/1/19         500 \n",
       "2        Product_0979    Whse_J   2012/2/3         500 \n",
       "3        Product_0979    Whse_J   2012/2/9         500 \n",
       "4        Product_0979    Whse_J   2012/3/2         500 \n",
       "...               ...       ...        ...          ...\n",
       "1048570  Product_1791    Whse_J  2016/4/27        1000 \n",
       "1048571  Product_1974    Whse_J  2016/4/27           1 \n",
       "1048572  Product_1787    Whse_J  2016/4/28        2500 \n",
       "1048573  Product_0901    Whse_J  2016/10/7          50 \n",
       "1048574  Product_0704    Whse_J  2016/6/27           4 \n",
       "\n",
       "[1048575 rows x 4 columns]"
      ]
     },
     "execution_count": 443,
     "metadata": {},
     "output_type": "execute_result"
    }
   ],
   "source": [
    "df"
   ]
  },
  {
   "cell_type": "markdown",
   "metadata": {},
   "source": [
    "The Product_Code and Warehouse columns' prefixes are removed so that the data set is easier to read."
   ]
  },
  {
   "cell_type": "code",
   "execution_count": 444,
   "metadata": {},
   "outputs": [],
   "source": [
    "df['Product_Code'] = df['Product_Code'].str[-4:]\n",
    "df['Warehouse'] = df['Warehouse'].str[-1:]"
   ]
  },
  {
   "cell_type": "code",
   "execution_count": 445,
   "metadata": {
    "scrolled": true
   },
   "outputs": [
    {
     "data": {
      "text/html": [
       "<div>\n",
       "<style scoped>\n",
       "    .dataframe tbody tr th:only-of-type {\n",
       "        vertical-align: middle;\n",
       "    }\n",
       "\n",
       "    .dataframe tbody tr th {\n",
       "        vertical-align: top;\n",
       "    }\n",
       "\n",
       "    .dataframe thead th {\n",
       "        text-align: right;\n",
       "    }\n",
       "</style>\n",
       "<table border=\"1\" class=\"dataframe\">\n",
       "  <thead>\n",
       "    <tr style=\"text-align: right;\">\n",
       "      <th></th>\n",
       "      <th>Product_Code</th>\n",
       "      <th>Warehouse</th>\n",
       "      <th>Date</th>\n",
       "      <th>Order_Demand</th>\n",
       "    </tr>\n",
       "  </thead>\n",
       "  <tbody>\n",
       "    <tr>\n",
       "      <th>0</th>\n",
       "      <td>0993</td>\n",
       "      <td>J</td>\n",
       "      <td>2012/7/27</td>\n",
       "      <td>100</td>\n",
       "    </tr>\n",
       "    <tr>\n",
       "      <th>1</th>\n",
       "      <td>0979</td>\n",
       "      <td>J</td>\n",
       "      <td>2012/1/19</td>\n",
       "      <td>500</td>\n",
       "    </tr>\n",
       "    <tr>\n",
       "      <th>2</th>\n",
       "      <td>0979</td>\n",
       "      <td>J</td>\n",
       "      <td>2012/2/3</td>\n",
       "      <td>500</td>\n",
       "    </tr>\n",
       "    <tr>\n",
       "      <th>3</th>\n",
       "      <td>0979</td>\n",
       "      <td>J</td>\n",
       "      <td>2012/2/9</td>\n",
       "      <td>500</td>\n",
       "    </tr>\n",
       "    <tr>\n",
       "      <th>4</th>\n",
       "      <td>0979</td>\n",
       "      <td>J</td>\n",
       "      <td>2012/3/2</td>\n",
       "      <td>500</td>\n",
       "    </tr>\n",
       "    <tr>\n",
       "      <th>...</th>\n",
       "      <td>...</td>\n",
       "      <td>...</td>\n",
       "      <td>...</td>\n",
       "      <td>...</td>\n",
       "    </tr>\n",
       "    <tr>\n",
       "      <th>1048570</th>\n",
       "      <td>1791</td>\n",
       "      <td>J</td>\n",
       "      <td>2016/4/27</td>\n",
       "      <td>1000</td>\n",
       "    </tr>\n",
       "    <tr>\n",
       "      <th>1048571</th>\n",
       "      <td>1974</td>\n",
       "      <td>J</td>\n",
       "      <td>2016/4/27</td>\n",
       "      <td>1</td>\n",
       "    </tr>\n",
       "    <tr>\n",
       "      <th>1048572</th>\n",
       "      <td>1787</td>\n",
       "      <td>J</td>\n",
       "      <td>2016/4/28</td>\n",
       "      <td>2500</td>\n",
       "    </tr>\n",
       "    <tr>\n",
       "      <th>1048573</th>\n",
       "      <td>0901</td>\n",
       "      <td>J</td>\n",
       "      <td>2016/10/7</td>\n",
       "      <td>50</td>\n",
       "    </tr>\n",
       "    <tr>\n",
       "      <th>1048574</th>\n",
       "      <td>0704</td>\n",
       "      <td>J</td>\n",
       "      <td>2016/6/27</td>\n",
       "      <td>4</td>\n",
       "    </tr>\n",
       "  </tbody>\n",
       "</table>\n",
       "<p>1048575 rows × 4 columns</p>\n",
       "</div>"
      ],
      "text/plain": [
       "        Product_Code Warehouse       Date Order_Demand\n",
       "0               0993         J  2012/7/27         100 \n",
       "1               0979         J  2012/1/19         500 \n",
       "2               0979         J   2012/2/3         500 \n",
       "3               0979         J   2012/2/9         500 \n",
       "4               0979         J   2012/3/2         500 \n",
       "...              ...       ...        ...          ...\n",
       "1048570         1791         J  2016/4/27        1000 \n",
       "1048571         1974         J  2016/4/27           1 \n",
       "1048572         1787         J  2016/4/28        2500 \n",
       "1048573         0901         J  2016/10/7          50 \n",
       "1048574         0704         J  2016/6/27           4 \n",
       "\n",
       "[1048575 rows x 4 columns]"
      ]
     },
     "execution_count": 445,
     "metadata": {},
     "output_type": "execute_result"
    }
   ],
   "source": [
    "df"
   ]
  },
  {
   "cell_type": "markdown",
   "metadata": {},
   "source": [
    "The Order_Demand column is converted to a numeric type so that time series forecasting models can reason about the data.\n",
    "\n",
    "When converting the Order_Demand column to a numeric type, some rows have a negative demand (indicated with parentheses). A product should not be able to have a negative demand, so these rows are dropped."
   ]
  },
  {
   "cell_type": "code",
   "execution_count": 446,
   "metadata": {},
   "outputs": [],
   "source": [
    "df = df[df.Order_Demand.str[0] != '(']\n",
    "df['Order_Demand'] = df['Order_Demand'].astype(float)"
   ]
  },
  {
   "cell_type": "code",
   "execution_count": 447,
   "metadata": {},
   "outputs": [
    {
     "data": {
      "text/html": [
       "<div>\n",
       "<style scoped>\n",
       "    .dataframe tbody tr th:only-of-type {\n",
       "        vertical-align: middle;\n",
       "    }\n",
       "\n",
       "    .dataframe tbody tr th {\n",
       "        vertical-align: top;\n",
       "    }\n",
       "\n",
       "    .dataframe thead th {\n",
       "        text-align: right;\n",
       "    }\n",
       "</style>\n",
       "<table border=\"1\" class=\"dataframe\">\n",
       "  <thead>\n",
       "    <tr style=\"text-align: right;\">\n",
       "      <th></th>\n",
       "      <th>Product_Code</th>\n",
       "      <th>Warehouse</th>\n",
       "      <th>Date</th>\n",
       "      <th>Order_Demand</th>\n",
       "    </tr>\n",
       "  </thead>\n",
       "  <tbody>\n",
       "    <tr>\n",
       "      <th>0</th>\n",
       "      <td>0993</td>\n",
       "      <td>J</td>\n",
       "      <td>2012/7/27</td>\n",
       "      <td>100.0</td>\n",
       "    </tr>\n",
       "    <tr>\n",
       "      <th>1</th>\n",
       "      <td>0979</td>\n",
       "      <td>J</td>\n",
       "      <td>2012/1/19</td>\n",
       "      <td>500.0</td>\n",
       "    </tr>\n",
       "    <tr>\n",
       "      <th>2</th>\n",
       "      <td>0979</td>\n",
       "      <td>J</td>\n",
       "      <td>2012/2/3</td>\n",
       "      <td>500.0</td>\n",
       "    </tr>\n",
       "    <tr>\n",
       "      <th>3</th>\n",
       "      <td>0979</td>\n",
       "      <td>J</td>\n",
       "      <td>2012/2/9</td>\n",
       "      <td>500.0</td>\n",
       "    </tr>\n",
       "    <tr>\n",
       "      <th>4</th>\n",
       "      <td>0979</td>\n",
       "      <td>J</td>\n",
       "      <td>2012/3/2</td>\n",
       "      <td>500.0</td>\n",
       "    </tr>\n",
       "    <tr>\n",
       "      <th>...</th>\n",
       "      <td>...</td>\n",
       "      <td>...</td>\n",
       "      <td>...</td>\n",
       "      <td>...</td>\n",
       "    </tr>\n",
       "    <tr>\n",
       "      <th>1048570</th>\n",
       "      <td>1791</td>\n",
       "      <td>J</td>\n",
       "      <td>2016/4/27</td>\n",
       "      <td>1000.0</td>\n",
       "    </tr>\n",
       "    <tr>\n",
       "      <th>1048571</th>\n",
       "      <td>1974</td>\n",
       "      <td>J</td>\n",
       "      <td>2016/4/27</td>\n",
       "      <td>1.0</td>\n",
       "    </tr>\n",
       "    <tr>\n",
       "      <th>1048572</th>\n",
       "      <td>1787</td>\n",
       "      <td>J</td>\n",
       "      <td>2016/4/28</td>\n",
       "      <td>2500.0</td>\n",
       "    </tr>\n",
       "    <tr>\n",
       "      <th>1048573</th>\n",
       "      <td>0901</td>\n",
       "      <td>J</td>\n",
       "      <td>2016/10/7</td>\n",
       "      <td>50.0</td>\n",
       "    </tr>\n",
       "    <tr>\n",
       "      <th>1048574</th>\n",
       "      <td>0704</td>\n",
       "      <td>J</td>\n",
       "      <td>2016/6/27</td>\n",
       "      <td>4.0</td>\n",
       "    </tr>\n",
       "  </tbody>\n",
       "</table>\n",
       "<p>1038106 rows × 4 columns</p>\n",
       "</div>"
      ],
      "text/plain": [
       "        Product_Code Warehouse       Date  Order_Demand\n",
       "0               0993         J  2012/7/27         100.0\n",
       "1               0979         J  2012/1/19         500.0\n",
       "2               0979         J   2012/2/3         500.0\n",
       "3               0979         J   2012/2/9         500.0\n",
       "4               0979         J   2012/3/2         500.0\n",
       "...              ...       ...        ...           ...\n",
       "1048570         1791         J  2016/4/27        1000.0\n",
       "1048571         1974         J  2016/4/27           1.0\n",
       "1048572         1787         J  2016/4/28        2500.0\n",
       "1048573         0901         J  2016/10/7          50.0\n",
       "1048574         0704         J  2016/6/27           4.0\n",
       "\n",
       "[1038106 rows x 4 columns]"
      ]
     },
     "execution_count": 447,
     "metadata": {},
     "output_type": "execute_result"
    }
   ],
   "source": [
    "df"
   ]
  },
  {
   "cell_type": "markdown",
   "metadata": {},
   "source": [
    "The data set is sorted by the Date column so that time series forecasting models can be trained sequentially by date."
   ]
  },
  {
   "cell_type": "code",
   "execution_count": 448,
   "metadata": {},
   "outputs": [],
   "source": [
    "df = df.sort_values(by=['Date'])"
   ]
  },
  {
   "cell_type": "code",
   "execution_count": 449,
   "metadata": {},
   "outputs": [
    {
     "data": {
      "text/html": [
       "<div>\n",
       "<style scoped>\n",
       "    .dataframe tbody tr th:only-of-type {\n",
       "        vertical-align: middle;\n",
       "    }\n",
       "\n",
       "    .dataframe tbody tr th {\n",
       "        vertical-align: top;\n",
       "    }\n",
       "\n",
       "    .dataframe thead th {\n",
       "        text-align: right;\n",
       "    }\n",
       "</style>\n",
       "<table border=\"1\" class=\"dataframe\">\n",
       "  <thead>\n",
       "    <tr style=\"text-align: right;\">\n",
       "      <th></th>\n",
       "      <th>Product_Code</th>\n",
       "      <th>Warehouse</th>\n",
       "      <th>Date</th>\n",
       "      <th>Order_Demand</th>\n",
       "    </tr>\n",
       "  </thead>\n",
       "  <tbody>\n",
       "    <tr>\n",
       "      <th>44799</th>\n",
       "      <td>0965</td>\n",
       "      <td>A</td>\n",
       "      <td>2011/1/8</td>\n",
       "      <td>2.0</td>\n",
       "    </tr>\n",
       "    <tr>\n",
       "      <th>75193</th>\n",
       "      <td>0642</td>\n",
       "      <td>C</td>\n",
       "      <td>2011/10/31</td>\n",
       "      <td>3.0</td>\n",
       "    </tr>\n",
       "    <tr>\n",
       "      <th>44795</th>\n",
       "      <td>0965</td>\n",
       "      <td>A</td>\n",
       "      <td>2011/11/18</td>\n",
       "      <td>1.0</td>\n",
       "    </tr>\n",
       "    <tr>\n",
       "      <th>44450</th>\n",
       "      <td>0980</td>\n",
       "      <td>A</td>\n",
       "      <td>2011/11/18</td>\n",
       "      <td>4000.0</td>\n",
       "    </tr>\n",
       "    <tr>\n",
       "      <th>44796</th>\n",
       "      <td>0965</td>\n",
       "      <td>A</td>\n",
       "      <td>2011/11/21</td>\n",
       "      <td>3.0</td>\n",
       "    </tr>\n",
       "    <tr>\n",
       "      <th>...</th>\n",
       "      <td>...</td>\n",
       "      <td>...</td>\n",
       "      <td>...</td>\n",
       "      <td>...</td>\n",
       "    </tr>\n",
       "    <tr>\n",
       "      <th>901973</th>\n",
       "      <td>1423</td>\n",
       "      <td>A</td>\n",
       "      <td>NaN</td>\n",
       "      <td>500.0</td>\n",
       "    </tr>\n",
       "    <tr>\n",
       "      <th>901974</th>\n",
       "      <td>1424</td>\n",
       "      <td>A</td>\n",
       "      <td>NaN</td>\n",
       "      <td>1400.0</td>\n",
       "    </tr>\n",
       "    <tr>\n",
       "      <th>901975</th>\n",
       "      <td>1419</td>\n",
       "      <td>A</td>\n",
       "      <td>NaN</td>\n",
       "      <td>600.0</td>\n",
       "    </tr>\n",
       "    <tr>\n",
       "      <th>981716</th>\n",
       "      <td>0130</td>\n",
       "      <td>A</td>\n",
       "      <td>NaN</td>\n",
       "      <td>20.0</td>\n",
       "    </tr>\n",
       "    <tr>\n",
       "      <th>989232</th>\n",
       "      <td>1891</td>\n",
       "      <td>A</td>\n",
       "      <td>NaN</td>\n",
       "      <td>40.0</td>\n",
       "    </tr>\n",
       "  </tbody>\n",
       "</table>\n",
       "<p>1038106 rows × 4 columns</p>\n",
       "</div>"
      ],
      "text/plain": [
       "       Product_Code Warehouse        Date  Order_Demand\n",
       "44799          0965         A    2011/1/8           2.0\n",
       "75193          0642         C  2011/10/31           3.0\n",
       "44795          0965         A  2011/11/18           1.0\n",
       "44450          0980         A  2011/11/18        4000.0\n",
       "44796          0965         A  2011/11/21           3.0\n",
       "...             ...       ...         ...           ...\n",
       "901973         1423         A         NaN         500.0\n",
       "901974         1424         A         NaN        1400.0\n",
       "901975         1419         A         NaN         600.0\n",
       "981716         0130         A         NaN          20.0\n",
       "989232         1891         A         NaN          40.0\n",
       "\n",
       "[1038106 rows x 4 columns]"
      ]
     },
     "execution_count": 449,
     "metadata": {},
     "output_type": "execute_result"
    }
   ],
   "source": [
    "df"
   ]
  },
  {
   "cell_type": "markdown",
   "metadata": {},
   "source": [
    "Some rows have no listed Date attribute. These rows are dropped from the data set because date information is necessary to build time series forecasting models."
   ]
  },
  {
   "cell_type": "code",
   "execution_count": 450,
   "metadata": {},
   "outputs": [],
   "source": [
    "df = df.dropna()"
   ]
  },
  {
   "cell_type": "code",
   "execution_count": 451,
   "metadata": {},
   "outputs": [
    {
     "data": {
      "text/html": [
       "<div>\n",
       "<style scoped>\n",
       "    .dataframe tbody tr th:only-of-type {\n",
       "        vertical-align: middle;\n",
       "    }\n",
       "\n",
       "    .dataframe tbody tr th {\n",
       "        vertical-align: top;\n",
       "    }\n",
       "\n",
       "    .dataframe thead th {\n",
       "        text-align: right;\n",
       "    }\n",
       "</style>\n",
       "<table border=\"1\" class=\"dataframe\">\n",
       "  <thead>\n",
       "    <tr style=\"text-align: right;\">\n",
       "      <th></th>\n",
       "      <th>Product_Code</th>\n",
       "      <th>Warehouse</th>\n",
       "      <th>Date</th>\n",
       "      <th>Order_Demand</th>\n",
       "    </tr>\n",
       "  </thead>\n",
       "  <tbody>\n",
       "    <tr>\n",
       "      <th>44799</th>\n",
       "      <td>0965</td>\n",
       "      <td>A</td>\n",
       "      <td>2011/1/8</td>\n",
       "      <td>2.0</td>\n",
       "    </tr>\n",
       "    <tr>\n",
       "      <th>75193</th>\n",
       "      <td>0642</td>\n",
       "      <td>C</td>\n",
       "      <td>2011/10/31</td>\n",
       "      <td>3.0</td>\n",
       "    </tr>\n",
       "    <tr>\n",
       "      <th>44795</th>\n",
       "      <td>0965</td>\n",
       "      <td>A</td>\n",
       "      <td>2011/11/18</td>\n",
       "      <td>1.0</td>\n",
       "    </tr>\n",
       "    <tr>\n",
       "      <th>44450</th>\n",
       "      <td>0980</td>\n",
       "      <td>A</td>\n",
       "      <td>2011/11/18</td>\n",
       "      <td>4000.0</td>\n",
       "    </tr>\n",
       "    <tr>\n",
       "      <th>44796</th>\n",
       "      <td>0965</td>\n",
       "      <td>A</td>\n",
       "      <td>2011/11/21</td>\n",
       "      <td>3.0</td>\n",
       "    </tr>\n",
       "    <tr>\n",
       "      <th>...</th>\n",
       "      <td>...</td>\n",
       "      <td>...</td>\n",
       "      <td>...</td>\n",
       "      <td>...</td>\n",
       "    </tr>\n",
       "    <tr>\n",
       "      <th>920140</th>\n",
       "      <td>0025</td>\n",
       "      <td>J</td>\n",
       "      <td>2017/1/6</td>\n",
       "      <td>500.0</td>\n",
       "    </tr>\n",
       "    <tr>\n",
       "      <th>921384</th>\n",
       "      <td>1316</td>\n",
       "      <td>J</td>\n",
       "      <td>2017/1/6</td>\n",
       "      <td>10000.0</td>\n",
       "    </tr>\n",
       "    <tr>\n",
       "      <th>863020</th>\n",
       "      <td>1904</td>\n",
       "      <td>C</td>\n",
       "      <td>2017/1/9</td>\n",
       "      <td>4000.0</td>\n",
       "    </tr>\n",
       "    <tr>\n",
       "      <th>908844</th>\n",
       "      <td>0471</td>\n",
       "      <td>C</td>\n",
       "      <td>2017/1/9</td>\n",
       "      <td>30.0</td>\n",
       "    </tr>\n",
       "    <tr>\n",
       "      <th>908447</th>\n",
       "      <td>0250</td>\n",
       "      <td>C</td>\n",
       "      <td>2017/1/9</td>\n",
       "      <td>148.0</td>\n",
       "    </tr>\n",
       "  </tbody>\n",
       "</table>\n",
       "<p>1031437 rows × 4 columns</p>\n",
       "</div>"
      ],
      "text/plain": [
       "       Product_Code Warehouse        Date  Order_Demand\n",
       "44799          0965         A    2011/1/8           2.0\n",
       "75193          0642         C  2011/10/31           3.0\n",
       "44795          0965         A  2011/11/18           1.0\n",
       "44450          0980         A  2011/11/18        4000.0\n",
       "44796          0965         A  2011/11/21           3.0\n",
       "...             ...       ...         ...           ...\n",
       "920140         0025         J    2017/1/6         500.0\n",
       "921384         1316         J    2017/1/6       10000.0\n",
       "863020         1904         C    2017/1/9        4000.0\n",
       "908844         0471         C    2017/1/9          30.0\n",
       "908447         0250         C    2017/1/9         148.0\n",
       "\n",
       "[1031437 rows x 4 columns]"
      ]
     },
     "execution_count": 451,
     "metadata": {},
     "output_type": "execute_result"
    }
   ],
   "source": [
    "df"
   ]
  },
  {
   "cell_type": "markdown",
   "metadata": {},
   "source": [
    "### Transforming the data set\n",
    "\n",
    "##### Column Splitting the Date Column\n",
    "\n",
    "The Date column is split into  columns--DayOfWeek, DayOfMonth, DayOfYear, Week, Month, and Year, so that different numeric representations of this data is obtained. Once this column is split, the original Date column is removed from the data set because it is a textual representation of the data which a time series forecasting model cannot reason about."
   ]
  },
  {
   "cell_type": "code",
   "execution_count": 452,
   "metadata": {},
   "outputs": [],
   "source": [
    "dateSeries = pd.to_datetime(df['Date'], format='%Y/%m/%d', errors='coerce')\n",
    "df['DayOfWeek'] = dateSeries.dt.dayofweek\n",
    "df['DayOfMonth'] = dateSeries.dt.day\n",
    "df['DayOfYear'] = dateSeries.dt.dayofyear\n",
    "df['Week'] = dateSeries.dt.weekofyear\n",
    "df['Month'] = dateSeries.dt.month\n",
    "df['Year'] = dateSeries.dt.year\n",
    "date = df.pop('Date')"
   ]
  },
  {
   "cell_type": "code",
   "execution_count": 453,
   "metadata": {},
   "outputs": [
    {
     "data": {
      "text/html": [
       "<div>\n",
       "<style scoped>\n",
       "    .dataframe tbody tr th:only-of-type {\n",
       "        vertical-align: middle;\n",
       "    }\n",
       "\n",
       "    .dataframe tbody tr th {\n",
       "        vertical-align: top;\n",
       "    }\n",
       "\n",
       "    .dataframe thead th {\n",
       "        text-align: right;\n",
       "    }\n",
       "</style>\n",
       "<table border=\"1\" class=\"dataframe\">\n",
       "  <thead>\n",
       "    <tr style=\"text-align: right;\">\n",
       "      <th></th>\n",
       "      <th>Product_Code</th>\n",
       "      <th>Warehouse</th>\n",
       "      <th>Order_Demand</th>\n",
       "      <th>DayOfWeek</th>\n",
       "      <th>DayOfMonth</th>\n",
       "      <th>DayOfYear</th>\n",
       "      <th>Week</th>\n",
       "      <th>Month</th>\n",
       "      <th>Year</th>\n",
       "    </tr>\n",
       "  </thead>\n",
       "  <tbody>\n",
       "    <tr>\n",
       "      <th>44799</th>\n",
       "      <td>0965</td>\n",
       "      <td>A</td>\n",
       "      <td>2.0</td>\n",
       "      <td>5</td>\n",
       "      <td>8</td>\n",
       "      <td>8</td>\n",
       "      <td>1</td>\n",
       "      <td>1</td>\n",
       "      <td>2011</td>\n",
       "    </tr>\n",
       "    <tr>\n",
       "      <th>75193</th>\n",
       "      <td>0642</td>\n",
       "      <td>C</td>\n",
       "      <td>3.0</td>\n",
       "      <td>0</td>\n",
       "      <td>31</td>\n",
       "      <td>304</td>\n",
       "      <td>44</td>\n",
       "      <td>10</td>\n",
       "      <td>2011</td>\n",
       "    </tr>\n",
       "    <tr>\n",
       "      <th>44795</th>\n",
       "      <td>0965</td>\n",
       "      <td>A</td>\n",
       "      <td>1.0</td>\n",
       "      <td>4</td>\n",
       "      <td>18</td>\n",
       "      <td>322</td>\n",
       "      <td>46</td>\n",
       "      <td>11</td>\n",
       "      <td>2011</td>\n",
       "    </tr>\n",
       "    <tr>\n",
       "      <th>44450</th>\n",
       "      <td>0980</td>\n",
       "      <td>A</td>\n",
       "      <td>4000.0</td>\n",
       "      <td>4</td>\n",
       "      <td>18</td>\n",
       "      <td>322</td>\n",
       "      <td>46</td>\n",
       "      <td>11</td>\n",
       "      <td>2011</td>\n",
       "    </tr>\n",
       "    <tr>\n",
       "      <th>44796</th>\n",
       "      <td>0965</td>\n",
       "      <td>A</td>\n",
       "      <td>3.0</td>\n",
       "      <td>0</td>\n",
       "      <td>21</td>\n",
       "      <td>325</td>\n",
       "      <td>47</td>\n",
       "      <td>11</td>\n",
       "      <td>2011</td>\n",
       "    </tr>\n",
       "    <tr>\n",
       "      <th>...</th>\n",
       "      <td>...</td>\n",
       "      <td>...</td>\n",
       "      <td>...</td>\n",
       "      <td>...</td>\n",
       "      <td>...</td>\n",
       "      <td>...</td>\n",
       "      <td>...</td>\n",
       "      <td>...</td>\n",
       "      <td>...</td>\n",
       "    </tr>\n",
       "    <tr>\n",
       "      <th>920140</th>\n",
       "      <td>0025</td>\n",
       "      <td>J</td>\n",
       "      <td>500.0</td>\n",
       "      <td>4</td>\n",
       "      <td>6</td>\n",
       "      <td>6</td>\n",
       "      <td>1</td>\n",
       "      <td>1</td>\n",
       "      <td>2017</td>\n",
       "    </tr>\n",
       "    <tr>\n",
       "      <th>921384</th>\n",
       "      <td>1316</td>\n",
       "      <td>J</td>\n",
       "      <td>10000.0</td>\n",
       "      <td>4</td>\n",
       "      <td>6</td>\n",
       "      <td>6</td>\n",
       "      <td>1</td>\n",
       "      <td>1</td>\n",
       "      <td>2017</td>\n",
       "    </tr>\n",
       "    <tr>\n",
       "      <th>863020</th>\n",
       "      <td>1904</td>\n",
       "      <td>C</td>\n",
       "      <td>4000.0</td>\n",
       "      <td>0</td>\n",
       "      <td>9</td>\n",
       "      <td>9</td>\n",
       "      <td>2</td>\n",
       "      <td>1</td>\n",
       "      <td>2017</td>\n",
       "    </tr>\n",
       "    <tr>\n",
       "      <th>908844</th>\n",
       "      <td>0471</td>\n",
       "      <td>C</td>\n",
       "      <td>30.0</td>\n",
       "      <td>0</td>\n",
       "      <td>9</td>\n",
       "      <td>9</td>\n",
       "      <td>2</td>\n",
       "      <td>1</td>\n",
       "      <td>2017</td>\n",
       "    </tr>\n",
       "    <tr>\n",
       "      <th>908447</th>\n",
       "      <td>0250</td>\n",
       "      <td>C</td>\n",
       "      <td>148.0</td>\n",
       "      <td>0</td>\n",
       "      <td>9</td>\n",
       "      <td>9</td>\n",
       "      <td>2</td>\n",
       "      <td>1</td>\n",
       "      <td>2017</td>\n",
       "    </tr>\n",
       "  </tbody>\n",
       "</table>\n",
       "<p>1031437 rows × 9 columns</p>\n",
       "</div>"
      ],
      "text/plain": [
       "       Product_Code Warehouse  Order_Demand  DayOfWeek  DayOfMonth  DayOfYear  \\\n",
       "44799          0965         A           2.0          5           8          8   \n",
       "75193          0642         C           3.0          0          31        304   \n",
       "44795          0965         A           1.0          4          18        322   \n",
       "44450          0980         A        4000.0          4          18        322   \n",
       "44796          0965         A           3.0          0          21        325   \n",
       "...             ...       ...           ...        ...         ...        ...   \n",
       "920140         0025         J         500.0          4           6          6   \n",
       "921384         1316         J       10000.0          4           6          6   \n",
       "863020         1904         C        4000.0          0           9          9   \n",
       "908844         0471         C          30.0          0           9          9   \n",
       "908447         0250         C         148.0          0           9          9   \n",
       "\n",
       "        Week  Month  Year  \n",
       "44799      1      1  2011  \n",
       "75193     44     10  2011  \n",
       "44795     46     11  2011  \n",
       "44450     46     11  2011  \n",
       "44796     47     11  2011  \n",
       "...      ...    ...   ...  \n",
       "920140     1      1  2017  \n",
       "921384     1      1  2017  \n",
       "863020     2      1  2017  \n",
       "908844     2      1  2017  \n",
       "908447     2      1  2017  \n",
       "\n",
       "[1031437 rows x 9 columns]"
      ]
     },
     "execution_count": 453,
     "metadata": {},
     "output_type": "execute_result"
    }
   ],
   "source": [
    "df"
   ]
  },
  {
   "cell_type": "markdown",
   "metadata": {},
   "source": [
    "##### Transforming the Year Column to start at Year 0\n",
    "\n",
    "To prevent time series forecasting models from treating the Year column with higher influence because it has a large minimum value, the Year column is transformed to begin at year 0"
   ]
  },
  {
   "cell_type": "code",
   "execution_count": 454,
   "metadata": {},
   "outputs": [],
   "source": [
    "df['Year'] = df.Year - 2011"
   ]
  },
  {
   "cell_type": "code",
   "execution_count": 455,
   "metadata": {},
   "outputs": [
    {
     "data": {
      "text/html": [
       "<div>\n",
       "<style scoped>\n",
       "    .dataframe tbody tr th:only-of-type {\n",
       "        vertical-align: middle;\n",
       "    }\n",
       "\n",
       "    .dataframe tbody tr th {\n",
       "        vertical-align: top;\n",
       "    }\n",
       "\n",
       "    .dataframe thead th {\n",
       "        text-align: right;\n",
       "    }\n",
       "</style>\n",
       "<table border=\"1\" class=\"dataframe\">\n",
       "  <thead>\n",
       "    <tr style=\"text-align: right;\">\n",
       "      <th></th>\n",
       "      <th>Product_Code</th>\n",
       "      <th>Warehouse</th>\n",
       "      <th>Order_Demand</th>\n",
       "      <th>DayOfWeek</th>\n",
       "      <th>DayOfMonth</th>\n",
       "      <th>DayOfYear</th>\n",
       "      <th>Week</th>\n",
       "      <th>Month</th>\n",
       "      <th>Year</th>\n",
       "    </tr>\n",
       "  </thead>\n",
       "  <tbody>\n",
       "    <tr>\n",
       "      <th>44799</th>\n",
       "      <td>0965</td>\n",
       "      <td>A</td>\n",
       "      <td>2.0</td>\n",
       "      <td>5</td>\n",
       "      <td>8</td>\n",
       "      <td>8</td>\n",
       "      <td>1</td>\n",
       "      <td>1</td>\n",
       "      <td>0</td>\n",
       "    </tr>\n",
       "    <tr>\n",
       "      <th>75193</th>\n",
       "      <td>0642</td>\n",
       "      <td>C</td>\n",
       "      <td>3.0</td>\n",
       "      <td>0</td>\n",
       "      <td>31</td>\n",
       "      <td>304</td>\n",
       "      <td>44</td>\n",
       "      <td>10</td>\n",
       "      <td>0</td>\n",
       "    </tr>\n",
       "    <tr>\n",
       "      <th>44795</th>\n",
       "      <td>0965</td>\n",
       "      <td>A</td>\n",
       "      <td>1.0</td>\n",
       "      <td>4</td>\n",
       "      <td>18</td>\n",
       "      <td>322</td>\n",
       "      <td>46</td>\n",
       "      <td>11</td>\n",
       "      <td>0</td>\n",
       "    </tr>\n",
       "    <tr>\n",
       "      <th>44450</th>\n",
       "      <td>0980</td>\n",
       "      <td>A</td>\n",
       "      <td>4000.0</td>\n",
       "      <td>4</td>\n",
       "      <td>18</td>\n",
       "      <td>322</td>\n",
       "      <td>46</td>\n",
       "      <td>11</td>\n",
       "      <td>0</td>\n",
       "    </tr>\n",
       "    <tr>\n",
       "      <th>44796</th>\n",
       "      <td>0965</td>\n",
       "      <td>A</td>\n",
       "      <td>3.0</td>\n",
       "      <td>0</td>\n",
       "      <td>21</td>\n",
       "      <td>325</td>\n",
       "      <td>47</td>\n",
       "      <td>11</td>\n",
       "      <td>0</td>\n",
       "    </tr>\n",
       "    <tr>\n",
       "      <th>...</th>\n",
       "      <td>...</td>\n",
       "      <td>...</td>\n",
       "      <td>...</td>\n",
       "      <td>...</td>\n",
       "      <td>...</td>\n",
       "      <td>...</td>\n",
       "      <td>...</td>\n",
       "      <td>...</td>\n",
       "      <td>...</td>\n",
       "    </tr>\n",
       "    <tr>\n",
       "      <th>920140</th>\n",
       "      <td>0025</td>\n",
       "      <td>J</td>\n",
       "      <td>500.0</td>\n",
       "      <td>4</td>\n",
       "      <td>6</td>\n",
       "      <td>6</td>\n",
       "      <td>1</td>\n",
       "      <td>1</td>\n",
       "      <td>6</td>\n",
       "    </tr>\n",
       "    <tr>\n",
       "      <th>921384</th>\n",
       "      <td>1316</td>\n",
       "      <td>J</td>\n",
       "      <td>10000.0</td>\n",
       "      <td>4</td>\n",
       "      <td>6</td>\n",
       "      <td>6</td>\n",
       "      <td>1</td>\n",
       "      <td>1</td>\n",
       "      <td>6</td>\n",
       "    </tr>\n",
       "    <tr>\n",
       "      <th>863020</th>\n",
       "      <td>1904</td>\n",
       "      <td>C</td>\n",
       "      <td>4000.0</td>\n",
       "      <td>0</td>\n",
       "      <td>9</td>\n",
       "      <td>9</td>\n",
       "      <td>2</td>\n",
       "      <td>1</td>\n",
       "      <td>6</td>\n",
       "    </tr>\n",
       "    <tr>\n",
       "      <th>908844</th>\n",
       "      <td>0471</td>\n",
       "      <td>C</td>\n",
       "      <td>30.0</td>\n",
       "      <td>0</td>\n",
       "      <td>9</td>\n",
       "      <td>9</td>\n",
       "      <td>2</td>\n",
       "      <td>1</td>\n",
       "      <td>6</td>\n",
       "    </tr>\n",
       "    <tr>\n",
       "      <th>908447</th>\n",
       "      <td>0250</td>\n",
       "      <td>C</td>\n",
       "      <td>148.0</td>\n",
       "      <td>0</td>\n",
       "      <td>9</td>\n",
       "      <td>9</td>\n",
       "      <td>2</td>\n",
       "      <td>1</td>\n",
       "      <td>6</td>\n",
       "    </tr>\n",
       "  </tbody>\n",
       "</table>\n",
       "<p>1031437 rows × 9 columns</p>\n",
       "</div>"
      ],
      "text/plain": [
       "       Product_Code Warehouse  Order_Demand  DayOfWeek  DayOfMonth  DayOfYear  \\\n",
       "44799          0965         A           2.0          5           8          8   \n",
       "75193          0642         C           3.0          0          31        304   \n",
       "44795          0965         A           1.0          4          18        322   \n",
       "44450          0980         A        4000.0          4          18        322   \n",
       "44796          0965         A           3.0          0          21        325   \n",
       "...             ...       ...           ...        ...         ...        ...   \n",
       "920140         0025         J         500.0          4           6          6   \n",
       "921384         1316         J       10000.0          4           6          6   \n",
       "863020         1904         C        4000.0          0           9          9   \n",
       "908844         0471         C          30.0          0           9          9   \n",
       "908447         0250         C         148.0          0           9          9   \n",
       "\n",
       "        Week  Month  Year  \n",
       "44799      1      1     0  \n",
       "75193     44     10     0  \n",
       "44795     46     11     0  \n",
       "44450     46     11     0  \n",
       "44796     47     11     0  \n",
       "...      ...    ...   ...  \n",
       "920140     1      1     6  \n",
       "921384     1      1     6  \n",
       "863020     2      1     6  \n",
       "908844     2      1     6  \n",
       "908447     2      1     6  \n",
       "\n",
       "[1031437 rows x 9 columns]"
      ]
     },
     "execution_count": 455,
     "metadata": {},
     "output_type": "execute_result"
    }
   ],
   "source": [
    "df"
   ]
  },
  {
   "cell_type": "markdown",
   "metadata": {},
   "source": [
    "##### One-Hot Encoding the Warehouse column\n",
    "\n",
    "Because different warehouses might differ in terms of demand magnitude, the warehouse column is one-hot encoded so that time series forecasting models can distinguish between different warehouses. One-hot encoding is selected over label encoding because label encoding introduces arbitrary distances between different warehouses which will influence a time series forecasting model"
   ]
  },
  {
   "cell_type": "code",
   "execution_count": 456,
   "metadata": {},
   "outputs": [],
   "source": [
    "df = pd.get_dummies(df, columns=['Warehouse'])"
   ]
  },
  {
   "cell_type": "code",
   "execution_count": 457,
   "metadata": {},
   "outputs": [
    {
     "data": {
      "text/html": [
       "<div>\n",
       "<style scoped>\n",
       "    .dataframe tbody tr th:only-of-type {\n",
       "        vertical-align: middle;\n",
       "    }\n",
       "\n",
       "    .dataframe tbody tr th {\n",
       "        vertical-align: top;\n",
       "    }\n",
       "\n",
       "    .dataframe thead th {\n",
       "        text-align: right;\n",
       "    }\n",
       "</style>\n",
       "<table border=\"1\" class=\"dataframe\">\n",
       "  <thead>\n",
       "    <tr style=\"text-align: right;\">\n",
       "      <th></th>\n",
       "      <th>Product_Code</th>\n",
       "      <th>Order_Demand</th>\n",
       "      <th>DayOfWeek</th>\n",
       "      <th>DayOfMonth</th>\n",
       "      <th>DayOfYear</th>\n",
       "      <th>Week</th>\n",
       "      <th>Month</th>\n",
       "      <th>Year</th>\n",
       "      <th>Warehouse_A</th>\n",
       "      <th>Warehouse_C</th>\n",
       "      <th>Warehouse_J</th>\n",
       "      <th>Warehouse_S</th>\n",
       "    </tr>\n",
       "  </thead>\n",
       "  <tbody>\n",
       "    <tr>\n",
       "      <th>44799</th>\n",
       "      <td>0965</td>\n",
       "      <td>2.0</td>\n",
       "      <td>5</td>\n",
       "      <td>8</td>\n",
       "      <td>8</td>\n",
       "      <td>1</td>\n",
       "      <td>1</td>\n",
       "      <td>0</td>\n",
       "      <td>1</td>\n",
       "      <td>0</td>\n",
       "      <td>0</td>\n",
       "      <td>0</td>\n",
       "    </tr>\n",
       "    <tr>\n",
       "      <th>75193</th>\n",
       "      <td>0642</td>\n",
       "      <td>3.0</td>\n",
       "      <td>0</td>\n",
       "      <td>31</td>\n",
       "      <td>304</td>\n",
       "      <td>44</td>\n",
       "      <td>10</td>\n",
       "      <td>0</td>\n",
       "      <td>0</td>\n",
       "      <td>1</td>\n",
       "      <td>0</td>\n",
       "      <td>0</td>\n",
       "    </tr>\n",
       "    <tr>\n",
       "      <th>44795</th>\n",
       "      <td>0965</td>\n",
       "      <td>1.0</td>\n",
       "      <td>4</td>\n",
       "      <td>18</td>\n",
       "      <td>322</td>\n",
       "      <td>46</td>\n",
       "      <td>11</td>\n",
       "      <td>0</td>\n",
       "      <td>1</td>\n",
       "      <td>0</td>\n",
       "      <td>0</td>\n",
       "      <td>0</td>\n",
       "    </tr>\n",
       "    <tr>\n",
       "      <th>44450</th>\n",
       "      <td>0980</td>\n",
       "      <td>4000.0</td>\n",
       "      <td>4</td>\n",
       "      <td>18</td>\n",
       "      <td>322</td>\n",
       "      <td>46</td>\n",
       "      <td>11</td>\n",
       "      <td>0</td>\n",
       "      <td>1</td>\n",
       "      <td>0</td>\n",
       "      <td>0</td>\n",
       "      <td>0</td>\n",
       "    </tr>\n",
       "    <tr>\n",
       "      <th>44796</th>\n",
       "      <td>0965</td>\n",
       "      <td>3.0</td>\n",
       "      <td>0</td>\n",
       "      <td>21</td>\n",
       "      <td>325</td>\n",
       "      <td>47</td>\n",
       "      <td>11</td>\n",
       "      <td>0</td>\n",
       "      <td>1</td>\n",
       "      <td>0</td>\n",
       "      <td>0</td>\n",
       "      <td>0</td>\n",
       "    </tr>\n",
       "    <tr>\n",
       "      <th>...</th>\n",
       "      <td>...</td>\n",
       "      <td>...</td>\n",
       "      <td>...</td>\n",
       "      <td>...</td>\n",
       "      <td>...</td>\n",
       "      <td>...</td>\n",
       "      <td>...</td>\n",
       "      <td>...</td>\n",
       "      <td>...</td>\n",
       "      <td>...</td>\n",
       "      <td>...</td>\n",
       "      <td>...</td>\n",
       "    </tr>\n",
       "    <tr>\n",
       "      <th>920140</th>\n",
       "      <td>0025</td>\n",
       "      <td>500.0</td>\n",
       "      <td>4</td>\n",
       "      <td>6</td>\n",
       "      <td>6</td>\n",
       "      <td>1</td>\n",
       "      <td>1</td>\n",
       "      <td>6</td>\n",
       "      <td>0</td>\n",
       "      <td>0</td>\n",
       "      <td>1</td>\n",
       "      <td>0</td>\n",
       "    </tr>\n",
       "    <tr>\n",
       "      <th>921384</th>\n",
       "      <td>1316</td>\n",
       "      <td>10000.0</td>\n",
       "      <td>4</td>\n",
       "      <td>6</td>\n",
       "      <td>6</td>\n",
       "      <td>1</td>\n",
       "      <td>1</td>\n",
       "      <td>6</td>\n",
       "      <td>0</td>\n",
       "      <td>0</td>\n",
       "      <td>1</td>\n",
       "      <td>0</td>\n",
       "    </tr>\n",
       "    <tr>\n",
       "      <th>863020</th>\n",
       "      <td>1904</td>\n",
       "      <td>4000.0</td>\n",
       "      <td>0</td>\n",
       "      <td>9</td>\n",
       "      <td>9</td>\n",
       "      <td>2</td>\n",
       "      <td>1</td>\n",
       "      <td>6</td>\n",
       "      <td>0</td>\n",
       "      <td>1</td>\n",
       "      <td>0</td>\n",
       "      <td>0</td>\n",
       "    </tr>\n",
       "    <tr>\n",
       "      <th>908844</th>\n",
       "      <td>0471</td>\n",
       "      <td>30.0</td>\n",
       "      <td>0</td>\n",
       "      <td>9</td>\n",
       "      <td>9</td>\n",
       "      <td>2</td>\n",
       "      <td>1</td>\n",
       "      <td>6</td>\n",
       "      <td>0</td>\n",
       "      <td>1</td>\n",
       "      <td>0</td>\n",
       "      <td>0</td>\n",
       "    </tr>\n",
       "    <tr>\n",
       "      <th>908447</th>\n",
       "      <td>0250</td>\n",
       "      <td>148.0</td>\n",
       "      <td>0</td>\n",
       "      <td>9</td>\n",
       "      <td>9</td>\n",
       "      <td>2</td>\n",
       "      <td>1</td>\n",
       "      <td>6</td>\n",
       "      <td>0</td>\n",
       "      <td>1</td>\n",
       "      <td>0</td>\n",
       "      <td>0</td>\n",
       "    </tr>\n",
       "  </tbody>\n",
       "</table>\n",
       "<p>1031437 rows × 12 columns</p>\n",
       "</div>"
      ],
      "text/plain": [
       "       Product_Code  Order_Demand  DayOfWeek  DayOfMonth  DayOfYear  Week  \\\n",
       "44799          0965           2.0          5           8          8     1   \n",
       "75193          0642           3.0          0          31        304    44   \n",
       "44795          0965           1.0          4          18        322    46   \n",
       "44450          0980        4000.0          4          18        322    46   \n",
       "44796          0965           3.0          0          21        325    47   \n",
       "...             ...           ...        ...         ...        ...   ...   \n",
       "920140         0025         500.0          4           6          6     1   \n",
       "921384         1316       10000.0          4           6          6     1   \n",
       "863020         1904        4000.0          0           9          9     2   \n",
       "908844         0471          30.0          0           9          9     2   \n",
       "908447         0250         148.0          0           9          9     2   \n",
       "\n",
       "        Month  Year  Warehouse_A  Warehouse_C  Warehouse_J  Warehouse_S  \n",
       "44799       1     0            1            0            0            0  \n",
       "75193      10     0            0            1            0            0  \n",
       "44795      11     0            1            0            0            0  \n",
       "44450      11     0            1            0            0            0  \n",
       "44796      11     0            1            0            0            0  \n",
       "...       ...   ...          ...          ...          ...          ...  \n",
       "920140      1     6            0            0            1            0  \n",
       "921384      1     6            0            0            1            0  \n",
       "863020      1     6            0            1            0            0  \n",
       "908844      1     6            0            1            0            0  \n",
       "908447      1     6            0            1            0            0  \n",
       "\n",
       "[1031437 rows x 12 columns]"
      ]
     },
     "execution_count": 457,
     "metadata": {},
     "output_type": "execute_result"
    }
   ],
   "source": [
    "df"
   ]
  },
  {
   "cell_type": "markdown",
   "metadata": {},
   "source": [
    "### Exporting Transformed Data Set to CSV"
   ]
  },
  {
   "cell_type": "code",
   "execution_count": 458,
   "metadata": {},
   "outputs": [],
   "source": [
    "df.to_csv('../data/processed/product_demand_transformed.csv')"
   ]
  },
  {
   "cell_type": "markdown",
   "metadata": {},
   "source": [
    "### Visualizing the Data\n",
    "\n",
    "First, some basic statistics of the data set and correlation coefficients are calculated. \n",
    "\n",
    "Observe that each warehouse has a small correlaiton coefficient with product demand, meaning that each warehouse does differ slightly in terms of demand magnitude. Thus, the warehouse columns will be included as input features in the time series forecasting models that will be tested."
   ]
  },
  {
   "cell_type": "code",
   "execution_count": 459,
   "metadata": {},
   "outputs": [
    {
     "data": {
      "text/html": [
       "<div>\n",
       "<style scoped>\n",
       "    .dataframe tbody tr th:only-of-type {\n",
       "        vertical-align: middle;\n",
       "    }\n",
       "\n",
       "    .dataframe tbody tr th {\n",
       "        vertical-align: top;\n",
       "    }\n",
       "\n",
       "    .dataframe thead th {\n",
       "        text-align: right;\n",
       "    }\n",
       "</style>\n",
       "<table border=\"1\" class=\"dataframe\">\n",
       "  <thead>\n",
       "    <tr style=\"text-align: right;\">\n",
       "      <th></th>\n",
       "      <th>Order_Demand</th>\n",
       "      <th>DayOfWeek</th>\n",
       "      <th>DayOfMonth</th>\n",
       "      <th>DayOfYear</th>\n",
       "      <th>Week</th>\n",
       "      <th>Month</th>\n",
       "      <th>Year</th>\n",
       "      <th>Warehouse_A</th>\n",
       "      <th>Warehouse_C</th>\n",
       "      <th>Warehouse_J</th>\n",
       "      <th>Warehouse_S</th>\n",
       "    </tr>\n",
       "  </thead>\n",
       "  <tbody>\n",
       "    <tr>\n",
       "      <th>count</th>\n",
       "      <td>1.031437e+06</td>\n",
       "      <td>1.031437e+06</td>\n",
       "      <td>1.031437e+06</td>\n",
       "      <td>1.031437e+06</td>\n",
       "      <td>1.031437e+06</td>\n",
       "      <td>1.031437e+06</td>\n",
       "      <td>1.031437e+06</td>\n",
       "      <td>1.031437e+06</td>\n",
       "      <td>1.031437e+06</td>\n",
       "      <td>1.031437e+06</td>\n",
       "      <td>1.031437e+06</td>\n",
       "    </tr>\n",
       "    <tr>\n",
       "      <th>mean</th>\n",
       "      <td>4.962992e+03</td>\n",
       "      <td>2.022948e+00</td>\n",
       "      <td>1.557185e+01</td>\n",
       "      <td>1.826344e+02</td>\n",
       "      <td>2.669519e+01</td>\n",
       "      <td>6.508216e+00</td>\n",
       "      <td>2.961957e+00</td>\n",
       "      <td>1.362274e-01</td>\n",
       "      <td>4.094967e-02</td>\n",
       "      <td>7.377009e-01</td>\n",
       "      <td>8.512202e-02</td>\n",
       "    </tr>\n",
       "    <tr>\n",
       "      <th>std</th>\n",
       "      <td>2.911306e+04</td>\n",
       "      <td>1.440711e+00</td>\n",
       "      <td>8.801473e+00</td>\n",
       "      <td>1.050001e+02</td>\n",
       "      <td>1.499797e+01</td>\n",
       "      <td>3.446524e+00</td>\n",
       "      <td>1.388986e+00</td>\n",
       "      <td>3.430301e-01</td>\n",
       "      <td>1.981737e-01</td>\n",
       "      <td>4.398846e-01</td>\n",
       "      <td>2.790633e-01</td>\n",
       "    </tr>\n",
       "    <tr>\n",
       "      <th>min</th>\n",
       "      <td>0.000000e+00</td>\n",
       "      <td>0.000000e+00</td>\n",
       "      <td>1.000000e+00</td>\n",
       "      <td>1.000000e+00</td>\n",
       "      <td>1.000000e+00</td>\n",
       "      <td>1.000000e+00</td>\n",
       "      <td>0.000000e+00</td>\n",
       "      <td>0.000000e+00</td>\n",
       "      <td>0.000000e+00</td>\n",
       "      <td>0.000000e+00</td>\n",
       "      <td>0.000000e+00</td>\n",
       "    </tr>\n",
       "    <tr>\n",
       "      <th>25%</th>\n",
       "      <td>2.000000e+01</td>\n",
       "      <td>1.000000e+00</td>\n",
       "      <td>8.000000e+00</td>\n",
       "      <td>9.000000e+01</td>\n",
       "      <td>1.300000e+01</td>\n",
       "      <td>3.000000e+00</td>\n",
       "      <td>2.000000e+00</td>\n",
       "      <td>0.000000e+00</td>\n",
       "      <td>0.000000e+00</td>\n",
       "      <td>0.000000e+00</td>\n",
       "      <td>0.000000e+00</td>\n",
       "    </tr>\n",
       "    <tr>\n",
       "      <th>50%</th>\n",
       "      <td>3.000000e+02</td>\n",
       "      <td>2.000000e+00</td>\n",
       "      <td>1.600000e+01</td>\n",
       "      <td>1.830000e+02</td>\n",
       "      <td>2.700000e+01</td>\n",
       "      <td>7.000000e+00</td>\n",
       "      <td>3.000000e+00</td>\n",
       "      <td>0.000000e+00</td>\n",
       "      <td>0.000000e+00</td>\n",
       "      <td>1.000000e+00</td>\n",
       "      <td>0.000000e+00</td>\n",
       "    </tr>\n",
       "    <tr>\n",
       "      <th>75%</th>\n",
       "      <td>2.000000e+03</td>\n",
       "      <td>3.000000e+00</td>\n",
       "      <td>2.300000e+01</td>\n",
       "      <td>2.750000e+02</td>\n",
       "      <td>4.000000e+01</td>\n",
       "      <td>1.000000e+01</td>\n",
       "      <td>4.000000e+00</td>\n",
       "      <td>0.000000e+00</td>\n",
       "      <td>0.000000e+00</td>\n",
       "      <td>1.000000e+00</td>\n",
       "      <td>0.000000e+00</td>\n",
       "    </tr>\n",
       "    <tr>\n",
       "      <th>max</th>\n",
       "      <td>4.000000e+06</td>\n",
       "      <td>6.000000e+00</td>\n",
       "      <td>3.100000e+01</td>\n",
       "      <td>3.660000e+02</td>\n",
       "      <td>5.300000e+01</td>\n",
       "      <td>1.200000e+01</td>\n",
       "      <td>6.000000e+00</td>\n",
       "      <td>1.000000e+00</td>\n",
       "      <td>1.000000e+00</td>\n",
       "      <td>1.000000e+00</td>\n",
       "      <td>1.000000e+00</td>\n",
       "    </tr>\n",
       "  </tbody>\n",
       "</table>\n",
       "</div>"
      ],
      "text/plain": [
       "       Order_Demand     DayOfWeek    DayOfMonth     DayOfYear          Week  \\\n",
       "count  1.031437e+06  1.031437e+06  1.031437e+06  1.031437e+06  1.031437e+06   \n",
       "mean   4.962992e+03  2.022948e+00  1.557185e+01  1.826344e+02  2.669519e+01   \n",
       "std    2.911306e+04  1.440711e+00  8.801473e+00  1.050001e+02  1.499797e+01   \n",
       "min    0.000000e+00  0.000000e+00  1.000000e+00  1.000000e+00  1.000000e+00   \n",
       "25%    2.000000e+01  1.000000e+00  8.000000e+00  9.000000e+01  1.300000e+01   \n",
       "50%    3.000000e+02  2.000000e+00  1.600000e+01  1.830000e+02  2.700000e+01   \n",
       "75%    2.000000e+03  3.000000e+00  2.300000e+01  2.750000e+02  4.000000e+01   \n",
       "max    4.000000e+06  6.000000e+00  3.100000e+01  3.660000e+02  5.300000e+01   \n",
       "\n",
       "              Month          Year   Warehouse_A   Warehouse_C   Warehouse_J  \\\n",
       "count  1.031437e+06  1.031437e+06  1.031437e+06  1.031437e+06  1.031437e+06   \n",
       "mean   6.508216e+00  2.961957e+00  1.362274e-01  4.094967e-02  7.377009e-01   \n",
       "std    3.446524e+00  1.388986e+00  3.430301e-01  1.981737e-01  4.398846e-01   \n",
       "min    1.000000e+00  0.000000e+00  0.000000e+00  0.000000e+00  0.000000e+00   \n",
       "25%    3.000000e+00  2.000000e+00  0.000000e+00  0.000000e+00  0.000000e+00   \n",
       "50%    7.000000e+00  3.000000e+00  0.000000e+00  0.000000e+00  1.000000e+00   \n",
       "75%    1.000000e+01  4.000000e+00  0.000000e+00  0.000000e+00  1.000000e+00   \n",
       "max    1.200000e+01  6.000000e+00  1.000000e+00  1.000000e+00  1.000000e+00   \n",
       "\n",
       "        Warehouse_S  \n",
       "count  1.031437e+06  \n",
       "mean   8.512202e-02  \n",
       "std    2.790633e-01  \n",
       "min    0.000000e+00  \n",
       "25%    0.000000e+00  \n",
       "50%    0.000000e+00  \n",
       "75%    0.000000e+00  \n",
       "max    1.000000e+00  "
      ]
     },
     "execution_count": 459,
     "metadata": {},
     "output_type": "execute_result"
    }
   ],
   "source": [
    "df.describe()"
   ]
  },
  {
   "cell_type": "code",
   "execution_count": 460,
   "metadata": {
    "scrolled": false
   },
   "outputs": [
    {
     "data": {
      "text/html": [
       "<div>\n",
       "<style scoped>\n",
       "    .dataframe tbody tr th:only-of-type {\n",
       "        vertical-align: middle;\n",
       "    }\n",
       "\n",
       "    .dataframe tbody tr th {\n",
       "        vertical-align: top;\n",
       "    }\n",
       "\n",
       "    .dataframe thead th {\n",
       "        text-align: right;\n",
       "    }\n",
       "</style>\n",
       "<table border=\"1\" class=\"dataframe\">\n",
       "  <thead>\n",
       "    <tr style=\"text-align: right;\">\n",
       "      <th></th>\n",
       "      <th>Order_Demand</th>\n",
       "      <th>DayOfWeek</th>\n",
       "      <th>DayOfMonth</th>\n",
       "      <th>DayOfYear</th>\n",
       "      <th>Week</th>\n",
       "      <th>Month</th>\n",
       "      <th>Year</th>\n",
       "      <th>Warehouse_A</th>\n",
       "      <th>Warehouse_C</th>\n",
       "      <th>Warehouse_J</th>\n",
       "      <th>Warehouse_S</th>\n",
       "    </tr>\n",
       "  </thead>\n",
       "  <tbody>\n",
       "    <tr>\n",
       "      <th>Order_Demand</th>\n",
       "      <td>1.000000</td>\n",
       "      <td>-0.004203</td>\n",
       "      <td>-0.001938</td>\n",
       "      <td>-0.000875</td>\n",
       "      <td>-0.001237</td>\n",
       "      <td>-0.000694</td>\n",
       "      <td>0.008237</td>\n",
       "      <td>-0.053568</td>\n",
       "      <td>0.062821</td>\n",
       "      <td>-0.031981</td>\n",
       "      <td>0.071647</td>\n",
       "    </tr>\n",
       "    <tr>\n",
       "      <th>DayOfWeek</th>\n",
       "      <td>-0.004203</td>\n",
       "      <td>1.000000</td>\n",
       "      <td>0.021295</td>\n",
       "      <td>0.011162</td>\n",
       "      <td>-0.000048</td>\n",
       "      <td>0.009413</td>\n",
       "      <td>-0.015028</td>\n",
       "      <td>0.010795</td>\n",
       "      <td>-0.013071</td>\n",
       "      <td>-0.001705</td>\n",
       "      <td>-0.001299</td>\n",
       "    </tr>\n",
       "    <tr>\n",
       "      <th>DayOfMonth</th>\n",
       "      <td>-0.001938</td>\n",
       "      <td>0.021295</td>\n",
       "      <td>1.000000</td>\n",
       "      <td>0.049037</td>\n",
       "      <td>0.044811</td>\n",
       "      <td>-0.034732</td>\n",
       "      <td>-0.006973</td>\n",
       "      <td>0.006831</td>\n",
       "      <td>0.009493</td>\n",
       "      <td>-0.014727</td>\n",
       "      <td>0.008075</td>\n",
       "    </tr>\n",
       "    <tr>\n",
       "      <th>DayOfYear</th>\n",
       "      <td>-0.000875</td>\n",
       "      <td>0.011162</td>\n",
       "      <td>0.049037</td>\n",
       "      <td>1.000000</td>\n",
       "      <td>0.995683</td>\n",
       "      <td>0.996466</td>\n",
       "      <td>-0.008407</td>\n",
       "      <td>0.013247</td>\n",
       "      <td>0.013284</td>\n",
       "      <td>-0.016749</td>\n",
       "      <td>0.000684</td>\n",
       "    </tr>\n",
       "    <tr>\n",
       "      <th>Week</th>\n",
       "      <td>-0.001237</td>\n",
       "      <td>-0.000048</td>\n",
       "      <td>0.044811</td>\n",
       "      <td>0.995683</td>\n",
       "      <td>1.000000</td>\n",
       "      <td>0.992567</td>\n",
       "      <td>-0.009110</td>\n",
       "      <td>0.013399</td>\n",
       "      <td>0.010180</td>\n",
       "      <td>-0.013627</td>\n",
       "      <td>-0.002219</td>\n",
       "    </tr>\n",
       "    <tr>\n",
       "      <th>Month</th>\n",
       "      <td>-0.000694</td>\n",
       "      <td>0.009413</td>\n",
       "      <td>-0.034732</td>\n",
       "      <td>0.996466</td>\n",
       "      <td>0.992567</td>\n",
       "      <td>1.000000</td>\n",
       "      <td>-0.007795</td>\n",
       "      <td>0.012712</td>\n",
       "      <td>0.012515</td>\n",
       "      <td>-0.015708</td>\n",
       "      <td>0.000248</td>\n",
       "    </tr>\n",
       "    <tr>\n",
       "      <th>Year</th>\n",
       "      <td>0.008237</td>\n",
       "      <td>-0.015028</td>\n",
       "      <td>-0.006973</td>\n",
       "      <td>-0.008407</td>\n",
       "      <td>-0.009110</td>\n",
       "      <td>-0.007795</td>\n",
       "      <td>1.000000</td>\n",
       "      <td>-0.014825</td>\n",
       "      <td>0.031343</td>\n",
       "      <td>0.031305</td>\n",
       "      <td>-0.053381</td>\n",
       "    </tr>\n",
       "    <tr>\n",
       "      <th>Warehouse_A</th>\n",
       "      <td>-0.053568</td>\n",
       "      <td>0.010795</td>\n",
       "      <td>0.006831</td>\n",
       "      <td>0.013247</td>\n",
       "      <td>0.013399</td>\n",
       "      <td>0.012712</td>\n",
       "      <td>-0.014825</td>\n",
       "      <td>1.000000</td>\n",
       "      <td>-0.082061</td>\n",
       "      <td>-0.666000</td>\n",
       "      <td>-0.121136</td>\n",
       "    </tr>\n",
       "    <tr>\n",
       "      <th>Warehouse_C</th>\n",
       "      <td>0.062821</td>\n",
       "      <td>-0.013071</td>\n",
       "      <td>0.009493</td>\n",
       "      <td>0.013284</td>\n",
       "      <td>0.010180</td>\n",
       "      <td>0.012515</td>\n",
       "      <td>0.031343</td>\n",
       "      <td>-0.082061</td>\n",
       "      <td>1.000000</td>\n",
       "      <td>-0.346534</td>\n",
       "      <td>-0.063029</td>\n",
       "    </tr>\n",
       "    <tr>\n",
       "      <th>Warehouse_J</th>\n",
       "      <td>-0.031981</td>\n",
       "      <td>-0.001705</td>\n",
       "      <td>-0.014727</td>\n",
       "      <td>-0.016749</td>\n",
       "      <td>-0.013627</td>\n",
       "      <td>-0.015708</td>\n",
       "      <td>0.031305</td>\n",
       "      <td>-0.666000</td>\n",
       "      <td>-0.346534</td>\n",
       "      <td>1.000000</td>\n",
       "      <td>-0.511542</td>\n",
       "    </tr>\n",
       "    <tr>\n",
       "      <th>Warehouse_S</th>\n",
       "      <td>0.071647</td>\n",
       "      <td>-0.001299</td>\n",
       "      <td>0.008075</td>\n",
       "      <td>0.000684</td>\n",
       "      <td>-0.002219</td>\n",
       "      <td>0.000248</td>\n",
       "      <td>-0.053381</td>\n",
       "      <td>-0.121136</td>\n",
       "      <td>-0.063029</td>\n",
       "      <td>-0.511542</td>\n",
       "      <td>1.000000</td>\n",
       "    </tr>\n",
       "  </tbody>\n",
       "</table>\n",
       "</div>"
      ],
      "text/plain": [
       "              Order_Demand  DayOfWeek  DayOfMonth  DayOfYear      Week  \\\n",
       "Order_Demand      1.000000  -0.004203   -0.001938  -0.000875 -0.001237   \n",
       "DayOfWeek        -0.004203   1.000000    0.021295   0.011162 -0.000048   \n",
       "DayOfMonth       -0.001938   0.021295    1.000000   0.049037  0.044811   \n",
       "DayOfYear        -0.000875   0.011162    0.049037   1.000000  0.995683   \n",
       "Week             -0.001237  -0.000048    0.044811   0.995683  1.000000   \n",
       "Month            -0.000694   0.009413   -0.034732   0.996466  0.992567   \n",
       "Year              0.008237  -0.015028   -0.006973  -0.008407 -0.009110   \n",
       "Warehouse_A      -0.053568   0.010795    0.006831   0.013247  0.013399   \n",
       "Warehouse_C       0.062821  -0.013071    0.009493   0.013284  0.010180   \n",
       "Warehouse_J      -0.031981  -0.001705   -0.014727  -0.016749 -0.013627   \n",
       "Warehouse_S       0.071647  -0.001299    0.008075   0.000684 -0.002219   \n",
       "\n",
       "                 Month      Year  Warehouse_A  Warehouse_C  Warehouse_J  \\\n",
       "Order_Demand -0.000694  0.008237    -0.053568     0.062821    -0.031981   \n",
       "DayOfWeek     0.009413 -0.015028     0.010795    -0.013071    -0.001705   \n",
       "DayOfMonth   -0.034732 -0.006973     0.006831     0.009493    -0.014727   \n",
       "DayOfYear     0.996466 -0.008407     0.013247     0.013284    -0.016749   \n",
       "Week          0.992567 -0.009110     0.013399     0.010180    -0.013627   \n",
       "Month         1.000000 -0.007795     0.012712     0.012515    -0.015708   \n",
       "Year         -0.007795  1.000000    -0.014825     0.031343     0.031305   \n",
       "Warehouse_A   0.012712 -0.014825     1.000000    -0.082061    -0.666000   \n",
       "Warehouse_C   0.012515  0.031343    -0.082061     1.000000    -0.346534   \n",
       "Warehouse_J  -0.015708  0.031305    -0.666000    -0.346534     1.000000   \n",
       "Warehouse_S   0.000248 -0.053381    -0.121136    -0.063029    -0.511542   \n",
       "\n",
       "              Warehouse_S  \n",
       "Order_Demand     0.071647  \n",
       "DayOfWeek       -0.001299  \n",
       "DayOfMonth       0.008075  \n",
       "DayOfYear        0.000684  \n",
       "Week            -0.002219  \n",
       "Month            0.000248  \n",
       "Year            -0.053381  \n",
       "Warehouse_A     -0.121136  \n",
       "Warehouse_C     -0.063029  \n",
       "Warehouse_J     -0.511542  \n",
       "Warehouse_S      1.000000  "
      ]
     },
     "execution_count": 460,
     "metadata": {},
     "output_type": "execute_result"
    }
   ],
   "source": [
    "df.corr()"
   ]
  },
  {
   "cell_type": "markdown",
   "metadata": {},
   "source": [
    "###### Generating Interesting Plots\n",
    "\n",
    "Because this data set contains a large variety of diverse products, I will examine three specific products that show somewhat predictable demand patterns. This will allow well-engineered time series forecasting models to predict these products' demands with decent performance. \n",
    "\n",
    "To select the best products for building time series forecasting models, I will generate some candidate product demand plots and select the ones which show some predictable demand and have a reasonable number of instances. To aid myself in generating plots that can be reasoned about, I will generate a new Column which records days since the first day of year zero. This will serve as the independent variable for my initial demand plots. The calculation used to generate this column assumes that no leap years occur, and so the calculation will likely be off by a day or two for some rows. This should not affect the overall shape of demand plots, however, so I should still be able to reason about the generated demand plots."
   ]
  },
  {
   "cell_type": "code",
   "execution_count": 461,
   "metadata": {},
   "outputs": [],
   "source": [
    "df['AbsoluteDay'] = df.DayOfYear + df.Year * 365"
   ]
  },
  {
   "cell_type": "code",
   "execution_count": 462,
   "metadata": {},
   "outputs": [
    {
     "data": {
      "text/html": [
       "<div>\n",
       "<style scoped>\n",
       "    .dataframe tbody tr th:only-of-type {\n",
       "        vertical-align: middle;\n",
       "    }\n",
       "\n",
       "    .dataframe tbody tr th {\n",
       "        vertical-align: top;\n",
       "    }\n",
       "\n",
       "    .dataframe thead th {\n",
       "        text-align: right;\n",
       "    }\n",
       "</style>\n",
       "<table border=\"1\" class=\"dataframe\">\n",
       "  <thead>\n",
       "    <tr style=\"text-align: right;\">\n",
       "      <th></th>\n",
       "      <th>Product_Code</th>\n",
       "      <th>Order_Demand</th>\n",
       "      <th>DayOfWeek</th>\n",
       "      <th>DayOfMonth</th>\n",
       "      <th>DayOfYear</th>\n",
       "      <th>Week</th>\n",
       "      <th>Month</th>\n",
       "      <th>Year</th>\n",
       "      <th>Warehouse_A</th>\n",
       "      <th>Warehouse_C</th>\n",
       "      <th>Warehouse_J</th>\n",
       "      <th>Warehouse_S</th>\n",
       "      <th>AbsoluteDay</th>\n",
       "    </tr>\n",
       "  </thead>\n",
       "  <tbody>\n",
       "    <tr>\n",
       "      <th>44799</th>\n",
       "      <td>0965</td>\n",
       "      <td>2.0</td>\n",
       "      <td>5</td>\n",
       "      <td>8</td>\n",
       "      <td>8</td>\n",
       "      <td>1</td>\n",
       "      <td>1</td>\n",
       "      <td>0</td>\n",
       "      <td>1</td>\n",
       "      <td>0</td>\n",
       "      <td>0</td>\n",
       "      <td>0</td>\n",
       "      <td>8</td>\n",
       "    </tr>\n",
       "    <tr>\n",
       "      <th>75193</th>\n",
       "      <td>0642</td>\n",
       "      <td>3.0</td>\n",
       "      <td>0</td>\n",
       "      <td>31</td>\n",
       "      <td>304</td>\n",
       "      <td>44</td>\n",
       "      <td>10</td>\n",
       "      <td>0</td>\n",
       "      <td>0</td>\n",
       "      <td>1</td>\n",
       "      <td>0</td>\n",
       "      <td>0</td>\n",
       "      <td>304</td>\n",
       "    </tr>\n",
       "    <tr>\n",
       "      <th>44795</th>\n",
       "      <td>0965</td>\n",
       "      <td>1.0</td>\n",
       "      <td>4</td>\n",
       "      <td>18</td>\n",
       "      <td>322</td>\n",
       "      <td>46</td>\n",
       "      <td>11</td>\n",
       "      <td>0</td>\n",
       "      <td>1</td>\n",
       "      <td>0</td>\n",
       "      <td>0</td>\n",
       "      <td>0</td>\n",
       "      <td>322</td>\n",
       "    </tr>\n",
       "    <tr>\n",
       "      <th>44450</th>\n",
       "      <td>0980</td>\n",
       "      <td>4000.0</td>\n",
       "      <td>4</td>\n",
       "      <td>18</td>\n",
       "      <td>322</td>\n",
       "      <td>46</td>\n",
       "      <td>11</td>\n",
       "      <td>0</td>\n",
       "      <td>1</td>\n",
       "      <td>0</td>\n",
       "      <td>0</td>\n",
       "      <td>0</td>\n",
       "      <td>322</td>\n",
       "    </tr>\n",
       "    <tr>\n",
       "      <th>44796</th>\n",
       "      <td>0965</td>\n",
       "      <td>3.0</td>\n",
       "      <td>0</td>\n",
       "      <td>21</td>\n",
       "      <td>325</td>\n",
       "      <td>47</td>\n",
       "      <td>11</td>\n",
       "      <td>0</td>\n",
       "      <td>1</td>\n",
       "      <td>0</td>\n",
       "      <td>0</td>\n",
       "      <td>0</td>\n",
       "      <td>325</td>\n",
       "    </tr>\n",
       "    <tr>\n",
       "      <th>...</th>\n",
       "      <td>...</td>\n",
       "      <td>...</td>\n",
       "      <td>...</td>\n",
       "      <td>...</td>\n",
       "      <td>...</td>\n",
       "      <td>...</td>\n",
       "      <td>...</td>\n",
       "      <td>...</td>\n",
       "      <td>...</td>\n",
       "      <td>...</td>\n",
       "      <td>...</td>\n",
       "      <td>...</td>\n",
       "      <td>...</td>\n",
       "    </tr>\n",
       "    <tr>\n",
       "      <th>920140</th>\n",
       "      <td>0025</td>\n",
       "      <td>500.0</td>\n",
       "      <td>4</td>\n",
       "      <td>6</td>\n",
       "      <td>6</td>\n",
       "      <td>1</td>\n",
       "      <td>1</td>\n",
       "      <td>6</td>\n",
       "      <td>0</td>\n",
       "      <td>0</td>\n",
       "      <td>1</td>\n",
       "      <td>0</td>\n",
       "      <td>2196</td>\n",
       "    </tr>\n",
       "    <tr>\n",
       "      <th>921384</th>\n",
       "      <td>1316</td>\n",
       "      <td>10000.0</td>\n",
       "      <td>4</td>\n",
       "      <td>6</td>\n",
       "      <td>6</td>\n",
       "      <td>1</td>\n",
       "      <td>1</td>\n",
       "      <td>6</td>\n",
       "      <td>0</td>\n",
       "      <td>0</td>\n",
       "      <td>1</td>\n",
       "      <td>0</td>\n",
       "      <td>2196</td>\n",
       "    </tr>\n",
       "    <tr>\n",
       "      <th>863020</th>\n",
       "      <td>1904</td>\n",
       "      <td>4000.0</td>\n",
       "      <td>0</td>\n",
       "      <td>9</td>\n",
       "      <td>9</td>\n",
       "      <td>2</td>\n",
       "      <td>1</td>\n",
       "      <td>6</td>\n",
       "      <td>0</td>\n",
       "      <td>1</td>\n",
       "      <td>0</td>\n",
       "      <td>0</td>\n",
       "      <td>2199</td>\n",
       "    </tr>\n",
       "    <tr>\n",
       "      <th>908844</th>\n",
       "      <td>0471</td>\n",
       "      <td>30.0</td>\n",
       "      <td>0</td>\n",
       "      <td>9</td>\n",
       "      <td>9</td>\n",
       "      <td>2</td>\n",
       "      <td>1</td>\n",
       "      <td>6</td>\n",
       "      <td>0</td>\n",
       "      <td>1</td>\n",
       "      <td>0</td>\n",
       "      <td>0</td>\n",
       "      <td>2199</td>\n",
       "    </tr>\n",
       "    <tr>\n",
       "      <th>908447</th>\n",
       "      <td>0250</td>\n",
       "      <td>148.0</td>\n",
       "      <td>0</td>\n",
       "      <td>9</td>\n",
       "      <td>9</td>\n",
       "      <td>2</td>\n",
       "      <td>1</td>\n",
       "      <td>6</td>\n",
       "      <td>0</td>\n",
       "      <td>1</td>\n",
       "      <td>0</td>\n",
       "      <td>0</td>\n",
       "      <td>2199</td>\n",
       "    </tr>\n",
       "  </tbody>\n",
       "</table>\n",
       "<p>1031437 rows × 13 columns</p>\n",
       "</div>"
      ],
      "text/plain": [
       "       Product_Code  Order_Demand  DayOfWeek  DayOfMonth  DayOfYear  Week  \\\n",
       "44799          0965           2.0          5           8          8     1   \n",
       "75193          0642           3.0          0          31        304    44   \n",
       "44795          0965           1.0          4          18        322    46   \n",
       "44450          0980        4000.0          4          18        322    46   \n",
       "44796          0965           3.0          0          21        325    47   \n",
       "...             ...           ...        ...         ...        ...   ...   \n",
       "920140         0025         500.0          4           6          6     1   \n",
       "921384         1316       10000.0          4           6          6     1   \n",
       "863020         1904        4000.0          0           9          9     2   \n",
       "908844         0471          30.0          0           9          9     2   \n",
       "908447         0250         148.0          0           9          9     2   \n",
       "\n",
       "        Month  Year  Warehouse_A  Warehouse_C  Warehouse_J  Warehouse_S  \\\n",
       "44799       1     0            1            0            0            0   \n",
       "75193      10     0            0            1            0            0   \n",
       "44795      11     0            1            0            0            0   \n",
       "44450      11     0            1            0            0            0   \n",
       "44796      11     0            1            0            0            0   \n",
       "...       ...   ...          ...          ...          ...          ...   \n",
       "920140      1     6            0            0            1            0   \n",
       "921384      1     6            0            0            1            0   \n",
       "863020      1     6            0            1            0            0   \n",
       "908844      1     6            0            1            0            0   \n",
       "908447      1     6            0            1            0            0   \n",
       "\n",
       "        AbsoluteDay  \n",
       "44799             8  \n",
       "75193           304  \n",
       "44795           322  \n",
       "44450           322  \n",
       "44796           325  \n",
       "...             ...  \n",
       "920140         2196  \n",
       "921384         2196  \n",
       "863020         2199  \n",
       "908844         2199  \n",
       "908447         2199  \n",
       "\n",
       "[1031437 rows x 13 columns]"
      ]
     },
     "execution_count": 462,
     "metadata": {},
     "output_type": "execute_result"
    }
   ],
   "source": [
    "df"
   ]
  },
  {
   "cell_type": "markdown",
   "metadata": {},
   "source": [
    "##### Product 1135\n",
    "\n",
    "Product 1135 has a decent number of instances (1171) and shows a slight average demand decrease over time. A time series forecasting model should be able to predict this pattern, so I will build a model which predicts the demand of Product 1135.\n",
    "\n",
    "Now, generate some different plots and statistics for this product's subset of the data set"
   ]
  },
  {
   "cell_type": "code",
   "execution_count": 463,
   "metadata": {
    "scrolled": true
   },
   "outputs": [
    {
     "data": {
      "text/plain": [
       "<AxesSubplot:title={'center':'Product 1135 Demand by Day'}, xlabel='AbsoluteDay', ylabel='Order_Demand'>"
      ]
     },
     "execution_count": 463,
     "metadata": {},
     "output_type": "execute_result"
    },
    {
     "data": {
      "image/png": "[encoded data removed]",
      "text/plain": [
       "<Figure size 432x288 with 1 Axes>"
      ]
     },
     "metadata": {
      "needs_background": "light"
     },
     "output_type": "display_data"
    }
   ],
   "source": [
    "df[df['Product_Code'] == '1135'].plot.scatter(x='AbsoluteDay', y='Order_Demand', title='Product 1135 Demand by Day')"
   ]
  },
  {
   "cell_type": "code",
   "execution_count": 464,
   "metadata": {},
   "outputs": [
    {
     "data": {
      "text/plain": [
       "<AxesSubplot:title={'center':'Product 1135 Demand by Day of Month'}, xlabel='DayOfMonth', ylabel='Order_Demand'>"
      ]
     },
     "execution_count": 464,
     "metadata": {},
     "output_type": "execute_result"
    },
    {
     "data": {
      "image/png": "[encoded data removed]",
      "text/plain": [
       "<Figure size 432x288 with 1 Axes>"
      ]
     },
     "metadata": {
      "needs_background": "light"
     },
     "output_type": "display_data"
    }
   ],
   "source": [
    "df[df['Product_Code'] == '1135'].plot.scatter(x='DayOfMonth', y='Order_Demand', title='Product 1135 Demand by Day of Month')"
   ]
  },
  {
   "cell_type": "code",
   "execution_count": 465,
   "metadata": {},
   "outputs": [
    {
     "data": {
      "text/plain": [
       "<AxesSubplot:title={'center':'Product 1135 Demand by Week'}, xlabel='Week', ylabel='Order_Demand'>"
      ]
     },
     "execution_count": 465,
     "metadata": {},
     "output_type": "execute_result"
    },
    {
     "data": {
      "image/png": "[encoded data removed]",
      "text/plain": [
       "<Figure size 432x288 with 1 Axes>"
      ]
     },
     "metadata": {
      "needs_background": "light"
     },
     "output_type": "display_data"
    }
   ],
   "source": [
    "df[df['Product_Code'] == '1135'].plot.scatter(x='Week', y='Order_Demand', title='Product 1135 Demand by Week')"
   ]
  },
  {
   "cell_type": "code",
   "execution_count": 466,
   "metadata": {},
   "outputs": [
    {
     "data": {
      "text/plain": [
       "<AxesSubplot:title={'center':'Product 1135 Demand by Month'}, xlabel='Month', ylabel='Order_Demand'>"
      ]
     },
     "execution_count": 466,
     "metadata": {},
     "output_type": "execute_result"
    },
    {
     "data": {
      "image/png": "[encoded data removed]",
      "text/plain": [
       "<Figure size 432x288 with 1 Axes>"
      ]
     },
     "metadata": {
      "needs_background": "light"
     },
     "output_type": "display_data"
    }
   ],
   "source": [
    "df[df['Product_Code'] == '1135'].plot.scatter(x='Month', y='Order_Demand', title='Product 1135 Demand by Month')"
   ]
  },
  {
   "cell_type": "code",
   "execution_count": 467,
   "metadata": {},
   "outputs": [
    {
     "data": {
      "text/plain": [
       "<AxesSubplot:title={'center':'Product 1135 Demand by Year'}, xlabel='Year', ylabel='Order_Demand'>"
      ]
     },
     "execution_count": 467,
     "metadata": {},
     "output_type": "execute_result"
    },
    {
     "data": {
      "image/png": "[encoded data removed]",
      "text/plain": [
       "<Figure size 432x288 with 1 Axes>"
      ]
     },
     "metadata": {
      "needs_background": "light"
     },
     "output_type": "display_data"
    }
   ],
   "source": [
    "df[df['Product_Code'] == '1135'].plot.scatter(x='Year', y='Order_Demand', title='Product 1135 Demand by Year')"
   ]
  },
  {
   "cell_type": "code",
   "execution_count": 468,
   "metadata": {},
   "outputs": [
    {
     "data": {
      "text/html": [
       "<div>\n",
       "<style scoped>\n",
       "    .dataframe tbody tr th:only-of-type {\n",
       "        vertical-align: middle;\n",
       "    }\n",
       "\n",
       "    .dataframe tbody tr th {\n",
       "        vertical-align: top;\n",
       "    }\n",
       "\n",
       "    .dataframe thead th {\n",
       "        text-align: right;\n",
       "    }\n",
       "</style>\n",
       "<table border=\"1\" class=\"dataframe\">\n",
       "  <thead>\n",
       "    <tr style=\"text-align: right;\">\n",
       "      <th></th>\n",
       "      <th>Order_Demand</th>\n",
       "      <th>DayOfWeek</th>\n",
       "      <th>DayOfMonth</th>\n",
       "      <th>DayOfYear</th>\n",
       "      <th>Week</th>\n",
       "      <th>Month</th>\n",
       "      <th>Year</th>\n",
       "      <th>Warehouse_A</th>\n",
       "      <th>Warehouse_C</th>\n",
       "      <th>Warehouse_J</th>\n",
       "      <th>Warehouse_S</th>\n",
       "      <th>AbsoluteDay</th>\n",
       "    </tr>\n",
       "  </thead>\n",
       "  <tbody>\n",
       "    <tr>\n",
       "      <th>count</th>\n",
       "      <td>1171.000000</td>\n",
       "      <td>1171.000000</td>\n",
       "      <td>1171.000000</td>\n",
       "      <td>1171.000000</td>\n",
       "      <td>1171.000000</td>\n",
       "      <td>1171.000000</td>\n",
       "      <td>1171.000000</td>\n",
       "      <td>1171.0</td>\n",
       "      <td>1171.00000</td>\n",
       "      <td>1171.000000</td>\n",
       "      <td>1171.000000</td>\n",
       "      <td>1171.000000</td>\n",
       "    </tr>\n",
       "    <tr>\n",
       "      <th>mean</th>\n",
       "      <td>7601.195559</td>\n",
       "      <td>2.031597</td>\n",
       "      <td>16.477370</td>\n",
       "      <td>185.631939</td>\n",
       "      <td>27.100769</td>\n",
       "      <td>6.576430</td>\n",
       "      <td>3.126388</td>\n",
       "      <td>0.0</td>\n",
       "      <td>0.10333</td>\n",
       "      <td>0.865073</td>\n",
       "      <td>0.031597</td>\n",
       "      <td>1326.763450</td>\n",
       "    </tr>\n",
       "    <tr>\n",
       "      <th>std</th>\n",
       "      <td>9220.599306</td>\n",
       "      <td>1.475101</td>\n",
       "      <td>9.008645</td>\n",
       "      <td>104.382091</td>\n",
       "      <td>14.915893</td>\n",
       "      <td>3.435102</td>\n",
       "      <td>1.392684</td>\n",
       "      <td>0.0</td>\n",
       "      <td>0.30452</td>\n",
       "      <td>0.341792</td>\n",
       "      <td>0.174999</td>\n",
       "      <td>516.641982</td>\n",
       "    </tr>\n",
       "    <tr>\n",
       "      <th>min</th>\n",
       "      <td>0.000000</td>\n",
       "      <td>0.000000</td>\n",
       "      <td>1.000000</td>\n",
       "      <td>5.000000</td>\n",
       "      <td>1.000000</td>\n",
       "      <td>1.000000</td>\n",
       "      <td>1.000000</td>\n",
       "      <td>0.0</td>\n",
       "      <td>0.00000</td>\n",
       "      <td>0.000000</td>\n",
       "      <td>0.000000</td>\n",
       "      <td>370.000000</td>\n",
       "    </tr>\n",
       "    <tr>\n",
       "      <th>25%</th>\n",
       "      <td>2000.000000</td>\n",
       "      <td>1.000000</td>\n",
       "      <td>9.000000</td>\n",
       "      <td>95.500000</td>\n",
       "      <td>14.000000</td>\n",
       "      <td>4.000000</td>\n",
       "      <td>2.000000</td>\n",
       "      <td>0.0</td>\n",
       "      <td>0.00000</td>\n",
       "      <td>1.000000</td>\n",
       "      <td>0.000000</td>\n",
       "      <td>888.500000</td>\n",
       "    </tr>\n",
       "    <tr>\n",
       "      <th>50%</th>\n",
       "      <td>5000.000000</td>\n",
       "      <td>2.000000</td>\n",
       "      <td>18.000000</td>\n",
       "      <td>183.000000</td>\n",
       "      <td>27.000000</td>\n",
       "      <td>7.000000</td>\n",
       "      <td>3.000000</td>\n",
       "      <td>0.0</td>\n",
       "      <td>0.00000</td>\n",
       "      <td>1.000000</td>\n",
       "      <td>0.000000</td>\n",
       "      <td>1350.000000</td>\n",
       "    </tr>\n",
       "    <tr>\n",
       "      <th>75%</th>\n",
       "      <td>10000.000000</td>\n",
       "      <td>3.000000</td>\n",
       "      <td>24.000000</td>\n",
       "      <td>275.000000</td>\n",
       "      <td>40.000000</td>\n",
       "      <td>10.000000</td>\n",
       "      <td>4.000000</td>\n",
       "      <td>0.0</td>\n",
       "      <td>0.00000</td>\n",
       "      <td>1.000000</td>\n",
       "      <td>0.000000</td>\n",
       "      <td>1771.500000</td>\n",
       "    </tr>\n",
       "    <tr>\n",
       "      <th>max</th>\n",
       "      <td>100000.000000</td>\n",
       "      <td>6.000000</td>\n",
       "      <td>31.000000</td>\n",
       "      <td>364.000000</td>\n",
       "      <td>52.000000</td>\n",
       "      <td>12.000000</td>\n",
       "      <td>5.000000</td>\n",
       "      <td>0.0</td>\n",
       "      <td>1.00000</td>\n",
       "      <td>1.000000</td>\n",
       "      <td>1.000000</td>\n",
       "      <td>2188.000000</td>\n",
       "    </tr>\n",
       "  </tbody>\n",
       "</table>\n",
       "</div>"
      ],
      "text/plain": [
       "        Order_Demand    DayOfWeek   DayOfMonth    DayOfYear         Week  \\\n",
       "count    1171.000000  1171.000000  1171.000000  1171.000000  1171.000000   \n",
       "mean     7601.195559     2.031597    16.477370   185.631939    27.100769   \n",
       "std      9220.599306     1.475101     9.008645   104.382091    14.915893   \n",
       "min         0.000000     0.000000     1.000000     5.000000     1.000000   \n",
       "25%      2000.000000     1.000000     9.000000    95.500000    14.000000   \n",
       "50%      5000.000000     2.000000    18.000000   183.000000    27.000000   \n",
       "75%     10000.000000     3.000000    24.000000   275.000000    40.000000   \n",
       "max    100000.000000     6.000000    31.000000   364.000000    52.000000   \n",
       "\n",
       "             Month         Year  Warehouse_A  Warehouse_C  Warehouse_J  \\\n",
       "count  1171.000000  1171.000000       1171.0   1171.00000  1171.000000   \n",
       "mean      6.576430     3.126388          0.0      0.10333     0.865073   \n",
       "std       3.435102     1.392684          0.0      0.30452     0.341792   \n",
       "min       1.000000     1.000000          0.0      0.00000     0.000000   \n",
       "25%       4.000000     2.000000          0.0      0.00000     1.000000   \n",
       "50%       7.000000     3.000000          0.0      0.00000     1.000000   \n",
       "75%      10.000000     4.000000          0.0      0.00000     1.000000   \n",
       "max      12.000000     5.000000          0.0      1.00000     1.000000   \n",
       "\n",
       "       Warehouse_S  AbsoluteDay  \n",
       "count  1171.000000  1171.000000  \n",
       "mean      0.031597  1326.763450  \n",
       "std       0.174999   516.641982  \n",
       "min       0.000000   370.000000  \n",
       "25%       0.000000   888.500000  \n",
       "50%       0.000000  1350.000000  \n",
       "75%       0.000000  1771.500000  \n",
       "max       1.000000  2188.000000  "
      ]
     },
     "execution_count": 468,
     "metadata": {},
     "output_type": "execute_result"
    }
   ],
   "source": [
    "df[df['Product_Code'] == '1135'].describe()"
   ]
  },
  {
   "cell_type": "code",
   "execution_count": 469,
   "metadata": {},
   "outputs": [
    {
     "data": {
      "text/html": [
       "<div>\n",
       "<style scoped>\n",
       "    .dataframe tbody tr th:only-of-type {\n",
       "        vertical-align: middle;\n",
       "    }\n",
       "\n",
       "    .dataframe tbody tr th {\n",
       "        vertical-align: top;\n",
       "    }\n",
       "\n",
       "    .dataframe thead th {\n",
       "        text-align: right;\n",
       "    }\n",
       "</style>\n",
       "<table border=\"1\" class=\"dataframe\">\n",
       "  <thead>\n",
       "    <tr style=\"text-align: right;\">\n",
       "      <th></th>\n",
       "      <th>Order_Demand</th>\n",
       "      <th>DayOfWeek</th>\n",
       "      <th>DayOfMonth</th>\n",
       "      <th>DayOfYear</th>\n",
       "      <th>Week</th>\n",
       "      <th>Month</th>\n",
       "      <th>Year</th>\n",
       "      <th>Warehouse_A</th>\n",
       "      <th>Warehouse_C</th>\n",
       "      <th>Warehouse_J</th>\n",
       "      <th>Warehouse_S</th>\n",
       "      <th>AbsoluteDay</th>\n",
       "    </tr>\n",
       "  </thead>\n",
       "  <tbody>\n",
       "    <tr>\n",
       "      <th>Order_Demand</th>\n",
       "      <td>1.000000</td>\n",
       "      <td>0.059996</td>\n",
       "      <td>0.006687</td>\n",
       "      <td>-0.030333</td>\n",
       "      <td>-0.028350</td>\n",
       "      <td>-0.030946</td>\n",
       "      <td>-0.131252</td>\n",
       "      <td>NaN</td>\n",
       "      <td>-0.016968</td>\n",
       "      <td>-0.059125</td>\n",
       "      <td>0.145005</td>\n",
       "      <td>-0.135268</td>\n",
       "    </tr>\n",
       "    <tr>\n",
       "      <th>DayOfWeek</th>\n",
       "      <td>0.059996</td>\n",
       "      <td>1.000000</td>\n",
       "      <td>0.071543</td>\n",
       "      <td>-0.029133</td>\n",
       "      <td>-0.041360</td>\n",
       "      <td>-0.035140</td>\n",
       "      <td>-0.040222</td>\n",
       "      <td>NaN</td>\n",
       "      <td>0.030780</td>\n",
       "      <td>-0.022051</td>\n",
       "      <td>-0.010493</td>\n",
       "      <td>-0.045461</td>\n",
       "    </tr>\n",
       "    <tr>\n",
       "      <th>DayOfMonth</th>\n",
       "      <td>0.006687</td>\n",
       "      <td>0.071543</td>\n",
       "      <td>1.000000</td>\n",
       "      <td>0.016815</td>\n",
       "      <td>0.012840</td>\n",
       "      <td>-0.068917</td>\n",
       "      <td>-0.034106</td>\n",
       "      <td>NaN</td>\n",
       "      <td>-0.007092</td>\n",
       "      <td>0.005669</td>\n",
       "      <td>0.001267</td>\n",
       "      <td>-0.030160</td>\n",
       "    </tr>\n",
       "    <tr>\n",
       "      <th>DayOfYear</th>\n",
       "      <td>-0.030333</td>\n",
       "      <td>-0.029133</td>\n",
       "      <td>0.016815</td>\n",
       "      <td>1.000000</td>\n",
       "      <td>0.994556</td>\n",
       "      <td>0.996297</td>\n",
       "      <td>-0.022386</td>\n",
       "      <td>NaN</td>\n",
       "      <td>-0.009343</td>\n",
       "      <td>0.001338</td>\n",
       "      <td>0.013645</td>\n",
       "      <td>0.180014</td>\n",
       "    </tr>\n",
       "    <tr>\n",
       "      <th>Week</th>\n",
       "      <td>-0.028350</td>\n",
       "      <td>-0.041360</td>\n",
       "      <td>0.012840</td>\n",
       "      <td>0.994556</td>\n",
       "      <td>1.000000</td>\n",
       "      <td>0.991275</td>\n",
       "      <td>-0.025630</td>\n",
       "      <td>NaN</td>\n",
       "      <td>-0.018665</td>\n",
       "      <td>0.008369</td>\n",
       "      <td>0.016133</td>\n",
       "      <td>0.175722</td>\n",
       "    </tr>\n",
       "    <tr>\n",
       "      <th>Month</th>\n",
       "      <td>-0.030946</td>\n",
       "      <td>-0.035140</td>\n",
       "      <td>-0.068917</td>\n",
       "      <td>0.996297</td>\n",
       "      <td>0.991275</td>\n",
       "      <td>1.000000</td>\n",
       "      <td>-0.019887</td>\n",
       "      <td>NaN</td>\n",
       "      <td>-0.008782</td>\n",
       "      <td>0.000783</td>\n",
       "      <td>0.013752</td>\n",
       "      <td>0.181725</td>\n",
       "    </tr>\n",
       "    <tr>\n",
       "      <th>Year</th>\n",
       "      <td>-0.131252</td>\n",
       "      <td>-0.040222</td>\n",
       "      <td>-0.034106</td>\n",
       "      <td>-0.022386</td>\n",
       "      <td>-0.025630</td>\n",
       "      <td>-0.019887</td>\n",
       "      <td>1.000000</td>\n",
       "      <td>NaN</td>\n",
       "      <td>-0.008652</td>\n",
       "      <td>-0.014420</td>\n",
       "      <td>0.043218</td>\n",
       "      <td>0.979388</td>\n",
       "    </tr>\n",
       "    <tr>\n",
       "      <th>Warehouse_A</th>\n",
       "      <td>NaN</td>\n",
       "      <td>NaN</td>\n",
       "      <td>NaN</td>\n",
       "      <td>NaN</td>\n",
       "      <td>NaN</td>\n",
       "      <td>NaN</td>\n",
       "      <td>NaN</td>\n",
       "      <td>NaN</td>\n",
       "      <td>NaN</td>\n",
       "      <td>NaN</td>\n",
       "      <td>NaN</td>\n",
       "      <td>NaN</td>\n",
       "    </tr>\n",
       "    <tr>\n",
       "      <th>Warehouse_C</th>\n",
       "      <td>-0.016968</td>\n",
       "      <td>0.030780</td>\n",
       "      <td>-0.007092</td>\n",
       "      <td>-0.009343</td>\n",
       "      <td>-0.018665</td>\n",
       "      <td>-0.008782</td>\n",
       "      <td>-0.008652</td>\n",
       "      <td>NaN</td>\n",
       "      <td>1.000000</td>\n",
       "      <td>-0.859556</td>\n",
       "      <td>-0.061319</td>\n",
       "      <td>-0.010400</td>\n",
       "    </tr>\n",
       "    <tr>\n",
       "      <th>Warehouse_J</th>\n",
       "      <td>-0.059125</td>\n",
       "      <td>-0.022051</td>\n",
       "      <td>0.005669</td>\n",
       "      <td>0.001338</td>\n",
       "      <td>0.008369</td>\n",
       "      <td>0.000783</td>\n",
       "      <td>-0.014420</td>\n",
       "      <td>NaN</td>\n",
       "      <td>-0.859556</td>\n",
       "      <td>1.000000</td>\n",
       "      <td>-0.457373</td>\n",
       "      <td>-0.013917</td>\n",
       "    </tr>\n",
       "    <tr>\n",
       "      <th>Warehouse_S</th>\n",
       "      <td>0.145005</td>\n",
       "      <td>-0.010493</td>\n",
       "      <td>0.001267</td>\n",
       "      <td>0.013645</td>\n",
       "      <td>0.016133</td>\n",
       "      <td>0.013752</td>\n",
       "      <td>0.043218</td>\n",
       "      <td>NaN</td>\n",
       "      <td>-0.061319</td>\n",
       "      <td>-0.457373</td>\n",
       "      <td>1.000000</td>\n",
       "      <td>0.045279</td>\n",
       "    </tr>\n",
       "    <tr>\n",
       "      <th>AbsoluteDay</th>\n",
       "      <td>-0.135268</td>\n",
       "      <td>-0.045461</td>\n",
       "      <td>-0.030160</td>\n",
       "      <td>0.180014</td>\n",
       "      <td>0.175722</td>\n",
       "      <td>0.181725</td>\n",
       "      <td>0.979388</td>\n",
       "      <td>NaN</td>\n",
       "      <td>-0.010400</td>\n",
       "      <td>-0.013917</td>\n",
       "      <td>0.045279</td>\n",
       "      <td>1.000000</td>\n",
       "    </tr>\n",
       "  </tbody>\n",
       "</table>\n",
       "</div>"
      ],
      "text/plain": [
       "              Order_Demand  DayOfWeek  DayOfMonth  DayOfYear      Week  \\\n",
       "Order_Demand      1.000000   0.059996    0.006687  -0.030333 -0.028350   \n",
       "DayOfWeek         0.059996   1.000000    0.071543  -0.029133 -0.041360   \n",
       "DayOfMonth        0.006687   0.071543    1.000000   0.016815  0.012840   \n",
       "DayOfYear        -0.030333  -0.029133    0.016815   1.000000  0.994556   \n",
       "Week             -0.028350  -0.041360    0.012840   0.994556  1.000000   \n",
       "Month            -0.030946  -0.035140   -0.068917   0.996297  0.991275   \n",
       "Year             -0.131252  -0.040222   -0.034106  -0.022386 -0.025630   \n",
       "Warehouse_A            NaN        NaN         NaN        NaN       NaN   \n",
       "Warehouse_C      -0.016968   0.030780   -0.007092  -0.009343 -0.018665   \n",
       "Warehouse_J      -0.059125  -0.022051    0.005669   0.001338  0.008369   \n",
       "Warehouse_S       0.145005  -0.010493    0.001267   0.013645  0.016133   \n",
       "AbsoluteDay      -0.135268  -0.045461   -0.030160   0.180014  0.175722   \n",
       "\n",
       "                 Month      Year  Warehouse_A  Warehouse_C  Warehouse_J  \\\n",
       "Order_Demand -0.030946 -0.131252          NaN    -0.016968    -0.059125   \n",
       "DayOfWeek    -0.035140 -0.040222          NaN     0.030780    -0.022051   \n",
       "DayOfMonth   -0.068917 -0.034106          NaN    -0.007092     0.005669   \n",
       "DayOfYear     0.996297 -0.022386          NaN    -0.009343     0.001338   \n",
       "Week          0.991275 -0.025630          NaN    -0.018665     0.008369   \n",
       "Month         1.000000 -0.019887          NaN    -0.008782     0.000783   \n",
       "Year         -0.019887  1.000000          NaN    -0.008652    -0.014420   \n",
       "Warehouse_A        NaN       NaN          NaN          NaN          NaN   \n",
       "Warehouse_C  -0.008782 -0.008652          NaN     1.000000    -0.859556   \n",
       "Warehouse_J   0.000783 -0.014420          NaN    -0.859556     1.000000   \n",
       "Warehouse_S   0.013752  0.043218          NaN    -0.061319    -0.457373   \n",
       "AbsoluteDay   0.181725  0.979388          NaN    -0.010400    -0.013917   \n",
       "\n",
       "              Warehouse_S  AbsoluteDay  \n",
       "Order_Demand     0.145005    -0.135268  \n",
       "DayOfWeek       -0.010493    -0.045461  \n",
       "DayOfMonth       0.001267    -0.030160  \n",
       "DayOfYear        0.013645     0.180014  \n",
       "Week             0.016133     0.175722  \n",
       "Month            0.013752     0.181725  \n",
       "Year             0.043218     0.979388  \n",
       "Warehouse_A           NaN          NaN  \n",
       "Warehouse_C     -0.061319    -0.010400  \n",
       "Warehouse_J     -0.457373    -0.013917  \n",
       "Warehouse_S      1.000000     0.045279  \n",
       "AbsoluteDay      0.045279     1.000000  "
      ]
     },
     "execution_count": 469,
     "metadata": {},
     "output_type": "execute_result"
    }
   ],
   "source": [
    "df[df['Product_Code'] == '1135'].corr()"
   ]
  },
  {
   "cell_type": "markdown",
   "metadata": {},
   "source": [
    "##### Product 1222\n",
    "\n",
    "This product has a good number of instances (3453) and shows demand spikes that occur at semi-regular intervals. A time series forecasting model should be able to predict this pattern, so I will build a time series forecasting model for this product.\n",
    "\n",
    "Now, generate some different plots and statistics for this product's subset of the data set"
   ]
  },
  {
   "cell_type": "code",
   "execution_count": 470,
   "metadata": {},
   "outputs": [
    {
     "data": {
      "text/plain": [
       "<AxesSubplot:title={'center':'Product 1222 Demand by Day'}, xlabel='AbsoluteDay', ylabel='Order_Demand'>"
      ]
     },
     "execution_count": 470,
     "metadata": {},
     "output_type": "execute_result"
    },
    {
     "data": {
      "image/png": "[encoded data removed]",
      "text/plain": [
       "<Figure size 432x288 with 1 Axes>"
      ]
     },
     "metadata": {
      "needs_background": "light"
     },
     "output_type": "display_data"
    }
   ],
   "source": [
    "df[df['Product_Code'] == '1222'].plot.scatter(x='AbsoluteDay', y='Order_Demand', title='Product 1222 Demand by Day')"
   ]
  },
  {
   "cell_type": "code",
   "execution_count": 471,
   "metadata": {},
   "outputs": [
    {
     "data": {
      "text/plain": [
       "<AxesSubplot:title={'center':'Product 1222 Demand by Day of Month'}, xlabel='DayOfMonth', ylabel='Order_Demand'>"
      ]
     },
     "execution_count": 471,
     "metadata": {},
     "output_type": "execute_result"
    },
    {
     "data": {
      "image/png": "[encoded data removed]",
      "text/plain": [
       "<Figure size 432x288 with 1 Axes>"
      ]
     },
     "metadata": {
      "needs_background": "light"
     },
     "output_type": "display_data"
    }
   ],
   "source": [
    "df[df['Product_Code'] == '1222'].plot.scatter(x='DayOfMonth', y='Order_Demand', title='Product 1222 Demand by Day of Month')"
   ]
  },
  {
   "cell_type": "code",
   "execution_count": 472,
   "metadata": {},
   "outputs": [
    {
     "data": {
      "text/plain": [
       "<AxesSubplot:title={'center':'Product 1222 Demand by Week'}, xlabel='Week', ylabel='Order_Demand'>"
      ]
     },
     "execution_count": 472,
     "metadata": {},
     "output_type": "execute_result"
    },
    {
     "data": {
      "image/png": "[encoded data removed]",
      "text/plain": [
       "<Figure size 432x288 with 1 Axes>"
      ]
     },
     "metadata": {
      "needs_background": "light"
     },
     "output_type": "display_data"
    }
   ],
   "source": [
    "df[df['Product_Code'] == '1222'].plot.scatter(x='Week', y='Order_Demand', title='Product 1222 Demand by Week')"
   ]
  },
  {
   "cell_type": "code",
   "execution_count": 473,
   "metadata": {},
   "outputs": [
    {
     "data": {
      "text/plain": [
       "<AxesSubplot:title={'center':'Product 1222 Demand by Month'}, xlabel='Month', ylabel='Order_Demand'>"
      ]
     },
     "execution_count": 473,
     "metadata": {},
     "output_type": "execute_result"
    },
    {
     "data": {
      "image/png": "[encoded data removed]",
      "text/plain": [
       "<Figure size 432x288 with 1 Axes>"
      ]
     },
     "metadata": {
      "needs_background": "light"
     },
     "output_type": "display_data"
    }
   ],
   "source": [
    "df[df['Product_Code'] == '1222'].plot.scatter(x='Month', y='Order_Demand', title='Product 1222 Demand by Month')"
   ]
  },
  {
   "cell_type": "code",
   "execution_count": 474,
   "metadata": {},
   "outputs": [
    {
     "data": {
      "text/plain": [
       "<AxesSubplot:title={'center':'Product 1222 Demand by Year'}, xlabel='Year', ylabel='Order_Demand'>"
      ]
     },
     "execution_count": 474,
     "metadata": {},
     "output_type": "execute_result"
    },
    {
     "data": {
      "image/png": "[encoded data removed]",
      "text/plain": [
       "<Figure size 432x288 with 1 Axes>"
      ]
     },
     "metadata": {
      "needs_background": "light"
     },
     "output_type": "display_data"
    }
   ],
   "source": [
    "df[df['Product_Code'] == '1222'].plot.scatter(x='Year', y='Order_Demand', title='Product 1222 Demand by Year')"
   ]
  },
  {
   "cell_type": "code",
   "execution_count": 475,
   "metadata": {},
   "outputs": [
    {
     "data": {
      "text/html": [
       "<div>\n",
       "<style scoped>\n",
       "    .dataframe tbody tr th:only-of-type {\n",
       "        vertical-align: middle;\n",
       "    }\n",
       "\n",
       "    .dataframe tbody tr th {\n",
       "        vertical-align: top;\n",
       "    }\n",
       "\n",
       "    .dataframe thead th {\n",
       "        text-align: right;\n",
       "    }\n",
       "</style>\n",
       "<table border=\"1\" class=\"dataframe\">\n",
       "  <thead>\n",
       "    <tr style=\"text-align: right;\">\n",
       "      <th></th>\n",
       "      <th>Order_Demand</th>\n",
       "      <th>DayOfWeek</th>\n",
       "      <th>DayOfMonth</th>\n",
       "      <th>DayOfYear</th>\n",
       "      <th>Week</th>\n",
       "      <th>Month</th>\n",
       "      <th>Year</th>\n",
       "      <th>Warehouse_A</th>\n",
       "      <th>Warehouse_C</th>\n",
       "      <th>Warehouse_J</th>\n",
       "      <th>Warehouse_S</th>\n",
       "      <th>AbsoluteDay</th>\n",
       "    </tr>\n",
       "  </thead>\n",
       "  <tbody>\n",
       "    <tr>\n",
       "      <th>count</th>\n",
       "      <td>3453.000000</td>\n",
       "      <td>3453.000000</td>\n",
       "      <td>3453.000000</td>\n",
       "      <td>3453.000000</td>\n",
       "      <td>3453.000000</td>\n",
       "      <td>3453.000000</td>\n",
       "      <td>3453.000000</td>\n",
       "      <td>3453.0</td>\n",
       "      <td>3453.0</td>\n",
       "      <td>3453.000000</td>\n",
       "      <td>3453.000000</td>\n",
       "      <td>3453.000000</td>\n",
       "    </tr>\n",
       "    <tr>\n",
       "      <th>mean</th>\n",
       "      <td>1690.414133</td>\n",
       "      <td>1.960614</td>\n",
       "      <td>15.536056</td>\n",
       "      <td>178.624964</td>\n",
       "      <td>26.159571</td>\n",
       "      <td>6.376484</td>\n",
       "      <td>2.889082</td>\n",
       "      <td>0.0</td>\n",
       "      <td>0.0</td>\n",
       "      <td>0.990443</td>\n",
       "      <td>0.009557</td>\n",
       "      <td>1233.139878</td>\n",
       "    </tr>\n",
       "    <tr>\n",
       "      <th>std</th>\n",
       "      <td>4130.027843</td>\n",
       "      <td>1.443474</td>\n",
       "      <td>8.705108</td>\n",
       "      <td>107.365410</td>\n",
       "      <td>15.332460</td>\n",
       "      <td>3.537114</td>\n",
       "      <td>1.400269</td>\n",
       "      <td>0.0</td>\n",
       "      <td>0.0</td>\n",
       "      <td>0.097305</td>\n",
       "      <td>0.097305</td>\n",
       "      <td>522.432214</td>\n",
       "    </tr>\n",
       "    <tr>\n",
       "      <th>min</th>\n",
       "      <td>0.000000</td>\n",
       "      <td>0.000000</td>\n",
       "      <td>1.000000</td>\n",
       "      <td>5.000000</td>\n",
       "      <td>1.000000</td>\n",
       "      <td>1.000000</td>\n",
       "      <td>1.000000</td>\n",
       "      <td>0.0</td>\n",
       "      <td>0.0</td>\n",
       "      <td>0.000000</td>\n",
       "      <td>0.000000</td>\n",
       "      <td>370.000000</td>\n",
       "    </tr>\n",
       "    <tr>\n",
       "      <th>25%</th>\n",
       "      <td>200.000000</td>\n",
       "      <td>1.000000</td>\n",
       "      <td>8.000000</td>\n",
       "      <td>77.000000</td>\n",
       "      <td>12.000000</td>\n",
       "      <td>3.000000</td>\n",
       "      <td>2.000000</td>\n",
       "      <td>0.0</td>\n",
       "      <td>0.0</td>\n",
       "      <td>1.000000</td>\n",
       "      <td>0.000000</td>\n",
       "      <td>776.000000</td>\n",
       "    </tr>\n",
       "    <tr>\n",
       "      <th>50%</th>\n",
       "      <td>500.000000</td>\n",
       "      <td>2.000000</td>\n",
       "      <td>16.000000</td>\n",
       "      <td>180.000000</td>\n",
       "      <td>26.000000</td>\n",
       "      <td>6.000000</td>\n",
       "      <td>3.000000</td>\n",
       "      <td>0.0</td>\n",
       "      <td>0.0</td>\n",
       "      <td>1.000000</td>\n",
       "      <td>0.000000</td>\n",
       "      <td>1189.000000</td>\n",
       "    </tr>\n",
       "    <tr>\n",
       "      <th>75%</th>\n",
       "      <td>1500.000000</td>\n",
       "      <td>3.000000</td>\n",
       "      <td>23.000000</td>\n",
       "      <td>274.000000</td>\n",
       "      <td>40.000000</td>\n",
       "      <td>10.000000</td>\n",
       "      <td>4.000000</td>\n",
       "      <td>0.0</td>\n",
       "      <td>0.0</td>\n",
       "      <td>1.000000</td>\n",
       "      <td>0.000000</td>\n",
       "      <td>1690.000000</td>\n",
       "    </tr>\n",
       "    <tr>\n",
       "      <th>max</th>\n",
       "      <td>50000.000000</td>\n",
       "      <td>6.000000</td>\n",
       "      <td>31.000000</td>\n",
       "      <td>363.000000</td>\n",
       "      <td>53.000000</td>\n",
       "      <td>12.000000</td>\n",
       "      <td>5.000000</td>\n",
       "      <td>0.0</td>\n",
       "      <td>0.0</td>\n",
       "      <td>1.000000</td>\n",
       "      <td>1.000000</td>\n",
       "      <td>2188.000000</td>\n",
       "    </tr>\n",
       "  </tbody>\n",
       "</table>\n",
       "</div>"
      ],
      "text/plain": [
       "       Order_Demand    DayOfWeek   DayOfMonth    DayOfYear         Week  \\\n",
       "count   3453.000000  3453.000000  3453.000000  3453.000000  3453.000000   \n",
       "mean    1690.414133     1.960614    15.536056   178.624964    26.159571   \n",
       "std     4130.027843     1.443474     8.705108   107.365410    15.332460   \n",
       "min        0.000000     0.000000     1.000000     5.000000     1.000000   \n",
       "25%      200.000000     1.000000     8.000000    77.000000    12.000000   \n",
       "50%      500.000000     2.000000    16.000000   180.000000    26.000000   \n",
       "75%     1500.000000     3.000000    23.000000   274.000000    40.000000   \n",
       "max    50000.000000     6.000000    31.000000   363.000000    53.000000   \n",
       "\n",
       "             Month         Year  Warehouse_A  Warehouse_C  Warehouse_J  \\\n",
       "count  3453.000000  3453.000000       3453.0       3453.0  3453.000000   \n",
       "mean      6.376484     2.889082          0.0          0.0     0.990443   \n",
       "std       3.537114     1.400269          0.0          0.0     0.097305   \n",
       "min       1.000000     1.000000          0.0          0.0     0.000000   \n",
       "25%       3.000000     2.000000          0.0          0.0     1.000000   \n",
       "50%       6.000000     3.000000          0.0          0.0     1.000000   \n",
       "75%      10.000000     4.000000          0.0          0.0     1.000000   \n",
       "max      12.000000     5.000000          0.0          0.0     1.000000   \n",
       "\n",
       "       Warehouse_S  AbsoluteDay  \n",
       "count  3453.000000  3453.000000  \n",
       "mean      0.009557  1233.139878  \n",
       "std       0.097305   522.432214  \n",
       "min       0.000000   370.000000  \n",
       "25%       0.000000   776.000000  \n",
       "50%       0.000000  1189.000000  \n",
       "75%       0.000000  1690.000000  \n",
       "max       1.000000  2188.000000  "
      ]
     },
     "execution_count": 475,
     "metadata": {},
     "output_type": "execute_result"
    }
   ],
   "source": [
    "df[df['Product_Code'] == '1222'].describe()"
   ]
  },
  {
   "cell_type": "code",
   "execution_count": 476,
   "metadata": {
    "scrolled": false
   },
   "outputs": [
    {
     "data": {
      "text/html": [
       "<div>\n",
       "<style scoped>\n",
       "    .dataframe tbody tr th:only-of-type {\n",
       "        vertical-align: middle;\n",
       "    }\n",
       "\n",
       "    .dataframe tbody tr th {\n",
       "        vertical-align: top;\n",
       "    }\n",
       "\n",
       "    .dataframe thead th {\n",
       "        text-align: right;\n",
       "    }\n",
       "</style>\n",
       "<table border=\"1\" class=\"dataframe\">\n",
       "  <thead>\n",
       "    <tr style=\"text-align: right;\">\n",
       "      <th></th>\n",
       "      <th>Order_Demand</th>\n",
       "      <th>DayOfWeek</th>\n",
       "      <th>DayOfMonth</th>\n",
       "      <th>DayOfYear</th>\n",
       "      <th>Week</th>\n",
       "      <th>Month</th>\n",
       "      <th>Year</th>\n",
       "      <th>Warehouse_A</th>\n",
       "      <th>Warehouse_C</th>\n",
       "      <th>Warehouse_J</th>\n",
       "      <th>Warehouse_S</th>\n",
       "      <th>AbsoluteDay</th>\n",
       "    </tr>\n",
       "  </thead>\n",
       "  <tbody>\n",
       "    <tr>\n",
       "      <th>Order_Demand</th>\n",
       "      <td>1.000000</td>\n",
       "      <td>0.000500</td>\n",
       "      <td>-0.004061</td>\n",
       "      <td>-0.012375</td>\n",
       "      <td>-0.012196</td>\n",
       "      <td>-0.011974</td>\n",
       "      <td>0.012199</td>\n",
       "      <td>NaN</td>\n",
       "      <td>NaN</td>\n",
       "      <td>0.023776</td>\n",
       "      <td>-0.023776</td>\n",
       "      <td>0.009391</td>\n",
       "    </tr>\n",
       "    <tr>\n",
       "      <th>DayOfWeek</th>\n",
       "      <td>0.000500</td>\n",
       "      <td>1.000000</td>\n",
       "      <td>0.002488</td>\n",
       "      <td>0.030548</td>\n",
       "      <td>0.017208</td>\n",
       "      <td>0.030026</td>\n",
       "      <td>-0.024520</td>\n",
       "      <td>NaN</td>\n",
       "      <td>NaN</td>\n",
       "      <td>-0.037742</td>\n",
       "      <td>0.037742</td>\n",
       "      <td>-0.017710</td>\n",
       "    </tr>\n",
       "    <tr>\n",
       "      <th>DayOfMonth</th>\n",
       "      <td>-0.004061</td>\n",
       "      <td>0.002488</td>\n",
       "      <td>1.000000</td>\n",
       "      <td>0.004489</td>\n",
       "      <td>0.004629</td>\n",
       "      <td>-0.076092</td>\n",
       "      <td>0.022561</td>\n",
       "      <td>NaN</td>\n",
       "      <td>NaN</td>\n",
       "      <td>0.005366</td>\n",
       "      <td>-0.005366</td>\n",
       "      <td>0.022994</td>\n",
       "    </tr>\n",
       "    <tr>\n",
       "      <th>DayOfYear</th>\n",
       "      <td>-0.012375</td>\n",
       "      <td>0.030548</td>\n",
       "      <td>0.004489</td>\n",
       "      <td>1.000000</td>\n",
       "      <td>0.999723</td>\n",
       "      <td>0.996724</td>\n",
       "      <td>0.001702</td>\n",
       "      <td>NaN</td>\n",
       "      <td>NaN</td>\n",
       "      <td>-0.023275</td>\n",
       "      <td>0.023275</td>\n",
       "      <td>0.207176</td>\n",
       "    </tr>\n",
       "    <tr>\n",
       "      <th>Week</th>\n",
       "      <td>-0.012196</td>\n",
       "      <td>0.017208</td>\n",
       "      <td>0.004629</td>\n",
       "      <td>0.999723</td>\n",
       "      <td>1.000000</td>\n",
       "      <td>0.996504</td>\n",
       "      <td>0.000649</td>\n",
       "      <td>NaN</td>\n",
       "      <td>NaN</td>\n",
       "      <td>-0.023831</td>\n",
       "      <td>0.023831</td>\n",
       "      <td>0.206089</td>\n",
       "    </tr>\n",
       "    <tr>\n",
       "      <th>Month</th>\n",
       "      <td>-0.011974</td>\n",
       "      <td>0.030026</td>\n",
       "      <td>-0.076092</td>\n",
       "      <td>0.996724</td>\n",
       "      <td>0.996504</td>\n",
       "      <td>1.000000</td>\n",
       "      <td>0.000187</td>\n",
       "      <td>NaN</td>\n",
       "      <td>NaN</td>\n",
       "      <td>-0.024052</td>\n",
       "      <td>0.024052</td>\n",
       "      <td>0.205020</td>\n",
       "    </tr>\n",
       "    <tr>\n",
       "      <th>Year</th>\n",
       "      <td>0.012199</td>\n",
       "      <td>-0.024520</td>\n",
       "      <td>0.022561</td>\n",
       "      <td>0.001702</td>\n",
       "      <td>0.000649</td>\n",
       "      <td>0.000187</td>\n",
       "      <td>1.000000</td>\n",
       "      <td>NaN</td>\n",
       "      <td>NaN</td>\n",
       "      <td>-0.001404</td>\n",
       "      <td>0.001404</td>\n",
       "      <td>0.978655</td>\n",
       "    </tr>\n",
       "    <tr>\n",
       "      <th>Warehouse_A</th>\n",
       "      <td>NaN</td>\n",
       "      <td>NaN</td>\n",
       "      <td>NaN</td>\n",
       "      <td>NaN</td>\n",
       "      <td>NaN</td>\n",
       "      <td>NaN</td>\n",
       "      <td>NaN</td>\n",
       "      <td>NaN</td>\n",
       "      <td>NaN</td>\n",
       "      <td>NaN</td>\n",
       "      <td>NaN</td>\n",
       "      <td>NaN</td>\n",
       "    </tr>\n",
       "    <tr>\n",
       "      <th>Warehouse_C</th>\n",
       "      <td>NaN</td>\n",
       "      <td>NaN</td>\n",
       "      <td>NaN</td>\n",
       "      <td>NaN</td>\n",
       "      <td>NaN</td>\n",
       "      <td>NaN</td>\n",
       "      <td>NaN</td>\n",
       "      <td>NaN</td>\n",
       "      <td>NaN</td>\n",
       "      <td>NaN</td>\n",
       "      <td>NaN</td>\n",
       "      <td>NaN</td>\n",
       "    </tr>\n",
       "    <tr>\n",
       "      <th>Warehouse_J</th>\n",
       "      <td>0.023776</td>\n",
       "      <td>-0.037742</td>\n",
       "      <td>0.005366</td>\n",
       "      <td>-0.023275</td>\n",
       "      <td>-0.023831</td>\n",
       "      <td>-0.024052</td>\n",
       "      <td>-0.001404</td>\n",
       "      <td>NaN</td>\n",
       "      <td>NaN</td>\n",
       "      <td>1.000000</td>\n",
       "      <td>-1.000000</td>\n",
       "      <td>-0.006157</td>\n",
       "    </tr>\n",
       "    <tr>\n",
       "      <th>Warehouse_S</th>\n",
       "      <td>-0.023776</td>\n",
       "      <td>0.037742</td>\n",
       "      <td>-0.005366</td>\n",
       "      <td>0.023275</td>\n",
       "      <td>0.023831</td>\n",
       "      <td>0.024052</td>\n",
       "      <td>0.001404</td>\n",
       "      <td>NaN</td>\n",
       "      <td>NaN</td>\n",
       "      <td>-1.000000</td>\n",
       "      <td>1.000000</td>\n",
       "      <td>0.006157</td>\n",
       "    </tr>\n",
       "    <tr>\n",
       "      <th>AbsoluteDay</th>\n",
       "      <td>0.009391</td>\n",
       "      <td>-0.017710</td>\n",
       "      <td>0.022994</td>\n",
       "      <td>0.207176</td>\n",
       "      <td>0.206089</td>\n",
       "      <td>0.205020</td>\n",
       "      <td>0.978655</td>\n",
       "      <td>NaN</td>\n",
       "      <td>NaN</td>\n",
       "      <td>-0.006157</td>\n",
       "      <td>0.006157</td>\n",
       "      <td>1.000000</td>\n",
       "    </tr>\n",
       "  </tbody>\n",
       "</table>\n",
       "</div>"
      ],
      "text/plain": [
       "              Order_Demand  DayOfWeek  DayOfMonth  DayOfYear      Week  \\\n",
       "Order_Demand      1.000000   0.000500   -0.004061  -0.012375 -0.012196   \n",
       "DayOfWeek         0.000500   1.000000    0.002488   0.030548  0.017208   \n",
       "DayOfMonth       -0.004061   0.002488    1.000000   0.004489  0.004629   \n",
       "DayOfYear        -0.012375   0.030548    0.004489   1.000000  0.999723   \n",
       "Week             -0.012196   0.017208    0.004629   0.999723  1.000000   \n",
       "Month            -0.011974   0.030026   -0.076092   0.996724  0.996504   \n",
       "Year              0.012199  -0.024520    0.022561   0.001702  0.000649   \n",
       "Warehouse_A            NaN        NaN         NaN        NaN       NaN   \n",
       "Warehouse_C            NaN        NaN         NaN        NaN       NaN   \n",
       "Warehouse_J       0.023776  -0.037742    0.005366  -0.023275 -0.023831   \n",
       "Warehouse_S      -0.023776   0.037742   -0.005366   0.023275  0.023831   \n",
       "AbsoluteDay       0.009391  -0.017710    0.022994   0.207176  0.206089   \n",
       "\n",
       "                 Month      Year  Warehouse_A  Warehouse_C  Warehouse_J  \\\n",
       "Order_Demand -0.011974  0.012199          NaN          NaN     0.023776   \n",
       "DayOfWeek     0.030026 -0.024520          NaN          NaN    -0.037742   \n",
       "DayOfMonth   -0.076092  0.022561          NaN          NaN     0.005366   \n",
       "DayOfYear     0.996724  0.001702          NaN          NaN    -0.023275   \n",
       "Week          0.996504  0.000649          NaN          NaN    -0.023831   \n",
       "Month         1.000000  0.000187          NaN          NaN    -0.024052   \n",
       "Year          0.000187  1.000000          NaN          NaN    -0.001404   \n",
       "Warehouse_A        NaN       NaN          NaN          NaN          NaN   \n",
       "Warehouse_C        NaN       NaN          NaN          NaN          NaN   \n",
       "Warehouse_J  -0.024052 -0.001404          NaN          NaN     1.000000   \n",
       "Warehouse_S   0.024052  0.001404          NaN          NaN    -1.000000   \n",
       "AbsoluteDay   0.205020  0.978655          NaN          NaN    -0.006157   \n",
       "\n",
       "              Warehouse_S  AbsoluteDay  \n",
       "Order_Demand    -0.023776     0.009391  \n",
       "DayOfWeek        0.037742    -0.017710  \n",
       "DayOfMonth      -0.005366     0.022994  \n",
       "DayOfYear        0.023275     0.207176  \n",
       "Week             0.023831     0.206089  \n",
       "Month            0.024052     0.205020  \n",
       "Year             0.001404     0.978655  \n",
       "Warehouse_A           NaN          NaN  \n",
       "Warehouse_C           NaN          NaN  \n",
       "Warehouse_J     -1.000000    -0.006157  \n",
       "Warehouse_S      1.000000     0.006157  \n",
       "AbsoluteDay      0.006157     1.000000  "
      ]
     },
     "execution_count": 476,
     "metadata": {},
     "output_type": "execute_result"
    }
   ],
   "source": [
    "df[df['Product_Code'] == '1222'].corr()"
   ]
  },
  {
   "cell_type": "markdown",
   "metadata": {},
   "source": [
    "##### Product  1991\n",
    "\n",
    "Product 1991 has a good number of instances (3437) and shows demand that mostly oscilates between low and high demand. A time series forecasting model should be able to predict this pattern, so I will build a time series forecasting model for product 1991's demand.\n",
    "\n",
    "Now, generate some different plots and statistics for this product's subset of the data set"
   ]
  },
  {
   "cell_type": "code",
   "execution_count": 477,
   "metadata": {},
   "outputs": [
    {
     "data": {
      "text/plain": [
       "<AxesSubplot:title={'center':'Product 1991 Demand by Day'}, xlabel='AbsoluteDay', ylabel='Order_Demand'>"
      ]
     },
     "execution_count": 477,
     "metadata": {},
     "output_type": "execute_result"
    },
    {
     "data": {
      "image/png": "[encoded data removed]",
      "text/plain": [
       "<Figure size 432x288 with 1 Axes>"
      ]
     },
     "metadata": {
      "needs_background": "light"
     },
     "output_type": "display_data"
    }
   ],
   "source": [
    "df[df['Product_Code'] == '1991'].plot.scatter(x='AbsoluteDay', y='Order_Demand', title='Product 1991 Demand by Day')"
   ]
  },
  {
   "cell_type": "code",
   "execution_count": 478,
   "metadata": {},
   "outputs": [
    {
     "data": {
      "text/plain": [
       "<AxesSubplot:title={'center':'Product 1991 Demand by Day of Month'}, xlabel='DayOfMonth', ylabel='Order_Demand'>"
      ]
     },
     "execution_count": 478,
     "metadata": {},
     "output_type": "execute_result"
    },
    {
     "data": {
      "image/png": "[encoded data removed]",
      "text/plain": [
       "<Figure size 432x288 with 1 Axes>"
      ]
     },
     "metadata": {
      "needs_background": "light"
     },
     "output_type": "display_data"
    }
   ],
   "source": [
    "df[df['Product_Code'] == '1991'].plot.scatter(x='DayOfMonth', y='Order_Demand', title='Product 1991 Demand by Day of Month')"
   ]
  },
  {
   "cell_type": "code",
   "execution_count": 479,
   "metadata": {},
   "outputs": [
    {
     "data": {
      "text/plain": [
       "<AxesSubplot:title={'center':'Product 1991 Demand by Week'}, xlabel='Week', ylabel='Order_Demand'>"
      ]
     },
     "execution_count": 479,
     "metadata": {},
     "output_type": "execute_result"
    },
    {
     "data": {
      "image/png": "[encoded data removed]",
      "text/plain": [
       "<Figure size 432x288 with 1 Axes>"
      ]
     },
     "metadata": {
      "needs_background": "light"
     },
     "output_type": "display_data"
    }
   ],
   "source": [
    "df[df['Product_Code'] == '1991'].plot.scatter(x='Week', y='Order_Demand', title='Product 1991 Demand by Week')"
   ]
  },
  {
   "cell_type": "code",
   "execution_count": 480,
   "metadata": {},
   "outputs": [
    {
     "data": {
      "text/plain": [
       "<AxesSubplot:title={'center':'Product 1991 Demand by Month'}, xlabel='Month', ylabel='Order_Demand'>"
      ]
     },
     "execution_count": 480,
     "metadata": {},
     "output_type": "execute_result"
    },
    {
     "data": {
      "image/png": "[encoded data removed]",
      "text/plain": [
       "<Figure size 432x288 with 1 Axes>"
      ]
     },
     "metadata": {
      "needs_background": "light"
     },
     "output_type": "display_data"
    }
   ],
   "source": [
    "df[df['Product_Code'] == '1991'].plot.scatter(x='Month', y='Order_Demand', title='Product 1991 Demand by Month')"
   ]
  },
  {
   "cell_type": "code",
   "execution_count": 481,
   "metadata": {},
   "outputs": [
    {
     "data": {
      "text/plain": [
       "<AxesSubplot:title={'center':'Product 1991 Demand by Year'}, xlabel='Year', ylabel='Order_Demand'>"
      ]
     },
     "execution_count": 481,
     "metadata": {},
     "output_type": "execute_result"
    },
    {
     "data": {
      "image/png": "[encoded data removed]",
      "text/plain": [
       "<Figure size 432x288 with 1 Axes>"
      ]
     },
     "metadata": {
      "needs_background": "light"
     },
     "output_type": "display_data"
    }
   ],
   "source": [
    "df[df['Product_Code'] == '1991'].plot.scatter(x='Year', y='Order_Demand', title='Product 1991 Demand by Year')"
   ]
  },
  {
   "cell_type": "code",
   "execution_count": 482,
   "metadata": {},
   "outputs": [
    {
     "data": {
      "text/html": [
       "<div>\n",
       "<style scoped>\n",
       "    .dataframe tbody tr th:only-of-type {\n",
       "        vertical-align: middle;\n",
       "    }\n",
       "\n",
       "    .dataframe tbody tr th {\n",
       "        vertical-align: top;\n",
       "    }\n",
       "\n",
       "    .dataframe thead th {\n",
       "        text-align: right;\n",
       "    }\n",
       "</style>\n",
       "<table border=\"1\" class=\"dataframe\">\n",
       "  <thead>\n",
       "    <tr style=\"text-align: right;\">\n",
       "      <th></th>\n",
       "      <th>Order_Demand</th>\n",
       "      <th>DayOfWeek</th>\n",
       "      <th>DayOfMonth</th>\n",
       "      <th>DayOfYear</th>\n",
       "      <th>Week</th>\n",
       "      <th>Month</th>\n",
       "      <th>Year</th>\n",
       "      <th>Warehouse_A</th>\n",
       "      <th>Warehouse_C</th>\n",
       "      <th>Warehouse_J</th>\n",
       "      <th>Warehouse_S</th>\n",
       "      <th>AbsoluteDay</th>\n",
       "    </tr>\n",
       "  </thead>\n",
       "  <tbody>\n",
       "    <tr>\n",
       "      <th>count</th>\n",
       "      <td>3437.000000</td>\n",
       "      <td>3437.000000</td>\n",
       "      <td>3437.000000</td>\n",
       "      <td>3437.000000</td>\n",
       "      <td>3437.000000</td>\n",
       "      <td>3437.000000</td>\n",
       "      <td>3437.000000</td>\n",
       "      <td>3437.0</td>\n",
       "      <td>3437.000000</td>\n",
       "      <td>3437.000000</td>\n",
       "      <td>3437.0</td>\n",
       "      <td>3437.000000</td>\n",
       "    </tr>\n",
       "    <tr>\n",
       "      <th>mean</th>\n",
       "      <td>1148.297934</td>\n",
       "      <td>2.004946</td>\n",
       "      <td>15.920570</td>\n",
       "      <td>180.990690</td>\n",
       "      <td>26.466104</td>\n",
       "      <td>6.442246</td>\n",
       "      <td>3.068665</td>\n",
       "      <td>0.0</td>\n",
       "      <td>0.037824</td>\n",
       "      <td>0.962176</td>\n",
       "      <td>0.0</td>\n",
       "      <td>1301.053244</td>\n",
       "    </tr>\n",
       "    <tr>\n",
       "      <th>std</th>\n",
       "      <td>2840.795162</td>\n",
       "      <td>1.418623</td>\n",
       "      <td>8.740991</td>\n",
       "      <td>103.717754</td>\n",
       "      <td>14.810967</td>\n",
       "      <td>3.404860</td>\n",
       "      <td>1.423014</td>\n",
       "      <td>0.0</td>\n",
       "      <td>0.190797</td>\n",
       "      <td>0.190797</td>\n",
       "      <td>0.0</td>\n",
       "      <td>533.254455</td>\n",
       "    </tr>\n",
       "    <tr>\n",
       "      <th>min</th>\n",
       "      <td>0.000000</td>\n",
       "      <td>0.000000</td>\n",
       "      <td>1.000000</td>\n",
       "      <td>2.000000</td>\n",
       "      <td>1.000000</td>\n",
       "      <td>1.000000</td>\n",
       "      <td>1.000000</td>\n",
       "      <td>0.0</td>\n",
       "      <td>0.000000</td>\n",
       "      <td>0.000000</td>\n",
       "      <td>0.0</td>\n",
       "      <td>368.000000</td>\n",
       "    </tr>\n",
       "    <tr>\n",
       "      <th>25%</th>\n",
       "      <td>100.000000</td>\n",
       "      <td>1.000000</td>\n",
       "      <td>8.000000</td>\n",
       "      <td>91.000000</td>\n",
       "      <td>14.000000</td>\n",
       "      <td>3.000000</td>\n",
       "      <td>2.000000</td>\n",
       "      <td>0.0</td>\n",
       "      <td>0.000000</td>\n",
       "      <td>1.000000</td>\n",
       "      <td>0.0</td>\n",
       "      <td>842.000000</td>\n",
       "    </tr>\n",
       "    <tr>\n",
       "      <th>50%</th>\n",
       "      <td>300.000000</td>\n",
       "      <td>2.000000</td>\n",
       "      <td>16.000000</td>\n",
       "      <td>180.000000</td>\n",
       "      <td>26.000000</td>\n",
       "      <td>6.000000</td>\n",
       "      <td>3.000000</td>\n",
       "      <td>0.0</td>\n",
       "      <td>0.000000</td>\n",
       "      <td>1.000000</td>\n",
       "      <td>0.0</td>\n",
       "      <td>1325.000000</td>\n",
       "    </tr>\n",
       "    <tr>\n",
       "      <th>75%</th>\n",
       "      <td>1000.000000</td>\n",
       "      <td>3.000000</td>\n",
       "      <td>23.000000</td>\n",
       "      <td>274.000000</td>\n",
       "      <td>40.000000</td>\n",
       "      <td>9.000000</td>\n",
       "      <td>4.000000</td>\n",
       "      <td>0.0</td>\n",
       "      <td>0.000000</td>\n",
       "      <td>1.000000</td>\n",
       "      <td>0.0</td>\n",
       "      <td>1759.000000</td>\n",
       "    </tr>\n",
       "    <tr>\n",
       "      <th>max</th>\n",
       "      <td>50000.000000</td>\n",
       "      <td>6.000000</td>\n",
       "      <td>31.000000</td>\n",
       "      <td>363.000000</td>\n",
       "      <td>53.000000</td>\n",
       "      <td>12.000000</td>\n",
       "      <td>5.000000</td>\n",
       "      <td>0.0</td>\n",
       "      <td>1.000000</td>\n",
       "      <td>1.000000</td>\n",
       "      <td>0.0</td>\n",
       "      <td>2188.000000</td>\n",
       "    </tr>\n",
       "  </tbody>\n",
       "</table>\n",
       "</div>"
      ],
      "text/plain": [
       "       Order_Demand    DayOfWeek   DayOfMonth    DayOfYear         Week  \\\n",
       "count   3437.000000  3437.000000  3437.000000  3437.000000  3437.000000   \n",
       "mean    1148.297934     2.004946    15.920570   180.990690    26.466104   \n",
       "std     2840.795162     1.418623     8.740991   103.717754    14.810967   \n",
       "min        0.000000     0.000000     1.000000     2.000000     1.000000   \n",
       "25%      100.000000     1.000000     8.000000    91.000000    14.000000   \n",
       "50%      300.000000     2.000000    16.000000   180.000000    26.000000   \n",
       "75%     1000.000000     3.000000    23.000000   274.000000    40.000000   \n",
       "max    50000.000000     6.000000    31.000000   363.000000    53.000000   \n",
       "\n",
       "             Month         Year  Warehouse_A  Warehouse_C  Warehouse_J  \\\n",
       "count  3437.000000  3437.000000       3437.0  3437.000000  3437.000000   \n",
       "mean      6.442246     3.068665          0.0     0.037824     0.962176   \n",
       "std       3.404860     1.423014          0.0     0.190797     0.190797   \n",
       "min       1.000000     1.000000          0.0     0.000000     0.000000   \n",
       "25%       3.000000     2.000000          0.0     0.000000     1.000000   \n",
       "50%       6.000000     3.000000          0.0     0.000000     1.000000   \n",
       "75%       9.000000     4.000000          0.0     0.000000     1.000000   \n",
       "max      12.000000     5.000000          0.0     1.000000     1.000000   \n",
       "\n",
       "       Warehouse_S  AbsoluteDay  \n",
       "count       3437.0  3437.000000  \n",
       "mean           0.0  1301.053244  \n",
       "std            0.0   533.254455  \n",
       "min            0.0   368.000000  \n",
       "25%            0.0   842.000000  \n",
       "50%            0.0  1325.000000  \n",
       "75%            0.0  1759.000000  \n",
       "max            0.0  2188.000000  "
      ]
     },
     "execution_count": 482,
     "metadata": {},
     "output_type": "execute_result"
    }
   ],
   "source": [
    "df[df['Product_Code'] == '1991'].describe()"
   ]
  },
  {
   "cell_type": "code",
   "execution_count": 483,
   "metadata": {},
   "outputs": [
    {
     "data": {
      "text/html": [
       "<div>\n",
       "<style scoped>\n",
       "    .dataframe tbody tr th:only-of-type {\n",
       "        vertical-align: middle;\n",
       "    }\n",
       "\n",
       "    .dataframe tbody tr th {\n",
       "        vertical-align: top;\n",
       "    }\n",
       "\n",
       "    .dataframe thead th {\n",
       "        text-align: right;\n",
       "    }\n",
       "</style>\n",
       "<table border=\"1\" class=\"dataframe\">\n",
       "  <thead>\n",
       "    <tr style=\"text-align: right;\">\n",
       "      <th></th>\n",
       "      <th>Order_Demand</th>\n",
       "      <th>DayOfWeek</th>\n",
       "      <th>DayOfMonth</th>\n",
       "      <th>DayOfYear</th>\n",
       "      <th>Week</th>\n",
       "      <th>Month</th>\n",
       "      <th>Year</th>\n",
       "      <th>Warehouse_A</th>\n",
       "      <th>Warehouse_C</th>\n",
       "      <th>Warehouse_J</th>\n",
       "      <th>Warehouse_S</th>\n",
       "      <th>AbsoluteDay</th>\n",
       "    </tr>\n",
       "  </thead>\n",
       "  <tbody>\n",
       "    <tr>\n",
       "      <th>Order_Demand</th>\n",
       "      <td>1.000000</td>\n",
       "      <td>0.029672</td>\n",
       "      <td>-0.002302</td>\n",
       "      <td>-0.002872</td>\n",
       "      <td>-0.009550</td>\n",
       "      <td>-0.002732</td>\n",
       "      <td>-0.005565</td>\n",
       "      <td>NaN</td>\n",
       "      <td>-0.030971</td>\n",
       "      <td>0.030971</td>\n",
       "      <td>NaN</td>\n",
       "      <td>-0.005979</td>\n",
       "    </tr>\n",
       "    <tr>\n",
       "      <th>DayOfWeek</th>\n",
       "      <td>0.029672</td>\n",
       "      <td>1.000000</td>\n",
       "      <td>0.031224</td>\n",
       "      <td>0.038126</td>\n",
       "      <td>0.025793</td>\n",
       "      <td>0.035578</td>\n",
       "      <td>0.025926</td>\n",
       "      <td>NaN</td>\n",
       "      <td>-0.020046</td>\n",
       "      <td>0.020046</td>\n",
       "      <td>NaN</td>\n",
       "      <td>0.032668</td>\n",
       "    </tr>\n",
       "    <tr>\n",
       "      <th>DayOfMonth</th>\n",
       "      <td>-0.002302</td>\n",
       "      <td>0.031224</td>\n",
       "      <td>1.000000</td>\n",
       "      <td>0.047939</td>\n",
       "      <td>0.045930</td>\n",
       "      <td>-0.036370</td>\n",
       "      <td>-0.025603</td>\n",
       "      <td>NaN</td>\n",
       "      <td>-0.027166</td>\n",
       "      <td>0.027166</td>\n",
       "      <td>NaN</td>\n",
       "      <td>-0.015614</td>\n",
       "    </tr>\n",
       "    <tr>\n",
       "      <th>DayOfYear</th>\n",
       "      <td>-0.002872</td>\n",
       "      <td>0.038126</td>\n",
       "      <td>0.047939</td>\n",
       "      <td>1.000000</td>\n",
       "      <td>0.997922</td>\n",
       "      <td>0.996420</td>\n",
       "      <td>0.035514</td>\n",
       "      <td>NaN</td>\n",
       "      <td>-0.035308</td>\n",
       "      <td>0.035308</td>\n",
       "      <td>NaN</td>\n",
       "      <td>0.229091</td>\n",
       "    </tr>\n",
       "    <tr>\n",
       "      <th>Week</th>\n",
       "      <td>-0.009550</td>\n",
       "      <td>0.025793</td>\n",
       "      <td>0.045930</td>\n",
       "      <td>0.997922</td>\n",
       "      <td>1.000000</td>\n",
       "      <td>0.994584</td>\n",
       "      <td>0.032216</td>\n",
       "      <td>NaN</td>\n",
       "      <td>-0.040227</td>\n",
       "      <td>0.040227</td>\n",
       "      <td>NaN</td>\n",
       "      <td>0.225474</td>\n",
       "    </tr>\n",
       "    <tr>\n",
       "      <th>Month</th>\n",
       "      <td>-0.002732</td>\n",
       "      <td>0.035578</td>\n",
       "      <td>-0.036370</td>\n",
       "      <td>0.996420</td>\n",
       "      <td>0.994584</td>\n",
       "      <td>1.000000</td>\n",
       "      <td>0.037640</td>\n",
       "      <td>NaN</td>\n",
       "      <td>-0.032924</td>\n",
       "      <td>0.032924</td>\n",
       "      <td>NaN</td>\n",
       "      <td>0.230465</td>\n",
       "    </tr>\n",
       "    <tr>\n",
       "      <th>Year</th>\n",
       "      <td>-0.005565</td>\n",
       "      <td>0.025926</td>\n",
       "      <td>-0.025603</td>\n",
       "      <td>0.035514</td>\n",
       "      <td>0.032216</td>\n",
       "      <td>0.037640</td>\n",
       "      <td>1.000000</td>\n",
       "      <td>NaN</td>\n",
       "      <td>0.020446</td>\n",
       "      <td>-0.020446</td>\n",
       "      <td>NaN</td>\n",
       "      <td>0.980927</td>\n",
       "    </tr>\n",
       "    <tr>\n",
       "      <th>Warehouse_A</th>\n",
       "      <td>NaN</td>\n",
       "      <td>NaN</td>\n",
       "      <td>NaN</td>\n",
       "      <td>NaN</td>\n",
       "      <td>NaN</td>\n",
       "      <td>NaN</td>\n",
       "      <td>NaN</td>\n",
       "      <td>NaN</td>\n",
       "      <td>NaN</td>\n",
       "      <td>NaN</td>\n",
       "      <td>NaN</td>\n",
       "      <td>NaN</td>\n",
       "    </tr>\n",
       "    <tr>\n",
       "      <th>Warehouse_C</th>\n",
       "      <td>-0.030971</td>\n",
       "      <td>-0.020046</td>\n",
       "      <td>-0.027166</td>\n",
       "      <td>-0.035308</td>\n",
       "      <td>-0.040227</td>\n",
       "      <td>-0.032924</td>\n",
       "      <td>0.020446</td>\n",
       "      <td>NaN</td>\n",
       "      <td>1.000000</td>\n",
       "      <td>-1.000000</td>\n",
       "      <td>NaN</td>\n",
       "      <td>0.013047</td>\n",
       "    </tr>\n",
       "    <tr>\n",
       "      <th>Warehouse_J</th>\n",
       "      <td>0.030971</td>\n",
       "      <td>0.020046</td>\n",
       "      <td>0.027166</td>\n",
       "      <td>0.035308</td>\n",
       "      <td>0.040227</td>\n",
       "      <td>0.032924</td>\n",
       "      <td>-0.020446</td>\n",
       "      <td>NaN</td>\n",
       "      <td>-1.000000</td>\n",
       "      <td>1.000000</td>\n",
       "      <td>NaN</td>\n",
       "      <td>-0.013047</td>\n",
       "    </tr>\n",
       "    <tr>\n",
       "      <th>Warehouse_S</th>\n",
       "      <td>NaN</td>\n",
       "      <td>NaN</td>\n",
       "      <td>NaN</td>\n",
       "      <td>NaN</td>\n",
       "      <td>NaN</td>\n",
       "      <td>NaN</td>\n",
       "      <td>NaN</td>\n",
       "      <td>NaN</td>\n",
       "      <td>NaN</td>\n",
       "      <td>NaN</td>\n",
       "      <td>NaN</td>\n",
       "      <td>NaN</td>\n",
       "    </tr>\n",
       "    <tr>\n",
       "      <th>AbsoluteDay</th>\n",
       "      <td>-0.005979</td>\n",
       "      <td>0.032668</td>\n",
       "      <td>-0.015614</td>\n",
       "      <td>0.229091</td>\n",
       "      <td>0.225474</td>\n",
       "      <td>0.230465</td>\n",
       "      <td>0.980927</td>\n",
       "      <td>NaN</td>\n",
       "      <td>0.013047</td>\n",
       "      <td>-0.013047</td>\n",
       "      <td>NaN</td>\n",
       "      <td>1.000000</td>\n",
       "    </tr>\n",
       "  </tbody>\n",
       "</table>\n",
       "</div>"
      ],
      "text/plain": [
       "              Order_Demand  DayOfWeek  DayOfMonth  DayOfYear      Week  \\\n",
       "Order_Demand      1.000000   0.029672   -0.002302  -0.002872 -0.009550   \n",
       "DayOfWeek         0.029672   1.000000    0.031224   0.038126  0.025793   \n",
       "DayOfMonth       -0.002302   0.031224    1.000000   0.047939  0.045930   \n",
       "DayOfYear        -0.002872   0.038126    0.047939   1.000000  0.997922   \n",
       "Week             -0.009550   0.025793    0.045930   0.997922  1.000000   \n",
       "Month            -0.002732   0.035578   -0.036370   0.996420  0.994584   \n",
       "Year             -0.005565   0.025926   -0.025603   0.035514  0.032216   \n",
       "Warehouse_A            NaN        NaN         NaN        NaN       NaN   \n",
       "Warehouse_C      -0.030971  -0.020046   -0.027166  -0.035308 -0.040227   \n",
       "Warehouse_J       0.030971   0.020046    0.027166   0.035308  0.040227   \n",
       "Warehouse_S            NaN        NaN         NaN        NaN       NaN   \n",
       "AbsoluteDay      -0.005979   0.032668   -0.015614   0.229091  0.225474   \n",
       "\n",
       "                 Month      Year  Warehouse_A  Warehouse_C  Warehouse_J  \\\n",
       "Order_Demand -0.002732 -0.005565          NaN    -0.030971     0.030971   \n",
       "DayOfWeek     0.035578  0.025926          NaN    -0.020046     0.020046   \n",
       "DayOfMonth   -0.036370 -0.025603          NaN    -0.027166     0.027166   \n",
       "DayOfYear     0.996420  0.035514          NaN    -0.035308     0.035308   \n",
       "Week          0.994584  0.032216          NaN    -0.040227     0.040227   \n",
       "Month         1.000000  0.037640          NaN    -0.032924     0.032924   \n",
       "Year          0.037640  1.000000          NaN     0.020446    -0.020446   \n",
       "Warehouse_A        NaN       NaN          NaN          NaN          NaN   \n",
       "Warehouse_C  -0.032924  0.020446          NaN     1.000000    -1.000000   \n",
       "Warehouse_J   0.032924 -0.020446          NaN    -1.000000     1.000000   \n",
       "Warehouse_S        NaN       NaN          NaN          NaN          NaN   \n",
       "AbsoluteDay   0.230465  0.980927          NaN     0.013047    -0.013047   \n",
       "\n",
       "              Warehouse_S  AbsoluteDay  \n",
       "Order_Demand          NaN    -0.005979  \n",
       "DayOfWeek             NaN     0.032668  \n",
       "DayOfMonth            NaN    -0.015614  \n",
       "DayOfYear             NaN     0.229091  \n",
       "Week                  NaN     0.225474  \n",
       "Month                 NaN     0.230465  \n",
       "Year                  NaN     0.980927  \n",
       "Warehouse_A           NaN          NaN  \n",
       "Warehouse_C           NaN     0.013047  \n",
       "Warehouse_J           NaN    -0.013047  \n",
       "Warehouse_S           NaN          NaN  \n",
       "AbsoluteDay           NaN     1.000000  "
      ]
     },
     "execution_count": 483,
     "metadata": {},
     "output_type": "execute_result"
    }
   ],
   "source": [
    "df[df['Product_Code'] == '1991'].corr()"
   ]
  },
  {
   "cell_type": "markdown",
   "metadata": {},
   "source": [
    "### Model Construction\n",
    "\n",
    "For each product, a variety of machine learning regression models using a variety of input features will be tested and compared based on their average coefficient of determination (r2_score).\n",
    "\n",
    "First, the pandas dataframe is converted to numpy arrays of input features (X arrays) and output regression targets (Y arrays). For each product, I will test a time series model trained with all time information, a model trained with week and year information, a model trained with day of month, month, and year information, and a model trained with day of year and year information. This will allow me to test different time granularities and select the best performing one for each product."
   ]
  },
  {
   "cell_type": "code",
   "execution_count": 484,
   "metadata": {},
   "outputs": [],
   "source": [
    "df1135 = df[df['Product_Code'] == '1135']\n",
    "df1222 = df[df['Product_Code'] == '1222']\n",
    "df1991 = df[df['Product_Code'] == '1991']\n",
    "\n",
    "Y1135 = df1135.Order_Demand.values\n",
    "Y1222 = df1222.Order_Demand.values\n",
    "Y1991 = df1991.Order_Demand.values\n",
    "\n",
    "X1135_all = df1135[['DayOfWeek', 'DayOfMonth', 'DayOfYear', 'Week', 'Month', 'Year', 'Warehouse_A', 'Warehouse_C', 'Warehouse_J', 'Warehouse_S']].values\n",
    "X1135_week = df1135[['Week', 'Year', 'Warehouse_A', 'Warehouse_C', 'Warehouse_J', 'Warehouse_S']].values\n",
    "X1135_month = df1135[['DayOfMonth', 'Month', 'Year', 'Warehouse_A', 'Warehouse_C', 'Warehouse_J', 'Warehouse_S']].values\n",
    "X1135_day = df1135[['DayOfYear', 'Year', 'Warehouse_A', 'Warehouse_C', 'Warehouse_J', 'Warehouse_S']].values\n",
    "\n",
    "X1222_all = df1222[['DayOfWeek', 'DayOfMonth', 'DayOfYear', 'Week', 'Month', 'Year', 'Warehouse_A', 'Warehouse_C', 'Warehouse_J', 'Warehouse_S']].values\n",
    "X1222_week = df1222[['Week', 'Year', 'Warehouse_A', 'Warehouse_C', 'Warehouse_J', 'Warehouse_S']].values\n",
    "X1222_month = df1222[['DayOfMonth', 'Month', 'Year', 'Warehouse_A', 'Warehouse_C', 'Warehouse_J', 'Warehouse_S']].values\n",
    "X1222_day = df1222[['DayOfYear', 'Year', 'Warehouse_A', 'Warehouse_C', 'Warehouse_J', 'Warehouse_S']].values\n",
    "\n",
    "X1991_all = df1991[['DayOfWeek', 'DayOfMonth', 'DayOfYear', 'Week', 'Month', 'Year', 'Warehouse_A', 'Warehouse_C', 'Warehouse_J', 'Warehouse_S']].values\n",
    "X1991_week = df1991[['Week', 'Year', 'Warehouse_A', 'Warehouse_C', 'Warehouse_J', 'Warehouse_S']].values\n",
    "X1991_month = df1991[['DayOfMonth', 'Month', 'Year', 'Warehouse_A', 'Warehouse_C', 'Warehouse_J', 'Warehouse_S']].values\n",
    "X1991_day = df1991[['DayOfYear', 'Year', 'Warehouse_A', 'Warehouse_C', 'Warehouse_J', 'Warehouse_S']].values"
   ]
  },
  {
   "cell_type": "markdown",
   "metadata": {},
   "source": [
    "### Testing Different Models With 10-Split Time Series Validation\n",
    "\n",
    "I will test Random Forest Regressor, Gradient Boosting Regressor, and Multi-layer Perceptron (MLP) Neural Network Regressor models for each product and each input feature set to determine the best performing model and time series granularity. These models were selected because ensemble approaches generally have good baseline performance and I wanted to compare the ensemble approaches' performance to the performance of a simple neural network.\n",
    "\n",
    "Average 10-split time series validation r2_score is selected as the scoring metric because 10-split time series validation will reduce overfitting, and the target model should be the model with predictions most closely matching the actual data throughout time.\n",
    "\n",
    "#### Generating a n_splits=10 Time Series Validation Object to Use for Testing"
   ]
  },
  {
   "cell_type": "code",
   "execution_count": 485,
   "metadata": {},
   "outputs": [],
   "source": [
    "tsplit = TimeSeriesSplit(n_splits=10)"
   ]
  },
  {
   "cell_type": "markdown",
   "metadata": {},
   "source": [
    "##### Product 1135 Random Forest With All Time Information"
   ]
  },
  {
   "cell_type": "code",
   "execution_count": 486,
   "metadata": {},
   "outputs": [],
   "source": [
    "r2_scores = []\n",
    "for train_index, test_index in tsplit.split(X1135_all):\n",
    "    X_train = X1135_all[train_index]\n",
    "    Y_train = Y1135[train_index]\n",
    "    \n",
    "    X_test = X1135_all[test_index]\n",
    "    Y_test = Y1135[test_index]\n",
    "    \n",
    "    predictions = RandomForestRegressor().fit(X_train, Y_train).predict(X_test)\n",
    "    r2_scores.append(r2_score(Y_test, predictions))"
   ]
  },
  {
   "cell_type": "code",
   "execution_count": 487,
   "metadata": {},
   "outputs": [
    {
     "data": {
      "text/plain": [
       "-0.4164980648896262"
      ]
     },
     "execution_count": 487,
     "metadata": {},
     "output_type": "execute_result"
    }
   ],
   "source": [
    "np.mean(r2_scores)"
   ]
  },
  {
   "cell_type": "markdown",
   "metadata": {},
   "source": [
    "##### Product 1135 Random Forest With Week and Year Information"
   ]
  },
  {
   "cell_type": "code",
   "execution_count": 488,
   "metadata": {},
   "outputs": [],
   "source": [
    "r2_scores = []\n",
    "for train_index, test_index in tsplit.split(X1135_week):\n",
    "    X_train = X1135_week[train_index]\n",
    "    Y_train = Y1135[train_index]\n",
    "    \n",
    "    X_test = X1135_week[test_index]\n",
    "    Y_test = Y1135[test_index]\n",
    "    \n",
    "    predictions = RandomForestRegressor().fit(X_train, Y_train).predict(X_test)\n",
    "    r2_scores.append(r2_score(Y_test, predictions))"
   ]
  },
  {
   "cell_type": "code",
   "execution_count": 489,
   "metadata": {},
   "outputs": [
    {
     "data": {
      "text/plain": [
       "-0.38922349237441584"
      ]
     },
     "execution_count": 489,
     "metadata": {},
     "output_type": "execute_result"
    }
   ],
   "source": [
    "np.mean(r2_scores)"
   ]
  },
  {
   "cell_type": "markdown",
   "metadata": {},
   "source": [
    "##### Product 1135 Random Forest With DayOfMonth, Month, and Year Information"
   ]
  },
  {
   "cell_type": "code",
   "execution_count": 490,
   "metadata": {},
   "outputs": [],
   "source": [
    "r2_scores = []\n",
    "for train_index, test_index in tsplit.split(X1135_month):\n",
    "    X_train = X1135_month[train_index]\n",
    "    Y_train = Y1135[train_index]\n",
    "    \n",
    "    X_test = X1135_month[test_index]\n",
    "    Y_test = Y1135[test_index]\n",
    "    \n",
    "    predictions = RandomForestRegressor().fit(X_train, Y_train).predict(X_test)\n",
    "    r2_scores.append(r2_score(Y_test, predictions))"
   ]
  },
  {
   "cell_type": "code",
   "execution_count": 491,
   "metadata": {
    "scrolled": true
   },
   "outputs": [
    {
     "data": {
      "text/plain": [
       "-0.3399007718057286"
      ]
     },
     "execution_count": 491,
     "metadata": {},
     "output_type": "execute_result"
    }
   ],
   "source": [
    "np.mean(r2_scores)"
   ]
  },
  {
   "cell_type": "markdown",
   "metadata": {},
   "source": [
    "###### Product 1135 Random Forest With DayOfYear and Year Information"
   ]
  },
  {
   "cell_type": "code",
   "execution_count": 492,
   "metadata": {},
   "outputs": [],
   "source": [
    "r2_scores = []\n",
    "for train_index, test_index in tsplit.split(X1135_day):\n",
    "    X_train = X1135_day[train_index]\n",
    "    Y_train = Y1135[train_index]\n",
    "    \n",
    "    X_test = X1135_day[test_index]\n",
    "    Y_test = Y1135[test_index]\n",
    "    \n",
    "    predictions = RandomForestRegressor().fit(X_train, Y_train).predict(X_test)\n",
    "    r2_scores.append(r2_score(Y_test, predictions))"
   ]
  },
  {
   "cell_type": "code",
   "execution_count": 493,
   "metadata": {
    "scrolled": true
   },
   "outputs": [
    {
     "data": {
      "text/plain": [
       "-0.5802576029380532"
      ]
     },
     "execution_count": 493,
     "metadata": {},
     "output_type": "execute_result"
    }
   ],
   "source": [
    "np.mean(r2_scores)"
   ]
  },
  {
   "cell_type": "markdown",
   "metadata": {},
   "source": [
    "###### Product 1135 Gradient Boosting With All Time Information"
   ]
  },
  {
   "cell_type": "code",
   "execution_count": 494,
   "metadata": {},
   "outputs": [],
   "source": [
    "r2_scores = []\n",
    "for train_index, test_index in tsplit.split(X1135_all):\n",
    "    X_train = X1135_all[train_index]\n",
    "    Y_train = Y1135[train_index]\n",
    "    \n",
    "    X_test = X1135_all[test_index]\n",
    "    Y_test = Y1135[test_index]\n",
    "    \n",
    "    predictions = GradientBoostingRegressor().fit(X_train, Y_train).predict(X_test)\n",
    "    r2_scores.append(r2_score(Y_test, predictions))"
   ]
  },
  {
   "cell_type": "code",
   "execution_count": 495,
   "metadata": {},
   "outputs": [
    {
     "data": {
      "text/plain": [
       "-0.4945983797869868"
      ]
     },
     "execution_count": 495,
     "metadata": {},
     "output_type": "execute_result"
    }
   ],
   "source": [
    "np.mean(r2_scores)"
   ]
  },
  {
   "cell_type": "markdown",
   "metadata": {},
   "source": [
    "##### Product 1135 Gradient Boosting With Week and Year Information"
   ]
  },
  {
   "cell_type": "code",
   "execution_count": 496,
   "metadata": {},
   "outputs": [],
   "source": [
    "r2_scores = []\n",
    "for train_index, test_index in tsplit.split(X1135_week):\n",
    "    X_train = X1135_week[train_index]\n",
    "    Y_train = Y1135[train_index]\n",
    "    \n",
    "    X_test = X1135_week[test_index]\n",
    "    Y_test = Y1135[test_index]\n",
    "    \n",
    "    predictions = GradientBoostingRegressor().fit(X_train, Y_train).predict(X_test)\n",
    "    r2_scores.append(r2_score(Y_test, predictions))"
   ]
  },
  {
   "cell_type": "code",
   "execution_count": 497,
   "metadata": {
    "scrolled": true
   },
   "outputs": [
    {
     "data": {
      "text/plain": [
       "-0.37841989450532193"
      ]
     },
     "execution_count": 497,
     "metadata": {},
     "output_type": "execute_result"
    }
   ],
   "source": [
    "np.mean(r2_scores)"
   ]
  },
  {
   "cell_type": "markdown",
   "metadata": {},
   "source": [
    "##### Product 1135 Gradient Boosting With DayOfMonth, Month, and Year Information"
   ]
  },
  {
   "cell_type": "code",
   "execution_count": 498,
   "metadata": {},
   "outputs": [],
   "source": [
    "r2_scores = []\n",
    "for train_index, test_index in tsplit.split(X1135_month):\n",
    "    X_train = X1135_month[train_index]\n",
    "    Y_train = Y1135[train_index]\n",
    "    \n",
    "    X_test = X1135_month[test_index]\n",
    "    Y_test = Y1135[test_index]\n",
    "    \n",
    "    predictions = GradientBoostingRegressor().fit(X_train, Y_train).predict(X_test)\n",
    "    r2_scores.append(r2_score(Y_test, predictions))"
   ]
  },
  {
   "cell_type": "code",
   "execution_count": 499,
   "metadata": {
    "scrolled": true
   },
   "outputs": [
    {
     "data": {
      "text/plain": [
       "-0.27089888191248496"
      ]
     },
     "execution_count": 499,
     "metadata": {},
     "output_type": "execute_result"
    }
   ],
   "source": [
    "np.mean(r2_scores)"
   ]
  },
  {
   "cell_type": "markdown",
   "metadata": {},
   "source": [
    "##### Product 1135 Gradient Boosting With DayOfYear and Year Information"
   ]
  },
  {
   "cell_type": "code",
   "execution_count": 500,
   "metadata": {},
   "outputs": [],
   "source": [
    "r2_scores = []\n",
    "for train_index, test_index in tsplit.split(X1135_day):\n",
    "    X_train = X1135_day[train_index]\n",
    "    Y_train = Y1135[train_index]\n",
    "    \n",
    "    X_test = X1135_day[test_index]\n",
    "    Y_test = Y1135[test_index]\n",
    "    \n",
    "    predictions = GradientBoostingRegressor().fit(X_train, Y_train).predict(X_test)\n",
    "    r2_scores.append(r2_score(Y_test, predictions))"
   ]
  },
  {
   "cell_type": "code",
   "execution_count": 501,
   "metadata": {},
   "outputs": [
    {
     "data": {
      "text/plain": [
       "-0.6050028283668576"
      ]
     },
     "execution_count": 501,
     "metadata": {},
     "output_type": "execute_result"
    }
   ],
   "source": [
    "np.mean(r2_scores)"
   ]
  },
  {
   "cell_type": "markdown",
   "metadata": {},
   "source": [
    "##### Product 1135 MLP With All Time Information"
   ]
  },
  {
   "cell_type": "code",
   "execution_count": 502,
   "metadata": {},
   "outputs": [],
   "source": [
    "r2_scores = []\n",
    "for train_index, test_index in tsplit.split(X1135_all):\n",
    "    X_train = X1135_all[train_index]\n",
    "    Y_train = Y1135[train_index]\n",
    "    \n",
    "    X_test = X1135_all[test_index]\n",
    "    Y_test = Y1135[test_index]\n",
    "    \n",
    "    predictions = MLPRegressor().fit(X_train, Y_train).predict(X_test)\n",
    "    r2_scores.append(r2_score(Y_test, predictions))"
   ]
  },
  {
   "cell_type": "code",
   "execution_count": 503,
   "metadata": {},
   "outputs": [
    {
     "data": {
      "text/plain": [
       "-0.32409915837315234"
      ]
     },
     "execution_count": 503,
     "metadata": {},
     "output_type": "execute_result"
    }
   ],
   "source": [
    "np.mean(r2_scores)"
   ]
  },
  {
   "cell_type": "markdown",
   "metadata": {},
   "source": [
    "##### Product 1135 MLP With Week and Year Information"
   ]
  },
  {
   "cell_type": "code",
   "execution_count": 504,
   "metadata": {},
   "outputs": [],
   "source": [
    "r2_scores = []\n",
    "for train_index, test_index in tsplit.split(X1135_week):\n",
    "    X_train = X1135_week[train_index]\n",
    "    Y_train = Y1135[train_index]\n",
    "    \n",
    "    X_test = X1135_week[test_index]\n",
    "    Y_test = Y1135[test_index]\n",
    "    \n",
    "    predictions = MLPRegressor().fit(X_train, Y_train).predict(X_test)\n",
    "    r2_scores.append(r2_score(Y_test, predictions))"
   ]
  },
  {
   "cell_type": "code",
   "execution_count": 505,
   "metadata": {},
   "outputs": [
    {
     "data": {
      "text/plain": [
       "-0.4857058314468995"
      ]
     },
     "execution_count": 505,
     "metadata": {},
     "output_type": "execute_result"
    }
   ],
   "source": [
    "np.mean(r2_scores)"
   ]
  },
  {
   "cell_type": "markdown",
   "metadata": {},
   "source": [
    "##### Product 1135 MLP With DayOfMonth, Month, and Year Information"
   ]
  },
  {
   "cell_type": "code",
   "execution_count": 506,
   "metadata": {},
   "outputs": [],
   "source": [
    "r2_scores = []\n",
    "for train_index, test_index in tsplit.split(X1135_month):\n",
    "    X_train = X1135_month[train_index]\n",
    "    Y_train = Y1135[train_index]\n",
    "    \n",
    "    X_test = X1135_month[test_index]\n",
    "    Y_test = Y1135[test_index]\n",
    "    \n",
    "    predictions = MLPRegressor().fit(X_train, Y_train).predict(X_test)\n",
    "    r2_scores.append(r2_score(Y_test, predictions))"
   ]
  },
  {
   "cell_type": "code",
   "execution_count": 507,
   "metadata": {},
   "outputs": [
    {
     "data": {
      "text/plain": [
       "-0.47334367136229033"
      ]
     },
     "execution_count": 507,
     "metadata": {},
     "output_type": "execute_result"
    }
   ],
   "source": [
    "np.mean(r2_scores)"
   ]
  },
  {
   "cell_type": "markdown",
   "metadata": {},
   "source": [
    "##### Product 1135 MLP With DayOfYear and Year Information"
   ]
  },
  {
   "cell_type": "code",
   "execution_count": 508,
   "metadata": {},
   "outputs": [],
   "source": [
    "r2_scores = []\n",
    "for train_index, test_index in tsplit.split(X1135_day):\n",
    "    X_train = X1135_day[train_index]\n",
    "    Y_train = Y1135[train_index]\n",
    "    \n",
    "    X_test = X1135_day[test_index]\n",
    "    Y_test = Y1135[test_index]\n",
    "    \n",
    "    predictions = MLPRegressor().fit(X_train, Y_train).predict(X_test)\n",
    "    r2_scores.append(r2_score(Y_test, predictions))"
   ]
  },
  {
   "cell_type": "code",
   "execution_count": 509,
   "metadata": {
    "scrolled": true
   },
   "outputs": [
    {
     "data": {
      "text/plain": [
       "-0.3827920287481291"
      ]
     },
     "execution_count": 509,
     "metadata": {},
     "output_type": "execute_result"
    }
   ],
   "source": [
    "np.mean(r2_scores)"
   ]
  },
  {
   "cell_type": "markdown",
   "metadata": {},
   "source": [
    "### Product 1135 Results\n",
    "\n",
    "Overall, no model was able to achieve a positive r2_score for predicting product 1135's demand. I anticipated that a model would achieve decent performance since the Year and Demand have a moderately negative correlation coefficient for product 1135, but it appears that the overall variance and nonregular demand spikes of product 1135 limit the performance of the models that were tested. Perhaps a model could perform better for this product if the outliers were removed from the data set, but as is, no model was able to perform decently."
   ]
  },
  {
   "cell_type": "markdown",
   "metadata": {},
   "source": [
    "##### Product 1222 Random Forest With All Time Information"
   ]
  },
  {
   "cell_type": "code",
   "execution_count": 510,
   "metadata": {},
   "outputs": [],
   "source": [
    "r2_scores = []\n",
    "for train_index, test_index in tsplit.split(X1222_all):\n",
    "    X_train = X1222_all[train_index]\n",
    "    Y_train = Y1222[train_index]\n",
    "    \n",
    "    X_test = X1222_all[test_index]\n",
    "    Y_test = Y1222[test_index]\n",
    "    \n",
    "    predictions = RandomForestRegressor().fit(X_train, Y_train).predict(X_test)\n",
    "    r2_scores.append(r2_score(Y_test, predictions))"
   ]
  },
  {
   "cell_type": "code",
   "execution_count": 511,
   "metadata": {},
   "outputs": [
    {
     "data": {
      "text/plain": [
       "-0.19646817710491898"
      ]
     },
     "execution_count": 511,
     "metadata": {},
     "output_type": "execute_result"
    }
   ],
   "source": [
    "np.mean(r2_scores)"
   ]
  },
  {
   "cell_type": "markdown",
   "metadata": {},
   "source": [
    "##### Product 1222 Random Forest With Week and Year Information"
   ]
  },
  {
   "cell_type": "code",
   "execution_count": 512,
   "metadata": {},
   "outputs": [],
   "source": [
    "r2_scores = []\n",
    "for train_index, test_index in tsplit.split(X1222_week):\n",
    "    X_train = X1222_week[train_index]\n",
    "    Y_train = Y1222[train_index]\n",
    "    \n",
    "    X_test = X1222_week[test_index]\n",
    "    Y_test = Y1222[test_index]\n",
    "    \n",
    "    predictions = RandomForestRegressor().fit(X_train, Y_train).predict(X_test)\n",
    "    r2_scores.append(r2_score(Y_test, predictions))"
   ]
  },
  {
   "cell_type": "code",
   "execution_count": 513,
   "metadata": {},
   "outputs": [
    {
     "data": {
      "text/plain": [
       "-0.09572886113252832"
      ]
     },
     "execution_count": 513,
     "metadata": {},
     "output_type": "execute_result"
    }
   ],
   "source": [
    "np.mean(r2_scores)"
   ]
  },
  {
   "cell_type": "markdown",
   "metadata": {},
   "source": [
    "##### Product 1222 Random Forest With DayOfMonth, Month, and Year Information"
   ]
  },
  {
   "cell_type": "code",
   "execution_count": 514,
   "metadata": {},
   "outputs": [],
   "source": [
    "r2_scores = []\n",
    "for train_index, test_index in tsplit.split(X1222_month):\n",
    "    X_train = X1222_month[train_index]\n",
    "    Y_train = Y1222[train_index]\n",
    "    \n",
    "    X_test = X1222_month[test_index]\n",
    "    Y_test = Y1222[test_index]\n",
    "    \n",
    "    predictions = RandomForestRegressor().fit(X_train, Y_train).predict(X_test)\n",
    "    r2_scores.append(r2_score(Y_test, predictions))"
   ]
  },
  {
   "cell_type": "code",
   "execution_count": 515,
   "metadata": {},
   "outputs": [
    {
     "data": {
      "text/plain": [
       "-0.37987305917140973"
      ]
     },
     "execution_count": 515,
     "metadata": {},
     "output_type": "execute_result"
    }
   ],
   "source": [
    "np.mean(r2_scores)"
   ]
  },
  {
   "cell_type": "markdown",
   "metadata": {},
   "source": [
    "##### Product 1222 Random Forest With DayOfYear and Year Information"
   ]
  },
  {
   "cell_type": "code",
   "execution_count": 516,
   "metadata": {},
   "outputs": [],
   "source": [
    "r2_scores = []\n",
    "for train_index, test_index in tsplit.split(X1222_day):\n",
    "    X_train = X1222_day[train_index]\n",
    "    Y_train = Y1222[train_index]\n",
    "    \n",
    "    X_test = X1222_day[test_index]\n",
    "    Y_test = Y1222[test_index]\n",
    "    \n",
    "    predictions = RandomForestRegressor().fit(X_train, Y_train).predict(X_test)\n",
    "    r2_scores.append(r2_score(Y_test, predictions))"
   ]
  },
  {
   "cell_type": "code",
   "execution_count": 517,
   "metadata": {},
   "outputs": [
    {
     "data": {
      "text/plain": [
       "-0.24754021449804794"
      ]
     },
     "execution_count": 517,
     "metadata": {},
     "output_type": "execute_result"
    }
   ],
   "source": [
    "np.mean(r2_scores)"
   ]
  },
  {
   "cell_type": "markdown",
   "metadata": {},
   "source": [
    "##### Product 1222 Gradient Boosting With All Time Information"
   ]
  },
  {
   "cell_type": "code",
   "execution_count": 518,
   "metadata": {},
   "outputs": [],
   "source": [
    "r2_scores = []\n",
    "for train_index, test_index in tsplit.split(X1222_all):\n",
    "    X_train = X1222_all[train_index]\n",
    "    Y_train = Y1222[train_index]\n",
    "    \n",
    "    X_test = X1222_all[test_index]\n",
    "    Y_test = Y1222[test_index]\n",
    "    \n",
    "    predictions = GradientBoostingRegressor().fit(X_train, Y_train).predict(X_test)\n",
    "    r2_scores.append(r2_score(Y_test, predictions))"
   ]
  },
  {
   "cell_type": "code",
   "execution_count": 519,
   "metadata": {},
   "outputs": [
    {
     "data": {
      "text/plain": [
       "-0.15969372911670282"
      ]
     },
     "execution_count": 519,
     "metadata": {},
     "output_type": "execute_result"
    }
   ],
   "source": [
    "np.mean(r2_scores)"
   ]
  },
  {
   "cell_type": "markdown",
   "metadata": {},
   "source": [
    "##### Product 1222 Gradient Boosting With Week and Year Information"
   ]
  },
  {
   "cell_type": "code",
   "execution_count": 520,
   "metadata": {},
   "outputs": [],
   "source": [
    "r2_scores = []\n",
    "for train_index, test_index in tsplit.split(X1222_week):\n",
    "    X_train = X1222_week[train_index]\n",
    "    Y_train = Y1222[train_index]\n",
    "    \n",
    "    X_test = X1222_week[test_index]\n",
    "    Y_test = Y1222[test_index]\n",
    "    \n",
    "    predictions = GradientBoostingRegressor().fit(X_train, Y_train).predict(X_test)\n",
    "    r2_scores.append(r2_score(Y_test, predictions))"
   ]
  },
  {
   "cell_type": "code",
   "execution_count": 521,
   "metadata": {},
   "outputs": [
    {
     "data": {
      "text/plain": [
       "-0.05030117027663909"
      ]
     },
     "execution_count": 521,
     "metadata": {},
     "output_type": "execute_result"
    }
   ],
   "source": [
    "np.mean(r2_scores)"
   ]
  },
  {
   "cell_type": "markdown",
   "metadata": {},
   "source": [
    "##### Product 1222 Gradient Boosting With DayOfMonth, Month, and Year Information"
   ]
  },
  {
   "cell_type": "code",
   "execution_count": 522,
   "metadata": {},
   "outputs": [],
   "source": [
    "r2_scores = []\n",
    "for train_index, test_index in tsplit.split(X1222_month):\n",
    "    X_train = X1222_month[train_index]\n",
    "    Y_train = Y1222[train_index]\n",
    "    \n",
    "    X_test = X1222_month[test_index]\n",
    "    Y_test = Y1222[test_index]\n",
    "    \n",
    "    predictions = GradientBoostingRegressor().fit(X_train, Y_train).predict(X_test)\n",
    "    r2_scores.append(r2_score(Y_test, predictions))"
   ]
  },
  {
   "cell_type": "code",
   "execution_count": 523,
   "metadata": {},
   "outputs": [
    {
     "data": {
      "text/plain": [
       "-0.062637753263357"
      ]
     },
     "execution_count": 523,
     "metadata": {},
     "output_type": "execute_result"
    }
   ],
   "source": [
    "np.mean(r2_scores)"
   ]
  },
  {
   "cell_type": "markdown",
   "metadata": {},
   "source": [
    "##### Product 1222 Gradient Boosting With DayOfYear and Year Information"
   ]
  },
  {
   "cell_type": "code",
   "execution_count": 524,
   "metadata": {},
   "outputs": [],
   "source": [
    "r2_scores = []\n",
    "for train_index, test_index in tsplit.split(X1222_day):\n",
    "    X_train = X1222_day[train_index]\n",
    "    Y_train = Y1222[train_index]\n",
    "    \n",
    "    X_test = X1222_day[test_index]\n",
    "    Y_test = Y1222[test_index]\n",
    "    \n",
    "    predictions = GradientBoostingRegressor().fit(X_train, Y_train).predict(X_test)\n",
    "    r2_scores.append(r2_score(Y_test, predictions))"
   ]
  },
  {
   "cell_type": "code",
   "execution_count": 525,
   "metadata": {},
   "outputs": [
    {
     "data": {
      "text/plain": [
       "-0.10406657478689199"
      ]
     },
     "execution_count": 525,
     "metadata": {},
     "output_type": "execute_result"
    }
   ],
   "source": [
    "np.mean(r2_scores)"
   ]
  },
  {
   "cell_type": "markdown",
   "metadata": {},
   "source": [
    "##### Product 1222 MLP With All Time Information"
   ]
  },
  {
   "cell_type": "code",
   "execution_count": 526,
   "metadata": {},
   "outputs": [],
   "source": [
    "r2_scores = []\n",
    "for train_index, test_index in tsplit.split(X1222_all):\n",
    "    X_train = X1222_all[train_index]\n",
    "    Y_train = Y1222[train_index]\n",
    "    \n",
    "    X_test = X1222_all[test_index]\n",
    "    Y_test = Y1222[test_index]\n",
    "    \n",
    "    predictions =MLPRegressor().fit(X_train, Y_train).predict(X_test)\n",
    "    r2_scores.append(r2_score(Y_test, predictions))"
   ]
  },
  {
   "cell_type": "code",
   "execution_count": 527,
   "metadata": {},
   "outputs": [
    {
     "data": {
      "text/plain": [
       "-0.030195289047404317"
      ]
     },
     "execution_count": 527,
     "metadata": {},
     "output_type": "execute_result"
    }
   ],
   "source": [
    "np.mean(r2_scores)"
   ]
  },
  {
   "cell_type": "markdown",
   "metadata": {},
   "source": [
    "##### Product 1222 MLP With Week and Year Information"
   ]
  },
  {
   "cell_type": "code",
   "execution_count": 528,
   "metadata": {},
   "outputs": [],
   "source": [
    "r2_scores = []\n",
    "for train_index, test_index in tsplit.split(X1222_week):\n",
    "    X_train = X1222_week[train_index]\n",
    "    Y_train = Y1222[train_index]\n",
    "    \n",
    "    X_test = X1222_week[test_index]\n",
    "    Y_test = Y1222[test_index]\n",
    "    \n",
    "    predictions =MLPRegressor().fit(X_train, Y_train).predict(X_test)\n",
    "    r2_scores.append(r2_score(Y_test, predictions))"
   ]
  },
  {
   "cell_type": "code",
   "execution_count": 529,
   "metadata": {},
   "outputs": [
    {
     "data": {
      "text/plain": [
       "-0.035563598686602124"
      ]
     },
     "execution_count": 529,
     "metadata": {},
     "output_type": "execute_result"
    }
   ],
   "source": [
    "np.mean(r2_scores)"
   ]
  },
  {
   "cell_type": "markdown",
   "metadata": {},
   "source": [
    "##### Product 1222 MLP With DayOfMonth, Month, and Year Information"
   ]
  },
  {
   "cell_type": "code",
   "execution_count": 530,
   "metadata": {},
   "outputs": [],
   "source": [
    "r2_scores = []\n",
    "for train_index, test_index in tsplit.split(X1222_month):\n",
    "    X_train = X1222_month[train_index]\n",
    "    Y_train = Y1222[train_index]\n",
    "    \n",
    "    X_test = X1222_month[test_index]\n",
    "    Y_test = Y1222[test_index]\n",
    "    \n",
    "    predictions =MLPRegressor().fit(X_train, Y_train).predict(X_test)\n",
    "    r2_scores.append(r2_score(Y_test, predictions))"
   ]
  },
  {
   "cell_type": "code",
   "execution_count": 531,
   "metadata": {},
   "outputs": [
    {
     "data": {
      "text/plain": [
       "-0.032487475738538475"
      ]
     },
     "execution_count": 531,
     "metadata": {},
     "output_type": "execute_result"
    }
   ],
   "source": [
    "np.mean(r2_scores)"
   ]
  },
  {
   "cell_type": "markdown",
   "metadata": {},
   "source": [
    "##### Product 1222 MLP With DayOfYear and Year Information"
   ]
  },
  {
   "cell_type": "code",
   "execution_count": 532,
   "metadata": {},
   "outputs": [],
   "source": [
    "r2_scores = []\n",
    "for train_index, test_index in tsplit.split(X1222_day):\n",
    "    X_train = X1222_day[train_index]\n",
    "    Y_train = Y1222[train_index]\n",
    "    \n",
    "    X_test = X1222_day[test_index]\n",
    "    Y_test = Y1222[test_index]\n",
    "    \n",
    "    predictions =MLPRegressor().fit(X_train, Y_train).predict(X_test)\n",
    "    r2_scores.append(r2_score(Y_test, predictions))"
   ]
  },
  {
   "cell_type": "code",
   "execution_count": 533,
   "metadata": {},
   "outputs": [
    {
     "data": {
      "text/plain": [
       "-0.0381869347804489"
      ]
     },
     "execution_count": 533,
     "metadata": {},
     "output_type": "execute_result"
    }
   ],
   "source": [
    "np.mean(r2_scores)"
   ]
  },
  {
   "cell_type": "markdown",
   "metadata": {},
   "source": [
    "### Product 1222 Results\n",
    "\n",
    "Overall, no model was able to achieve a positive r2_score for predicting product 1222's demand. I anticipated that a time series forecasting model would be able to predict the semi-regular demand spikes of product 1222, but it appears that all of the models tested struggle with the irregularity of these demand spikes. More exploratory data analysis could potentially find a time granularity which makes it easier for a machine learning model to discover product 1222's irregular demand spikes. It is also possible that a deep learning neural network could pick up on the irregularity of these demand spikes better than any of the models that I tested could."
   ]
  },
  {
   "cell_type": "markdown",
   "metadata": {},
   "source": [
    "##### Product 1991 Random Forest With All Time Information"
   ]
  },
  {
   "cell_type": "code",
   "execution_count": 534,
   "metadata": {},
   "outputs": [],
   "source": [
    "r2_scores = []\n",
    "for train_index, test_index in tsplit.split(X1991_all):\n",
    "    X_train = X1991_all[train_index]\n",
    "    Y_train = Y1991[train_index]\n",
    "    \n",
    "    X_test = X1991_all[test_index]\n",
    "    Y_test = Y1991[test_index]\n",
    "    \n",
    "    predictions = RandomForestRegressor().fit(X_train, Y_train).predict(X_test)\n",
    "    r2_scores.append(r2_score(Y_test, predictions))"
   ]
  },
  {
   "cell_type": "code",
   "execution_count": 535,
   "metadata": {
    "scrolled": true
   },
   "outputs": [
    {
     "data": {
      "text/plain": [
       "-0.26492535326739053"
      ]
     },
     "execution_count": 535,
     "metadata": {},
     "output_type": "execute_result"
    }
   ],
   "source": [
    "np.mean(r2_scores)"
   ]
  },
  {
   "cell_type": "markdown",
   "metadata": {},
   "source": [
    "##### Product 1991 Random Forest With Week and Year Information"
   ]
  },
  {
   "cell_type": "code",
   "execution_count": 536,
   "metadata": {},
   "outputs": [],
   "source": [
    "r2_scores = []\n",
    "for train_index, test_index in tsplit.split(X1991_week):\n",
    "    X_train = X1991_week[train_index]\n",
    "    Y_train = Y1991[train_index]\n",
    "    \n",
    "    X_test = X1991_week[test_index]\n",
    "    Y_test = Y1991[test_index]\n",
    "    \n",
    "    predictions = RandomForestRegressor().fit(X_train, Y_train).predict(X_test)\n",
    "    r2_scores.append(r2_score(Y_test, predictions))"
   ]
  },
  {
   "cell_type": "code",
   "execution_count": 537,
   "metadata": {},
   "outputs": [
    {
     "data": {
      "text/plain": [
       "-0.15342918139416067"
      ]
     },
     "execution_count": 537,
     "metadata": {},
     "output_type": "execute_result"
    }
   ],
   "source": [
    "np.mean(r2_scores)"
   ]
  },
  {
   "cell_type": "markdown",
   "metadata": {},
   "source": [
    "##### Product 1991 Random Forest With DayOfMonth, Month, and Year"
   ]
  },
  {
   "cell_type": "code",
   "execution_count": 538,
   "metadata": {},
   "outputs": [],
   "source": [
    "r2_scores = []\n",
    "for train_index, test_index in tsplit.split(X1991_month):\n",
    "    X_train = X1991_month[train_index]\n",
    "    Y_train = Y1991[train_index]\n",
    "    \n",
    "    X_test = X1991_month[test_index]\n",
    "    Y_test = Y1991[test_index]\n",
    "    \n",
    "    predictions = RandomForestRegressor().fit(X_train, Y_train).predict(X_test)\n",
    "    r2_scores.append(r2_score(Y_test, predictions))"
   ]
  },
  {
   "cell_type": "code",
   "execution_count": 539,
   "metadata": {},
   "outputs": [
    {
     "data": {
      "text/plain": [
       "-0.34355446656625127"
      ]
     },
     "execution_count": 539,
     "metadata": {},
     "output_type": "execute_result"
    }
   ],
   "source": [
    "np.mean(r2_scores)"
   ]
  },
  {
   "cell_type": "markdown",
   "metadata": {},
   "source": [
    "##### Product 1991 Random Forest With DayOfYear and Year"
   ]
  },
  {
   "cell_type": "code",
   "execution_count": 540,
   "metadata": {},
   "outputs": [],
   "source": [
    "r2_scores = []\n",
    "for train_index, test_index in tsplit.split(X1991_day):\n",
    "    X_train = X1991_day[train_index]\n",
    "    Y_train = Y1991[train_index]\n",
    "    \n",
    "    X_test = X1991_day[test_index]\n",
    "    Y_test = Y1991[test_index]\n",
    "    \n",
    "    predictions = RandomForestRegressor().fit(X_train, Y_train).predict(X_test)\n",
    "    r2_scores.append(r2_score(Y_test, predictions))"
   ]
  },
  {
   "cell_type": "code",
   "execution_count": 541,
   "metadata": {},
   "outputs": [
    {
     "data": {
      "text/plain": [
       "-0.39426155278825153"
      ]
     },
     "execution_count": 541,
     "metadata": {},
     "output_type": "execute_result"
    }
   ],
   "source": [
    "np.mean(r2_scores)"
   ]
  },
  {
   "cell_type": "markdown",
   "metadata": {},
   "source": [
    "##### Product 1991 Gradient Boosting WithAll Time Information"
   ]
  },
  {
   "cell_type": "code",
   "execution_count": 542,
   "metadata": {},
   "outputs": [],
   "source": [
    "r2_scores = []\n",
    "for train_index, test_index in tsplit.split(X1991_all):\n",
    "    X_train = X1991_all[train_index]\n",
    "    Y_train = Y1991[train_index]\n",
    "    \n",
    "    X_test = X1991_all[test_index]\n",
    "    Y_test = Y1991[test_index]\n",
    "    \n",
    "    predictions = GradientBoostingRegressor().fit(X_train, Y_train).predict(X_test)\n",
    "    r2_scores.append(r2_score(Y_test, predictions))"
   ]
  },
  {
   "cell_type": "code",
   "execution_count": 543,
   "metadata": {},
   "outputs": [
    {
     "data": {
      "text/plain": [
       "-0.13634603277685137"
      ]
     },
     "execution_count": 543,
     "metadata": {},
     "output_type": "execute_result"
    }
   ],
   "source": [
    "np.mean(r2_scores)"
   ]
  },
  {
   "cell_type": "markdown",
   "metadata": {},
   "source": [
    "##### Product 1991 Gradient Boosting With Week and Year Information"
   ]
  },
  {
   "cell_type": "code",
   "execution_count": 544,
   "metadata": {},
   "outputs": [],
   "source": [
    "r2_scores = []\n",
    "for train_index, test_index in tsplit.split(X1991_week):\n",
    "    X_train = X1991_week[train_index]\n",
    "    Y_train = Y1991[train_index]\n",
    "    \n",
    "    X_test = X1991_week[test_index]\n",
    "    Y_test = Y1991[test_index]\n",
    "    \n",
    "    predictions = GradientBoostingRegressor().fit(X_train, Y_train).predict(X_test)\n",
    "    r2_scores.append(r2_score(Y_test, predictions))"
   ]
  },
  {
   "cell_type": "code",
   "execution_count": 545,
   "metadata": {},
   "outputs": [
    {
     "data": {
      "text/plain": [
       "-0.12366149880135799"
      ]
     },
     "execution_count": 545,
     "metadata": {},
     "output_type": "execute_result"
    }
   ],
   "source": [
    "np.mean(r2_scores)"
   ]
  },
  {
   "cell_type": "markdown",
   "metadata": {},
   "source": [
    "##### Product 1991 Gradient Boosting With DayOfMonth, Month, and Year Information"
   ]
  },
  {
   "cell_type": "code",
   "execution_count": 546,
   "metadata": {},
   "outputs": [],
   "source": [
    "r2_scores = []\n",
    "for train_index, test_index in tsplit.split(X1991_month):\n",
    "    X_train = X1991_month[train_index]\n",
    "    Y_train = Y1991[train_index]\n",
    "    \n",
    "    X_test = X1991_month[test_index]\n",
    "    Y_test = Y1991[test_index]\n",
    "    \n",
    "    predictions = GradientBoostingRegressor().fit(X_train, Y_train).predict(X_test)\n",
    "    r2_scores.append(r2_score(Y_test, predictions))"
   ]
  },
  {
   "cell_type": "code",
   "execution_count": 547,
   "metadata": {},
   "outputs": [
    {
     "data": {
      "text/plain": [
       "-0.15548701263462877"
      ]
     },
     "execution_count": 547,
     "metadata": {},
     "output_type": "execute_result"
    }
   ],
   "source": [
    "np.mean(r2_scores)"
   ]
  },
  {
   "cell_type": "markdown",
   "metadata": {},
   "source": [
    "##### Product 1991 Gradient Boosting With DayOfYear and Year Information"
   ]
  },
  {
   "cell_type": "code",
   "execution_count": 548,
   "metadata": {},
   "outputs": [],
   "source": [
    "r2_scores = []\n",
    "for train_index, test_index in tsplit.split(X1991_day):\n",
    "    X_train = X1991_day[train_index]\n",
    "    Y_train = Y1991[train_index]\n",
    "    \n",
    "    X_test = X1991_day[test_index]\n",
    "    Y_test = Y1991[test_index]\n",
    "    \n",
    "    predictions = GradientBoostingRegressor().fit(X_train, Y_train).predict(X_test)\n",
    "    r2_scores.append(r2_score(Y_test, predictions))"
   ]
  },
  {
   "cell_type": "code",
   "execution_count": 549,
   "metadata": {},
   "outputs": [
    {
     "data": {
      "text/plain": [
       "-0.1587813466387103"
      ]
     },
     "execution_count": 549,
     "metadata": {},
     "output_type": "execute_result"
    }
   ],
   "source": [
    "np.mean(r2_scores)"
   ]
  },
  {
   "cell_type": "markdown",
   "metadata": {},
   "source": [
    "##### Product 1991 MLP With All Time Information"
   ]
  },
  {
   "cell_type": "code",
   "execution_count": 550,
   "metadata": {},
   "outputs": [],
   "source": [
    "r2_scores = []\n",
    "for train_index, test_index in tsplit.split(X1991_all):\n",
    "    X_train = X1991_all[train_index]\n",
    "    Y_train = Y1991[train_index]\n",
    "    \n",
    "    X_test = X1991_all[test_index]\n",
    "    Y_test = Y1991[test_index]\n",
    "    \n",
    "    predictions = MLPRegressor().fit(X_train, Y_train).predict(X_test)\n",
    "    r2_scores.append(r2_score(Y_test, predictions))"
   ]
  },
  {
   "cell_type": "code",
   "execution_count": 551,
   "metadata": {},
   "outputs": [
    {
     "data": {
      "text/plain": [
       "-0.03053179937173096"
      ]
     },
     "execution_count": 551,
     "metadata": {},
     "output_type": "execute_result"
    }
   ],
   "source": [
    "np.mean(r2_scores)"
   ]
  },
  {
   "cell_type": "markdown",
   "metadata": {},
   "source": [
    "##### Product 1991 MLP With Week and Year Information"
   ]
  },
  {
   "cell_type": "code",
   "execution_count": 552,
   "metadata": {},
   "outputs": [],
   "source": [
    "r2_scores = []\n",
    "for train_index, test_index in tsplit.split(X1991_week):\n",
    "    X_train = X1991_week[train_index]\n",
    "    Y_train = Y1991[train_index]\n",
    "    \n",
    "    X_test = X1991_week[test_index]\n",
    "    Y_test = Y1991[test_index]\n",
    "    \n",
    "    predictions = MLPRegressor().fit(X_train, Y_train).predict(X_test)\n",
    "    r2_scores.append(r2_score(Y_test, predictions))"
   ]
  },
  {
   "cell_type": "code",
   "execution_count": 553,
   "metadata": {},
   "outputs": [
    {
     "data": {
      "text/plain": [
       "-0.03917412358158625"
      ]
     },
     "execution_count": 553,
     "metadata": {},
     "output_type": "execute_result"
    }
   ],
   "source": [
    "np.mean(r2_scores)"
   ]
  },
  {
   "cell_type": "markdown",
   "metadata": {},
   "source": [
    "##### Product 1991 MLP With DayOfMonth, Month, and Year Information"
   ]
  },
  {
   "cell_type": "code",
   "execution_count": 554,
   "metadata": {},
   "outputs": [],
   "source": [
    "r2_scores = []\n",
    "for train_index, test_index in tsplit.split(X1991_month):\n",
    "    X_train = X1991_month[train_index]\n",
    "    Y_train = Y1991[train_index]\n",
    "    \n",
    "    X_test = X1991_month[test_index]\n",
    "    Y_test = Y1991[test_index]\n",
    "    \n",
    "    predictions = MLPRegressor().fit(X_train, Y_train).predict(X_test)\n",
    "    r2_scores.append(r2_score(Y_test, predictions))"
   ]
  },
  {
   "cell_type": "code",
   "execution_count": 555,
   "metadata": {},
   "outputs": [
    {
     "data": {
      "text/plain": [
       "-0.02965124677637826"
      ]
     },
     "execution_count": 555,
     "metadata": {},
     "output_type": "execute_result"
    }
   ],
   "source": [
    "np.mean(r2_scores)"
   ]
  },
  {
   "cell_type": "markdown",
   "metadata": {},
   "source": [
    "##### Product 1991 MLP With DayOfYear and Year Information"
   ]
  },
  {
   "cell_type": "code",
   "execution_count": 556,
   "metadata": {},
   "outputs": [],
   "source": [
    "r2_scores = []\n",
    "for train_index, test_index in tsplit.split(X1991_day):\n",
    "    X_train = X1991_day[train_index]\n",
    "    Y_train = Y1991[train_index]\n",
    "    \n",
    "    X_test = X1991_day[test_index]\n",
    "    Y_test = Y1991[test_index]\n",
    "    \n",
    "    predictions = MLPRegressor().fit(X_train, Y_train).predict(X_test)\n",
    "    r2_scores.append(r2_score(Y_test, predictions))"
   ]
  },
  {
   "cell_type": "code",
   "execution_count": 557,
   "metadata": {},
   "outputs": [
    {
     "data": {
      "text/plain": [
       "-0.039565003685469405"
      ]
     },
     "execution_count": 557,
     "metadata": {},
     "output_type": "execute_result"
    }
   ],
   "source": [
    "np.mean(r2_scores)"
   ]
  },
  {
   "cell_type": "markdown",
   "metadata": {},
   "source": [
    "### Product 1991 Results\n",
    "\n",
    "Once again, no models tested were able to achieve a positive average r2_score for predicting product 1991's demand. I anticipated that a time series forecasting model would be able to predict the oscilating demand pattern of product 1991, but the models struggled to do this because the oscilating demand of product 1991 is irregular and filled with outliers. Both of these factors likely caused significant negative impacts in model performance. It is possible that a deep learning nerual network could predict this irregular oscilating pattern, but it is a very difficult pattern to predict using classical approaches."
   ]
  },
  {
   "cell_type": "markdown",
   "metadata": {},
   "source": [
    "## Results\n",
    "\n",
    "For three distinct products, I built and tested a variety of time series forecasting models using different time granularities to predict the demand of the product. Overall, no model for any product was able to achieve a positive average coefficient of determination in time series split testing. This is because the products that I had selected to build models for have semi-irregular demand patterns and numerous outliers. All of the tested models appeared to struggle with the irregular patterns and outliers in the examined products' demands. It is very likely that further data set cleaning to remove outlier values will produce better results for the products examined, but with the irregular patterns observed it will still be difficult to achieve very high performance models.\n",
    "\n",
    "From these results I have learned the importance of outlier cleaning in time series forecasting (and regression in general). Outliers both negatively influence model training and significantly harm r2_score, and so I will take note to test outlier cleaning in future endeavors."
   ]
  }
 ],
 "metadata": {
  "kernelspec": {
   "display_name": "Python 3",
   "language": "python",
   "name": "python3"
  },
  "language_info": {
   "codemirror_mode": {
    "name": "ipython",
    "version": 3
   },
   "file_extension": ".py",
   "mimetype": "text/x-python",
   "name": "python",
   "nbconvert_exporter": "python",
   "pygments_lexer": "ipython3",
   "version": "3.7.3"
  }
 },
 "nbformat": 4,
 "nbformat_minor": 4
}
